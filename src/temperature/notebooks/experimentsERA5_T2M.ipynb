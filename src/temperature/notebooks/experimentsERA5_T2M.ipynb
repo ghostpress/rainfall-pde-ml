{
 "cells": [
  {
   "cell_type": "markdown",
   "id": "7e51c2d6",
   "metadata": {
    "toc": true
   },
   "source": [
    "<h1>Table of Contents<span class=\"tocSkip\"></span></h1>\n",
    "<div class=\"toc\"><ul class=\"toc-item\"><li><span><a href=\"#Imports-and-setup-functions\" data-toc-modified-id=\"Imports-and-setup-functions-1\"><span class=\"toc-item-num\">1&nbsp;&nbsp;</span>Imports and setup functions</a></span></li><li><span><a href=\"#Experiments\" data-toc-modified-id=\"Experiments-2\"><span class=\"toc-item-num\">2&nbsp;&nbsp;</span>Experiments</a></span><ul class=\"toc-item\"><li><span><a href=\"#de-Bézenac-et-al,-2019:-CNN-with-warp-mapping-on-SST-data\" data-toc-modified-id=\"de-Bézenac-et-al,-2019:-CNN-with-warp-mapping-on-SST-data-2.1\"><span class=\"toc-item-num\">2.1&nbsp;&nbsp;</span>de Bézenac et al, 2019: CNN with warp mapping on SST data</a></span><ul class=\"toc-item\"><li><span><a href=\"#Setup\" data-toc-modified-id=\"Setup-2.1.1\"><span class=\"toc-item-num\">2.1.1&nbsp;&nbsp;</span>Setup</a></span></li><li><span><a href=\"#Regularization-Coefficients\" data-toc-modified-id=\"Regularization-Coefficients-2.1.2\"><span class=\"toc-item-num\">2.1.2&nbsp;&nbsp;</span>Regularization Coefficients</a></span><ul class=\"toc-item\"><li><span><a href=\"#Magnitude\" data-toc-modified-id=\"Magnitude-2.1.2.1\"><span class=\"toc-item-num\">2.1.2.1&nbsp;&nbsp;</span>Magnitude</a></span></li><li><span><a href=\"#Divergence\" data-toc-modified-id=\"Divergence-2.1.2.2\"><span class=\"toc-item-num\">2.1.2.2&nbsp;&nbsp;</span>Divergence</a></span></li><li><span><a href=\"#Smoothness\" data-toc-modified-id=\"Smoothness-2.1.2.3\"><span class=\"toc-item-num\">2.1.2.3&nbsp;&nbsp;</span>Smoothness</a></span></li></ul></li><li><span><a href=\"#Training-with-Squared-Error-Loss\" data-toc-modified-id=\"Training-with-Squared-Error-Loss-2.1.3\"><span class=\"toc-item-num\">2.1.3&nbsp;&nbsp;</span>Training with Squared Error Loss</a></span></li><li><span><a href=\"#Training-with-Regularized-Squared-Error-Loss\" data-toc-modified-id=\"Training-with-Regularized-Squared-Error-Loss-2.1.4\"><span class=\"toc-item-num\">2.1.4&nbsp;&nbsp;</span>Training with Regularized Squared Error Loss</a></span></li></ul></li></ul></li></ul></div>"
   ]
  },
  {
   "cell_type": "markdown",
   "id": "ffb70983",
   "metadata": {},
   "source": [
    "# Imports and setup functions"
   ]
  },
  {
   "cell_type": "code",
   "execution_count": 1,
   "id": "b1cdae72",
   "metadata": {},
   "outputs": [],
   "source": [
    "import os\n",
    "\n",
    "os.chdir(\"/projectnb/labci/Lucia/rainfall-pde-ml/\")"
   ]
  },
  {
   "cell_type": "code",
   "execution_count": 2,
   "id": "e6754139",
   "metadata": {},
   "outputs": [],
   "source": [
    "import datetime\n",
    "import math\n",
    "import torch\n",
    "\n",
    "import matplotlib.pyplot as plt\n",
    "import numpy as np\n",
    "import torch.nn as nn\n",
    "import torch.nn.functional as F\n",
    "\n",
    "from torch.autograd import Function, Variable\n",
    "from functools import reduce\n",
    "from tqdm import trange\n",
    "\n",
    "#from src.dataloader.SSTLoader import SSTLoader\n",
    "from src.datasets.ERA5Dataset import ERA5Dataset\n",
    "from src.models.BezConv import BezConv\n",
    "from src.temperature.Experiment import Experiment\n",
    "from src.temperature import utils"
   ]
  },
  {
   "cell_type": "code",
   "execution_count": 3,
   "id": "aa84e425",
   "metadata": {},
   "outputs": [
    {
     "name": "stdout",
     "output_type": "stream",
     "text": [
      "True\n",
      "1\n",
      "0\n"
     ]
    },
    {
     "data": {
      "text/plain": [
       "'Tesla V100-PCIE-16GB'"
      ]
     },
     "execution_count": 3,
     "metadata": {},
     "output_type": "execute_result"
    }
   ],
   "source": [
    "print(torch.cuda.is_available())\n",
    "print(torch.cuda.device_count())\n",
    "print(torch.cuda.current_device())\n",
    "\n",
    "torch.cuda.get_device_name(0)"
   ]
  },
  {
   "cell_type": "code",
   "execution_count": 4,
   "id": "58ebe3ff",
   "metadata": {},
   "outputs": [
    {
     "name": "stdout",
     "output_type": "stream",
     "text": [
      "Using device: cuda\n",
      "\n",
      "Tesla V100-PCIE-16GB\n",
      "Memory Usage:\n",
      "Allocated: 0.0 GB\n",
      "Cached:    0.0 GB\n"
     ]
    }
   ],
   "source": [
    "device = torch.device('cuda' if torch.cuda.is_available() else 'cpu')\n",
    "print('Using device:', device)\n",
    "print()\n",
    "\n",
    "#Additional Info when using cuda\n",
    "if device.type == 'cuda':\n",
    "    print(torch.cuda.get_device_name(0))\n",
    "    print('Memory Usage:')\n",
    "    print('Allocated:', round(torch.cuda.memory_allocated(0)/1024**3,1), 'GB')\n",
    "    print('Cached:   ', round(torch.cuda.memory_reserved(0)/1024**3,1), 'GB')"
   ]
  },
  {
   "cell_type": "code",
   "execution_count": 5,
   "id": "f2088495",
   "metadata": {},
   "outputs": [],
   "source": [
    "def datadir(x):\n",
    "    return \"/projectnb/labci/Lucia/data/\" + x"
   ]
  },
  {
   "cell_type": "markdown",
   "id": "e06015e1",
   "metadata": {},
   "source": [
    "# Experiments"
   ]
  },
  {
   "cell_type": "markdown",
   "id": "4ade1fba",
   "metadata": {},
   "source": [
    "## de Bézenac et al, 2019: CNN with warp mapping on SST data"
   ]
  },
  {
   "cell_type": "markdown",
   "id": "272c33ed",
   "metadata": {},
   "source": [
    "### Setup: load files in dataset"
   ]
  },
  {
   "cell_type": "code",
   "execution_count": 6,
   "id": "14566a8e",
   "metadata": {},
   "outputs": [],
   "source": [
    "torch.manual_seed(42)\n",
    "\n",
    "temp_files = os.listdir(datadir(\"era5_npy/temperature_resized/\"))\n",
    "for i in range(len(temp_files)):\n",
    "    temp_files[i] = datadir(\"era5_npy/temperature_resized/\") + temp_files[i]\n",
    "temp_files.sort()\n",
    "\n",
    "wind_files = os.listdir(datadir(\"era5_npy/wind_resized/\"))\n",
    "for i in range(len(wind_files)):\n",
    "    wind_files[i] = datadir(\"era5_npy/wind_resized/\") + wind_files[i]\n",
    "wind_files.sort()\n",
    "\n",
    "dict1 = {\"temperature\": temp_files, \"wind\": wind_files}\n",
    "dict2 = {0: \"temperature\", 1: \"wind\"}\n",
    "k = 4\n",
    "E5D = ERA5Dataset(naming_conv=\"ERA5_npy\", variable_files=dict1, variable_ids=dict2, history=k, hour=3)"
   ]
  },
  {
   "cell_type": "markdown",
   "id": "39c6e908",
   "metadata": {},
   "source": [
    "### Create dataloaders "
   ]
  },
  {
   "cell_type": "code",
   "execution_count": 7,
   "id": "c5f25146",
   "metadata": {},
   "outputs": [
    {
     "name": "stdout",
     "output_type": "stream",
     "text": [
      "Splitting dataset for variable 0: temperature\n",
      "Splitting dataset for variable 1: wind\n"
     ]
    }
   ],
   "source": [
    "split = E5D.train_val_test_split([0.8, 0.1, 0.1])\n",
    "Train = split[0]\n",
    "Val = split[1]\n",
    "Test = split[2]\n",
    "\n",
    "training_loader = torch.utils.data.DataLoader(Train, batch_size=16, shuffle=True)\n",
    "val_loader = torch.utils.data.DataLoader(Val, batch_size=16, shuffle=True)  \n",
    "test_loader = torch.utils.data.DataLoader(Test, batch_size=16, shuffle=False)"
   ]
  },
  {
   "cell_type": "code",
   "execution_count": 8,
   "id": "cbff780a",
   "metadata": {
    "scrolled": true
   },
   "outputs": [
    {
     "name": "stdout",
     "output_type": "stream",
     "text": [
      "Data batch shape: torch.Size([16, 4, 64, 64])\n",
      "Ends batch shape: torch.Size([16, 64, 64])\n",
      "Wind batch shape: torch.Size([16, 2, 64, 64])\n"
     ]
    }
   ],
   "source": [
    "X, y, W = next(iter(training_loader))\n",
    "print(f\"Data batch shape: {X.size()}\")\n",
    "print(f\"Ends batch shape: {y.size()}\")\n",
    "print(f\"Wind batch shape: {W.size()}\")"
   ]
  },
  {
   "cell_type": "code",
   "execution_count": 9,
   "id": "d69e4463",
   "metadata": {},
   "outputs": [
    {
     "name": "stdout",
     "output_type": "stream",
     "text": [
      "433\n",
      "54\n",
      "54\n"
     ]
    }
   ],
   "source": [
    "print(len(training_loader))\n",
    "print(len(val_loader))\n",
    "print(len(test_loader))"
   ]
  },
  {
   "cell_type": "code",
   "execution_count": 10,
   "id": "d0915585",
   "metadata": {},
   "outputs": [
    {
     "data": {
      "text/plain": [
       "<matplotlib.colorbar.Colorbar at 0x151e4cdc9fd0>"
      ]
     },
     "execution_count": 10,
     "metadata": {},
     "output_type": "execute_result"
    },
    {
     "data": {
      "image/png": "[encoded data removed]",
      "text/plain": [
       "<Figure size 800x800 with 8 Axes>"
      ]
     },
     "metadata": {},
     "output_type": "display_data"
    }
   ],
   "source": [
    "fig, axes = plt.subplots(nrows=2, ncols=2, figsize=(8, 8))\n",
    "ax1 = axes[0][0]\n",
    "ax2 = axes[0][1]\n",
    "ax3 = axes[1][0]\n",
    "ax4 = axes[1][1]\n",
    "\n",
    "xplot = ax1.imshow(X[0][0])\n",
    "ax1.set_title(\"X[0][0]\")\n",
    "fig.colorbar(xplot, ax=ax1)\n",
    "\n",
    "yplot = ax2.imshow(y[0])\n",
    "ax2.set_title(\"y[0]\")\n",
    "fig.colorbar(yplot, ax=ax2)\n",
    "\n",
    "wuplot = ax3.imshow(W[0][0], cmap=\"magma\")\n",
    "ax3.set_title(\"W[0][0]\")\n",
    "fig.colorbar(wuplot, ax=ax3)\n",
    "\n",
    "wvplot = ax4.imshow(W[0][1], cmap=\"magma\")\n",
    "ax4.set_title(\"W[0][1]\")\n",
    "fig.colorbar(wvplot, ax=ax4)"
   ]
  },
  {
   "cell_type": "code",
   "execution_count": 11,
   "id": "539b084e",
   "metadata": {
    "scrolled": true
   },
   "outputs": [
    {
     "name": "stdout",
     "output_type": "stream",
     "text": [
      "Already ran experiments today.\n"
     ]
    }
   ],
   "source": [
    "try:\n",
    "    os.mkdir(\"/projectnb/labci/Lucia/rainfall-pde-ml/experiments/\" + str(datetime.date.today()))\n",
    "except FileExistsError as e:\n",
    "    print(\"Already ran experiments today.\")\n",
    "finally:\n",
    "    path = \"/projectnb/labci/Lucia/rainfall-pde-ml/experiments/\" + str(datetime.date.today())"
   ]
  },
  {
   "cell_type": "markdown",
   "id": "1649a709",
   "metadata": {},
   "source": [
    "### Experiment 0: No Regularization, Constrain Wind"
   ]
  },
  {
   "cell_type": "code",
   "execution_count": 12,
   "id": "ba44ee4b",
   "metadata": {
    "scrolled": true
   },
   "outputs": [
    {
     "name": "stdout",
     "output_type": "stream",
     "text": [
      "Created new directory to save model states and results: /projectnb/labci/Lucia/rainfall-pde-ml/experiments/2023-12-14/GhanaTemp_wind_50\n",
      "Running experiment: GhanaTemp_wind_50...\n",
      "Training over 50 epochs...\n"
     ]
    },
    {
     "name": "stderr",
     "output_type": "stream",
     "text": [
      "Training:   2%|▏         | 1/50 [01:18<1:04:17, 78.71s/Epoch]"
     ]
    },
    {
     "name": "stdout",
     "output_type": "stream",
     "text": [
      "Mean Training Loss: 12788117.60551\n",
      "Validation Loss:  359577.76042\n",
      "Saved checkpoint at epoch 0\n"
     ]
    },
    {
     "name": "stderr",
     "output_type": "stream",
     "text": [
      "\r",
      "Training:   4%|▍         | 2/50 [02:36<1:02:20, 77.93s/Epoch]"
     ]
    },
    {
     "name": "stdout",
     "output_type": "stream",
     "text": [
      "Mean Training Loss: 1088262.57376\n",
      "Validation Loss:  281696.78472\n"
     ]
    },
    {
     "name": "stderr",
     "output_type": "stream",
     "text": [
      "\r",
      "Training:   6%|▌         | 3/50 [03:53<1:00:52, 77.70s/Epoch]"
     ]
    },
    {
     "name": "stdout",
     "output_type": "stream",
     "text": [
      "Mean Training Loss: 824118.47553\n",
      "Validation Loss:  252989.28385\n"
     ]
    },
    {
     "name": "stderr",
     "output_type": "stream",
     "text": [
      "\r",
      "Training:   8%|▊         | 4/50 [05:10<59:29, 77.59s/Epoch]  "
     ]
    },
    {
     "name": "stdout",
     "output_type": "stream",
     "text": [
      "Mean Training Loss: 744381.01667\n",
      "Validation Loss:  248801.92216\n"
     ]
    },
    {
     "name": "stderr",
     "output_type": "stream",
     "text": [
      "\r",
      "Training:  10%|█         | 5/50 [06:28<58:09, 77.53s/Epoch]"
     ]
    },
    {
     "name": "stdout",
     "output_type": "stream",
     "text": [
      "Mean Training Loss: 1347555.17509\n",
      "Validation Loss:  269195.82755\n"
     ]
    },
    {
     "name": "stderr",
     "output_type": "stream",
     "text": [
      "\r",
      "Training:  12%|█▏        | 6/50 [07:45<56:49, 77.48s/Epoch]"
     ]
    },
    {
     "name": "stdout",
     "output_type": "stream",
     "text": [
      "Mean Training Loss: 743113.7736\n",
      "Validation Loss:  242732.59259\n"
     ]
    },
    {
     "name": "stderr",
     "output_type": "stream",
     "text": [
      "\r",
      "Training:  14%|█▍        | 7/50 [09:03<55:32, 77.51s/Epoch]"
     ]
    },
    {
     "name": "stdout",
     "output_type": "stream",
     "text": [
      "Mean Training Loss: 674252.00224\n",
      "Validation Loss:  239422.42173\n"
     ]
    },
    {
     "name": "stderr",
     "output_type": "stream",
     "text": [
      "\r",
      "Training:  16%|█▌        | 8/50 [10:20<54:14, 77.48s/Epoch]"
     ]
    },
    {
     "name": "stdout",
     "output_type": "stream",
     "text": [
      "Mean Training Loss: 646236.2303\n",
      "Validation Loss:  235912.21513\n"
     ]
    },
    {
     "name": "stderr",
     "output_type": "stream",
     "text": [
      "\r",
      "Training:  18%|█▊        | 9/50 [11:38<52:56, 77.48s/Epoch]"
     ]
    },
    {
     "name": "stdout",
     "output_type": "stream",
     "text": [
      "Mean Training Loss: 629108.57672\n",
      "Validation Loss:  235801.94575\n"
     ]
    },
    {
     "name": "stderr",
     "output_type": "stream",
     "text": [
      "\r",
      "Training:  20%|██        | 10/50 [12:55<51:41, 77.53s/Epoch]"
     ]
    },
    {
     "name": "stdout",
     "output_type": "stream",
     "text": [
      "Mean Training Loss: 616724.72312\n",
      "Validation Loss:  234129.91233\n"
     ]
    },
    {
     "name": "stderr",
     "output_type": "stream",
     "text": [
      "\r",
      "Training:  22%|██▏       | 11/50 [14:13<50:21, 77.47s/Epoch]"
     ]
    },
    {
     "name": "stdout",
     "output_type": "stream",
     "text": [
      "Mean Training Loss: 608978.8142\n",
      "Validation Loss:  231913.27865\n"
     ]
    },
    {
     "name": "stderr",
     "output_type": "stream",
     "text": [
      "\r",
      "Training:  24%|██▍       | 12/50 [15:30<49:02, 77.43s/Epoch]"
     ]
    },
    {
     "name": "stdout",
     "output_type": "stream",
     "text": [
      "Mean Training Loss: 602256.02324\n",
      "Validation Loss:  231347.45949\n"
     ]
    },
    {
     "name": "stderr",
     "output_type": "stream",
     "text": [
      "\r",
      "Training:  26%|██▌       | 13/50 [16:48<47:45, 77.45s/Epoch]"
     ]
    },
    {
     "name": "stdout",
     "output_type": "stream",
     "text": [
      "Mean Training Loss: 593689.97535\n",
      "Validation Loss:  234549.89598\n"
     ]
    },
    {
     "name": "stderr",
     "output_type": "stream",
     "text": [
      "\r",
      "Training:  28%|██▊       | 14/50 [18:05<46:28, 77.47s/Epoch]"
     ]
    },
    {
     "name": "stdout",
     "output_type": "stream",
     "text": [
      "Mean Training Loss: 589015.52562\n",
      "Validation Loss:  233897.2581\n"
     ]
    },
    {
     "name": "stderr",
     "output_type": "stream",
     "text": [
      "\r",
      "Training:  30%|███       | 15/50 [19:22<45:10, 77.43s/Epoch]"
     ]
    },
    {
     "name": "stdout",
     "output_type": "stream",
     "text": [
      "Mean Training Loss: 581760.78212\n",
      "Validation Loss:  230909.53212\n"
     ]
    },
    {
     "name": "stderr",
     "output_type": "stream",
     "text": [
      "\r",
      "Training:  32%|███▏      | 16/50 [20:40<43:52, 77.42s/Epoch]"
     ]
    },
    {
     "name": "stdout",
     "output_type": "stream",
     "text": [
      "Mean Training Loss: 577422.33285\n",
      "Validation Loss:  230721.60127\n"
     ]
    },
    {
     "name": "stderr",
     "output_type": "stream",
     "text": [
      "\r",
      "Training:  34%|███▍      | 17/50 [21:57<42:33, 77.39s/Epoch]"
     ]
    },
    {
     "name": "stdout",
     "output_type": "stream",
     "text": [
      "Mean Training Loss: 578207.90156\n",
      "Validation Loss:  230605.20747\n"
     ]
    },
    {
     "name": "stderr",
     "output_type": "stream",
     "text": [
      "\r",
      "Training:  36%|███▌      | 18/50 [23:14<41:16, 77.38s/Epoch]"
     ]
    },
    {
     "name": "stdout",
     "output_type": "stream",
     "text": [
      "Mean Training Loss: 570656.57924\n",
      "Validation Loss:  230049.70515\n"
     ]
    },
    {
     "name": "stderr",
     "output_type": "stream",
     "text": [
      "\r",
      "Training:  38%|███▊      | 19/50 [24:32<39:59, 77.40s/Epoch]"
     ]
    },
    {
     "name": "stdout",
     "output_type": "stream",
     "text": [
      "Mean Training Loss: 567113.47387\n",
      "Validation Loss:  231363.91522\n"
     ]
    },
    {
     "name": "stderr",
     "output_type": "stream",
     "text": [
      "\r",
      "Training:  40%|████      | 20/50 [25:49<38:42, 77.41s/Epoch]"
     ]
    },
    {
     "name": "stdout",
     "output_type": "stream",
     "text": [
      "Mean Training Loss: 562381.92287\n",
      "Validation Loss:  232177.82378\n"
     ]
    },
    {
     "name": "stderr",
     "output_type": "stream",
     "text": [
      "\r",
      "Training:  42%|████▏     | 21/50 [27:07<37:25, 77.44s/Epoch]"
     ]
    },
    {
     "name": "stdout",
     "output_type": "stream",
     "text": [
      "Mean Training Loss: 560035.85302\n",
      "Validation Loss:  229984.85243\n"
     ]
    },
    {
     "name": "stderr",
     "output_type": "stream",
     "text": [
      "\r",
      "Training:  44%|████▍     | 22/50 [28:24<36:08, 77.44s/Epoch]"
     ]
    },
    {
     "name": "stdout",
     "output_type": "stream",
     "text": [
      "Mean Training Loss: 556679.97539\n",
      "Validation Loss:  228074.76939\n"
     ]
    },
    {
     "name": "stderr",
     "output_type": "stream",
     "text": [
      "\r",
      "Training:  46%|████▌     | 23/50 [29:42<34:50, 77.41s/Epoch]"
     ]
    },
    {
     "name": "stdout",
     "output_type": "stream",
     "text": [
      "Mean Training Loss: 554522.03796\n",
      "Validation Loss:  228720.25203\n"
     ]
    },
    {
     "name": "stderr",
     "output_type": "stream",
     "text": [
      "\r",
      "Training:  48%|████▊     | 24/50 [30:59<33:34, 77.48s/Epoch]"
     ]
    },
    {
     "name": "stdout",
     "output_type": "stream",
     "text": [
      "Mean Training Loss: 549906.48235\n",
      "Validation Loss:  225862.01678\n"
     ]
    },
    {
     "name": "stderr",
     "output_type": "stream",
     "text": [
      "\r",
      "Training:  50%|█████     | 25/50 [32:17<32:15, 77.42s/Epoch]"
     ]
    },
    {
     "name": "stdout",
     "output_type": "stream",
     "text": [
      "Mean Training Loss: 548122.70222\n",
      "Validation Loss:  229550.47352\n"
     ]
    },
    {
     "name": "stderr",
     "output_type": "stream",
     "text": [
      "\r",
      "Training:  52%|█████▏    | 26/50 [33:34<30:57, 77.38s/Epoch]"
     ]
    },
    {
     "name": "stdout",
     "output_type": "stream",
     "text": [
      "Mean Training Loss: 544976.6676\n",
      "Validation Loss:  228499.47049\n"
     ]
    },
    {
     "name": "stderr",
     "output_type": "stream",
     "text": [
      "\r",
      "Training:  54%|█████▍    | 27/50 [34:51<29:39, 77.36s/Epoch]"
     ]
    },
    {
     "name": "stdout",
     "output_type": "stream",
     "text": [
      "Mean Training Loss: 544527.56806\n",
      "Validation Loss:  229370.52141\n"
     ]
    },
    {
     "name": "stderr",
     "output_type": "stream",
     "text": [
      "\r",
      "Training:  56%|█████▌    | 28/50 [36:08<28:21, 77.34s/Epoch]"
     ]
    },
    {
     "name": "stdout",
     "output_type": "stream",
     "text": [
      "Mean Training Loss: 543491.08567\n",
      "Validation Loss:  226557.37587\n"
     ]
    },
    {
     "name": "stderr",
     "output_type": "stream",
     "text": [
      "\r",
      "Training:  58%|█████▊    | 29/50 [37:26<27:04, 77.34s/Epoch]"
     ]
    },
    {
     "name": "stdout",
     "output_type": "stream",
     "text": [
      "Mean Training Loss: 539706.48928\n",
      "Validation Loss:  227627.85286\n"
     ]
    },
    {
     "name": "stderr",
     "output_type": "stream",
     "text": [
      "\r",
      "Training:  60%|██████    | 30/50 [38:43<25:46, 77.35s/Epoch]"
     ]
    },
    {
     "name": "stdout",
     "output_type": "stream",
     "text": [
      "Mean Training Loss: 536418.95547\n",
      "Validation Loss:  225962.31308\n"
     ]
    },
    {
     "name": "stderr",
     "output_type": "stream",
     "text": [
      "\r",
      "Training:  62%|██████▏   | 31/50 [40:00<24:29, 77.34s/Epoch]"
     ]
    },
    {
     "name": "stdout",
     "output_type": "stream",
     "text": [
      "Mean Training Loss: 536046.92076\n",
      "Validation Loss:  248551.33507\n"
     ]
    },
    {
     "name": "stderr",
     "output_type": "stream",
     "text": [
      "\r",
      "Training:  64%|██████▍   | 32/50 [41:18<23:12, 77.37s/Epoch]"
     ]
    },
    {
     "name": "stdout",
     "output_type": "stream",
     "text": [
      "Mean Training Loss: 532716.42422\n",
      "Validation Loss:  226144.65422\n"
     ]
    },
    {
     "name": "stderr",
     "output_type": "stream",
     "text": [
      "\r",
      "Training:  66%|██████▌   | 33/50 [42:35<21:55, 77.38s/Epoch]"
     ]
    },
    {
     "name": "stdout",
     "output_type": "stream",
     "text": [
      "Mean Training Loss: 532558.20285\n",
      "Validation Loss:  225348.5026\n"
     ]
    },
    {
     "name": "stderr",
     "output_type": "stream",
     "text": [
      "\r",
      "Training:  68%|██████▊   | 34/50 [43:53<20:37, 77.36s/Epoch]"
     ]
    },
    {
     "name": "stdout",
     "output_type": "stream",
     "text": [
      "Mean Training Loss: 529661.18521\n",
      "Validation Loss:  228232.47468\n"
     ]
    },
    {
     "name": "stderr",
     "output_type": "stream",
     "text": [
      "\r",
      "Training:  70%|███████   | 35/50 [45:10<19:20, 77.34s/Epoch]"
     ]
    },
    {
     "name": "stdout",
     "output_type": "stream",
     "text": [
      "Mean Training Loss: 527443.03867\n",
      "Validation Loss:  225570.98727\n"
     ]
    },
    {
     "name": "stderr",
     "output_type": "stream",
     "text": [
      "\r",
      "Training:  72%|███████▏  | 36/50 [46:28<18:05, 77.51s/Epoch]"
     ]
    },
    {
     "name": "stdout",
     "output_type": "stream",
     "text": [
      "Mean Training Loss: 524996.90683\n",
      "Validation Loss:  230896.76317\n"
     ]
    },
    {
     "name": "stderr",
     "output_type": "stream",
     "text": [
      "\r",
      "Training:  74%|███████▍  | 37/50 [47:45<16:46, 77.46s/Epoch]"
     ]
    },
    {
     "name": "stdout",
     "output_type": "stream",
     "text": [
      "Mean Training Loss: 523565.54713\n",
      "Validation Loss:  226494.14337\n"
     ]
    },
    {
     "name": "stderr",
     "output_type": "stream",
     "text": [
      "\r",
      "Training:  76%|███████▌  | 38/50 [49:02<15:29, 77.42s/Epoch]"
     ]
    },
    {
     "name": "stdout",
     "output_type": "stream",
     "text": [
      "Mean Training Loss: 522660.62466\n",
      "Validation Loss:  231915.01765\n"
     ]
    },
    {
     "name": "stderr",
     "output_type": "stream",
     "text": [
      "\r",
      "Training:  78%|███████▊  | 39/50 [50:20<14:11, 77.39s/Epoch]"
     ]
    },
    {
     "name": "stdout",
     "output_type": "stream",
     "text": [
      "Mean Training Loss: 517992.5944\n",
      "Validation Loss:  226938.5191\n"
     ]
    },
    {
     "name": "stderr",
     "output_type": "stream",
     "text": [
      "\r",
      "Training:  80%|████████  | 40/50 [51:37<12:53, 77.35s/Epoch]"
     ]
    },
    {
     "name": "stdout",
     "output_type": "stream",
     "text": [
      "Mean Training Loss: 515676.06957\n",
      "Validation Loss:  291562.16609\n"
     ]
    },
    {
     "name": "stderr",
     "output_type": "stream",
     "text": [
      "\r",
      "Training:  82%|████████▏ | 41/50 [52:54<11:36, 77.34s/Epoch]"
     ]
    },
    {
     "name": "stdout",
     "output_type": "stream",
     "text": [
      "Mean Training Loss: 513312.18313\n",
      "Validation Loss:  221640.00622\n"
     ]
    },
    {
     "name": "stderr",
     "output_type": "stream",
     "text": [
      "\r",
      "Training:  84%|████████▍ | 42/50 [54:12<10:18, 77.35s/Epoch]"
     ]
    },
    {
     "name": "stdout",
     "output_type": "stream",
     "text": [
      "Mean Training Loss: 511055.98308\n",
      "Validation Loss:  228452.96209\n"
     ]
    },
    {
     "name": "stderr",
     "output_type": "stream",
     "text": [
      "\r",
      "Training:  86%|████████▌ | 43/50 [55:29<09:01, 77.34s/Epoch]"
     ]
    },
    {
     "name": "stdout",
     "output_type": "stream",
     "text": [
      "Mean Training Loss: 508958.07149\n",
      "Validation Loss:  229598.5515\n"
     ]
    },
    {
     "name": "stderr",
     "output_type": "stream",
     "text": [
      "\r",
      "Training:  88%|████████▊ | 44/50 [56:47<07:44, 77.39s/Epoch]"
     ]
    },
    {
     "name": "stdout",
     "output_type": "stream",
     "text": [
      "Mean Training Loss: 507840.64539\n",
      "Validation Loss:  223305.35692\n"
     ]
    },
    {
     "name": "stderr",
     "output_type": "stream",
     "text": [
      "\r",
      "Training:  90%|█████████ | 45/50 [58:04<06:27, 77.52s/Epoch]"
     ]
    },
    {
     "name": "stdout",
     "output_type": "stream",
     "text": [
      "Mean Training Loss: 504606.6862\n",
      "Validation Loss:  229860.45327\n"
     ]
    },
    {
     "name": "stderr",
     "output_type": "stream",
     "text": [
      "\r",
      "Training:  92%|█████████▏| 46/50 [59:22<05:10, 77.50s/Epoch]"
     ]
    },
    {
     "name": "stdout",
     "output_type": "stream",
     "text": [
      "Mean Training Loss: 502562.29161\n",
      "Validation Loss:  224151.30657\n"
     ]
    },
    {
     "name": "stderr",
     "output_type": "stream",
     "text": [
      "\r",
      "Training:  94%|█████████▍| 47/50 [1:00:39<03:52, 77.44s/Epoch]"
     ]
    },
    {
     "name": "stdout",
     "output_type": "stream",
     "text": [
      "Mean Training Loss: 498931.94021\n",
      "Validation Loss:  223725.03892\n"
     ]
    },
    {
     "name": "stderr",
     "output_type": "stream",
     "text": [
      "\r",
      "Training:  96%|█████████▌| 48/50 [1:01:57<02:34, 77.48s/Epoch]"
     ]
    },
    {
     "name": "stdout",
     "output_type": "stream",
     "text": [
      "Mean Training Loss: 496490.17252\n",
      "Validation Loss:  228734.00014\n"
     ]
    },
    {
     "name": "stderr",
     "output_type": "stream",
     "text": [
      "\r",
      "Training:  98%|█████████▊| 49/50 [1:03:14<01:17, 77.44s/Epoch]"
     ]
    },
    {
     "name": "stdout",
     "output_type": "stream",
     "text": [
      "Mean Training Loss: 496204.97994\n",
      "Validation Loss:  222389.69719\n"
     ]
    },
    {
     "name": "stderr",
     "output_type": "stream",
     "text": [
      "Training: 100%|██████████| 50/50 [1:04:32<00:00, 77.45s/Epoch]"
     ]
    },
    {
     "name": "stdout",
     "output_type": "stream",
     "text": [
      "Mean Training Loss: 491915.45933\n",
      "Validation Loss:  224949.37876\n"
     ]
    },
    {
     "name": "stderr",
     "output_type": "stream",
     "text": [
      "\n"
     ]
    }
   ],
   "source": [
    "net0 = BezConv(device, [0,0,0], hist=4).to(device)\n",
    "optim=torch.optim.Adam(net0.parameters(), lr=1e-4, weight_decay=4e-4)\n",
    "exp_w0 = Experiment(name=\"GhanaTemp_wind_50\", \n",
    "                    trainset=training_loader,\n",
    "                    valset=val_loader, \n",
    "                    testset=None,\n",
    "                    model=net0,\n",
    "                    regloss=False,\n",
    "                    test_loss=nn.MSELoss(reduction=\"mean\"),  \n",
    "                    optimizer=optim,\n",
    "                    outdir=path,\n",
    "                    device=device,\n",
    "                    windloss=True)\n",
    "\n",
    "exp_w0.run(epochs=50)\n",
    "exp_w0.visualize_examples(val_loader, \"validationImage\")  \n",
    "exp_w0.plot_loss(\"Performance in Training\", \"Epoch\", [\"train\", \"val\"], \"lossPlot\")"
   ]
  },
  {
   "cell_type": "markdown",
   "id": "35084ce5",
   "metadata": {},
   "source": [
    "### Experiment 1: No Regularization, No Wind Constraints"
   ]
  },
  {
   "cell_type": "code",
   "execution_count": 12,
   "id": "09127025",
   "metadata": {
    "scrolled": true
   },
   "outputs": [
    {
     "name": "stdout",
     "output_type": "stream",
     "text": [
      "Created new directory to save model states and results: /projectnb/labci/Lucia/rainfall-pde-ml/experiments/2023-12-14/GhanaTemp_noWind_50\n",
      "Running experiment: GhanaTemp_noWind_50...\n",
      "Training over 50 epochs...\n"
     ]
    },
    {
     "name": "stderr",
     "output_type": "stream",
     "text": [
      "Training:   2%|▏         | 1/50 [01:18<1:04:04, 78.47s/Epoch]"
     ]
    },
    {
     "name": "stdout",
     "output_type": "stream",
     "text": [
      "Mean Training Loss: 11255810.61843\n",
      "Validation Loss:  416339.74421\n",
      "Saved checkpoint at epoch 0\n"
     ]
    },
    {
     "name": "stderr",
     "output_type": "stream",
     "text": [
      "\r",
      "Training:   4%|▍         | 2/50 [02:35<1:02:11, 77.74s/Epoch]"
     ]
    },
    {
     "name": "stdout",
     "output_type": "stream",
     "text": [
      "Mean Training Loss: 328265.03103\n",
      "Validation Loss:  312180.15046\n"
     ]
    },
    {
     "name": "stderr",
     "output_type": "stream",
     "text": [
      "\r",
      "Training:   6%|▌         | 3/50 [03:53<1:00:46, 77.58s/Epoch]"
     ]
    },
    {
     "name": "stdout",
     "output_type": "stream",
     "text": [
      "Mean Training Loss: 267399.93357\n",
      "Validation Loss:  267066.11516\n"
     ]
    },
    {
     "name": "stderr",
     "output_type": "stream",
     "text": [
      "\r",
      "Training:   8%|▊         | 4/50 [05:10<59:28, 77.57s/Epoch]  "
     ]
    },
    {
     "name": "stdout",
     "output_type": "stream",
     "text": [
      "Mean Training Loss: 298101.29117\n",
      "Validation Loss:  286057.52922\n"
     ]
    },
    {
     "name": "stderr",
     "output_type": "stream",
     "text": [
      "\r",
      "Training:  10%|█         | 5/50 [06:28<58:12, 77.62s/Epoch]"
     ]
    },
    {
     "name": "stdout",
     "output_type": "stream",
     "text": [
      "Mean Training Loss: 250304.06622\n",
      "Validation Loss:  257213.24392\n"
     ]
    },
    {
     "name": "stderr",
     "output_type": "stream",
     "text": [
      "\r",
      "Training:  12%|█▏        | 6/50 [07:46<56:55, 77.63s/Epoch]"
     ]
    },
    {
     "name": "stdout",
     "output_type": "stream",
     "text": [
      "Mean Training Loss: 237183.68016\n",
      "Validation Loss:  254483.62587\n"
     ]
    },
    {
     "name": "stderr",
     "output_type": "stream",
     "text": [
      "\r",
      "Training:  14%|█▍        | 7/50 [09:03<55:37, 77.61s/Epoch]"
     ]
    },
    {
     "name": "stdout",
     "output_type": "stream",
     "text": [
      "Mean Training Loss: 229709.73952\n",
      "Validation Loss:  236858.69126\n"
     ]
    },
    {
     "name": "stderr",
     "output_type": "stream",
     "text": [
      "\r",
      "Training:  16%|█▌        | 8/50 [10:21<54:21, 77.65s/Epoch]"
     ]
    },
    {
     "name": "stdout",
     "output_type": "stream",
     "text": [
      "Mean Training Loss: 226039.30185\n",
      "Validation Loss:  250679.28935\n"
     ]
    },
    {
     "name": "stderr",
     "output_type": "stream",
     "text": [
      "\r",
      "Training:  18%|█▊        | 9/50 [11:38<52:58, 77.52s/Epoch]"
     ]
    },
    {
     "name": "stdout",
     "output_type": "stream",
     "text": [
      "Mean Training Loss: 392346.03679\n",
      "Validation Loss:  266121.59433\n"
     ]
    },
    {
     "name": "stderr",
     "output_type": "stream",
     "text": [
      "\r",
      "Training:  20%|██        | 10/50 [13:06<53:44, 80.62s/Epoch]"
     ]
    },
    {
     "name": "stdout",
     "output_type": "stream",
     "text": [
      "Mean Training Loss: 235728.47281\n",
      "Validation Loss:  243531.14062\n"
     ]
    },
    {
     "name": "stderr",
     "output_type": "stream",
     "text": [
      "\r",
      "Training:  22%|██▏       | 11/50 [14:23<51:49, 79.74s/Epoch]"
     ]
    },
    {
     "name": "stdout",
     "output_type": "stream",
     "text": [
      "Mean Training Loss: 232068.35553\n",
      "Validation Loss:  233875.79832\n"
     ]
    },
    {
     "name": "stderr",
     "output_type": "stream",
     "text": [
      "\r",
      "Training:  24%|██▍       | 12/50 [15:41<50:03, 79.03s/Epoch]"
     ]
    },
    {
     "name": "stdout",
     "output_type": "stream",
     "text": [
      "Mean Training Loss: 221257.85263\n",
      "Validation Loss:  225251.69575\n"
     ]
    },
    {
     "name": "stderr",
     "output_type": "stream",
     "text": [
      "\r",
      "Training:  26%|██▌       | 13/50 [16:58<48:26, 78.54s/Epoch]"
     ]
    },
    {
     "name": "stdout",
     "output_type": "stream",
     "text": [
      "Mean Training Loss: 215830.68566\n",
      "Validation Loss:  220423.05295\n"
     ]
    },
    {
     "name": "stderr",
     "output_type": "stream",
     "text": [
      "\r",
      "Training:  28%|██▊       | 14/50 [18:15<46:53, 78.16s/Epoch]"
     ]
    },
    {
     "name": "stdout",
     "output_type": "stream",
     "text": [
      "Mean Training Loss: 234831.06508\n",
      "Validation Loss:  241225.02546\n"
     ]
    },
    {
     "name": "stderr",
     "output_type": "stream",
     "text": [
      "\r",
      "Training:  30%|███       | 15/50 [19:33<45:26, 77.89s/Epoch]"
     ]
    },
    {
     "name": "stdout",
     "output_type": "stream",
     "text": [
      "Mean Training Loss: 218315.1974\n",
      "Validation Loss:  224629.47859\n"
     ]
    },
    {
     "name": "stderr",
     "output_type": "stream",
     "text": [
      "\r",
      "Training:  32%|███▏      | 16/50 [20:50<44:04, 77.78s/Epoch]"
     ]
    },
    {
     "name": "stdout",
     "output_type": "stream",
     "text": [
      "Mean Training Loss: 213791.47048\n",
      "Validation Loss:  217779.7011\n"
     ]
    },
    {
     "name": "stderr",
     "output_type": "stream",
     "text": [
      "\r",
      "Training:  34%|███▍      | 17/50 [22:07<42:41, 77.62s/Epoch]"
     ]
    },
    {
     "name": "stdout",
     "output_type": "stream",
     "text": [
      "Mean Training Loss: 212891.41067\n",
      "Validation Loss:  223582.44473\n"
     ]
    },
    {
     "name": "stderr",
     "output_type": "stream",
     "text": [
      "\r",
      "Training:  36%|███▌      | 18/50 [23:25<41:20, 77.52s/Epoch]"
     ]
    },
    {
     "name": "stdout",
     "output_type": "stream",
     "text": [
      "Mean Training Loss: 210430.81165\n",
      "Validation Loss:  225187.29051\n"
     ]
    },
    {
     "name": "stderr",
     "output_type": "stream",
     "text": [
      "\r",
      "Training:  38%|███▊      | 19/50 [24:42<40:00, 77.42s/Epoch]"
     ]
    },
    {
     "name": "stdout",
     "output_type": "stream",
     "text": [
      "Mean Training Loss: 211642.24928\n",
      "Validation Loss:  213974.54514\n"
     ]
    },
    {
     "name": "stderr",
     "output_type": "stream",
     "text": [
      "\r",
      "Training:  40%|████      | 20/50 [25:59<38:41, 77.38s/Epoch]"
     ]
    },
    {
     "name": "stdout",
     "output_type": "stream",
     "text": [
      "Mean Training Loss: 208724.48862\n",
      "Validation Loss:  214998.27228\n"
     ]
    },
    {
     "name": "stderr",
     "output_type": "stream",
     "text": [
      "\r",
      "Training:  42%|████▏     | 21/50 [27:17<37:23, 77.35s/Epoch]"
     ]
    },
    {
     "name": "stdout",
     "output_type": "stream",
     "text": [
      "Mean Training Loss: 206123.37231\n",
      "Validation Loss:  209309.45457\n"
     ]
    },
    {
     "name": "stderr",
     "output_type": "stream",
     "text": [
      "\r",
      "Training:  44%|████▍     | 22/50 [28:34<36:04, 77.32s/Epoch]"
     ]
    },
    {
     "name": "stdout",
     "output_type": "stream",
     "text": [
      "Mean Training Loss: 204612.78037\n",
      "Validation Loss:  208228.23322\n"
     ]
    },
    {
     "name": "stderr",
     "output_type": "stream",
     "text": [
      "\r",
      "Training:  46%|████▌     | 23/50 [29:51<34:46, 77.29s/Epoch]"
     ]
    },
    {
     "name": "stdout",
     "output_type": "stream",
     "text": [
      "Mean Training Loss: 1095305.96797\n",
      "Validation Loss:  251312.33536\n"
     ]
    },
    {
     "name": "stderr",
     "output_type": "stream",
     "text": [
      "\r",
      "Training:  48%|████▊     | 24/50 [31:08<33:29, 77.29s/Epoch]"
     ]
    },
    {
     "name": "stdout",
     "output_type": "stream",
     "text": [
      "Mean Training Loss: 230245.3647\n",
      "Validation Loss:  232025.80035\n"
     ]
    },
    {
     "name": "stderr",
     "output_type": "stream",
     "text": [
      "\r",
      "Training:  50%|█████     | 25/50 [32:44<34:29, 82.78s/Epoch]"
     ]
    },
    {
     "name": "stdout",
     "output_type": "stream",
     "text": [
      "Mean Training Loss: 221741.24262\n",
      "Validation Loss:  223713.66782\n"
     ]
    },
    {
     "name": "stderr",
     "output_type": "stream",
     "text": [
      "\r",
      "Training:  52%|█████▏    | 26/50 [34:01<32:29, 81.21s/Epoch]"
     ]
    },
    {
     "name": "stdout",
     "output_type": "stream",
     "text": [
      "Mean Training Loss: 218969.51684\n",
      "Validation Loss:  220357.67578\n"
     ]
    },
    {
     "name": "stderr",
     "output_type": "stream",
     "text": [
      "\r",
      "Training:  54%|█████▍    | 27/50 [35:19<30:41, 80.06s/Epoch]"
     ]
    },
    {
     "name": "stdout",
     "output_type": "stream",
     "text": [
      "Mean Training Loss: 216597.52015\n",
      "Validation Loss:  237143.57957\n"
     ]
    },
    {
     "name": "stderr",
     "output_type": "stream",
     "text": [
      "\r",
      "Training:  56%|█████▌    | 28/50 [36:36<29:03, 79.27s/Epoch]"
     ]
    },
    {
     "name": "stdout",
     "output_type": "stream",
     "text": [
      "Mean Training Loss: 214458.17104\n",
      "Validation Loss:  216566.75984\n"
     ]
    },
    {
     "name": "stderr",
     "output_type": "stream",
     "text": [
      "\r",
      "Training:  58%|█████▊    | 29/50 [37:54<27:32, 78.69s/Epoch]"
     ]
    },
    {
     "name": "stdout",
     "output_type": "stream",
     "text": [
      "Mean Training Loss: 211418.90446\n",
      "Validation Loss:  213983.19184\n"
     ]
    },
    {
     "name": "stderr",
     "output_type": "stream",
     "text": [
      "\r",
      "Training:  60%|██████    | 30/50 [39:11<26:05, 78.28s/Epoch]"
     ]
    },
    {
     "name": "stdout",
     "output_type": "stream",
     "text": [
      "Mean Training Loss: 209665.67721\n",
      "Validation Loss:  213432.82292\n"
     ]
    },
    {
     "name": "stderr",
     "output_type": "stream",
     "text": [
      "\r",
      "Training:  62%|██████▏   | 31/50 [40:28<24:41, 77.99s/Epoch]"
     ]
    },
    {
     "name": "stdout",
     "output_type": "stream",
     "text": [
      "Mean Training Loss: 237977.87317\n",
      "Validation Loss:  228121.7908\n"
     ]
    },
    {
     "name": "stderr",
     "output_type": "stream",
     "text": [
      "\r",
      "Training:  64%|██████▍   | 32/50 [41:46<23:21, 77.86s/Epoch]"
     ]
    },
    {
     "name": "stdout",
     "output_type": "stream",
     "text": [
      "Mean Training Loss: 216614.20808\n",
      "Validation Loss:  219021.81163\n"
     ]
    },
    {
     "name": "stderr",
     "output_type": "stream",
     "text": [
      "\r",
      "Training:  70%|███████   | 35/50 [45:38<19:25, 77.67s/Epoch]"
     ]
    },
    {
     "name": "stdout",
     "output_type": "stream",
     "text": [
      "Mean Training Loss: 207358.38017\n",
      "Validation Loss:  210688.25868\n"
     ]
    },
    {
     "name": "stderr",
     "output_type": "stream",
     "text": [
      "\r",
      "Training:  72%|███████▏  | 36/50 [46:56<18:06, 77.59s/Epoch]"
     ]
    },
    {
     "name": "stdout",
     "output_type": "stream",
     "text": [
      "Mean Training Loss: 205759.89021\n",
      "Validation Loss:  209761.97786\n"
     ]
    },
    {
     "name": "stderr",
     "output_type": "stream",
     "text": [
      "\r",
      "Training:  74%|███████▍  | 37/50 [48:13<16:48, 77.59s/Epoch]"
     ]
    },
    {
     "name": "stdout",
     "output_type": "stream",
     "text": [
      "Mean Training Loss: 205416.00705\n",
      "Validation Loss:  218272.55527\n"
     ]
    },
    {
     "name": "stderr",
     "output_type": "stream",
     "text": [
      "\r",
      "Training:  76%|███████▌  | 38/50 [49:31<15:30, 77.56s/Epoch]"
     ]
    },
    {
     "name": "stdout",
     "output_type": "stream",
     "text": [
      "Mean Training Loss: 205754.86852\n",
      "Validation Loss:  207376.87543\n"
     ]
    },
    {
     "name": "stderr",
     "output_type": "stream",
     "text": [
      "\r",
      "Training:  78%|███████▊  | 39/50 [50:48<14:12, 77.50s/Epoch]"
     ]
    },
    {
     "name": "stdout",
     "output_type": "stream",
     "text": [
      "Mean Training Loss: 206988.20706\n",
      "Validation Loss:  220475.59028\n"
     ]
    },
    {
     "name": "stderr",
     "output_type": "stream",
     "text": [
      "\r",
      "Training:  80%|████████  | 40/50 [52:06<12:55, 77.54s/Epoch]"
     ]
    },
    {
     "name": "stdout",
     "output_type": "stream",
     "text": [
      "Mean Training Loss: 206671.39972\n",
      "Validation Loss:  209026.49826\n"
     ]
    },
    {
     "name": "stderr",
     "output_type": "stream",
     "text": [
      "\r",
      "Training:  82%|████████▏ | 41/50 [53:24<11:38, 77.57s/Epoch]"
     ]
    },
    {
     "name": "stdout",
     "output_type": "stream",
     "text": [
      "Mean Training Loss: 211666.95755\n",
      "Validation Loss:  209891.19227\n"
     ]
    },
    {
     "name": "stderr",
     "output_type": "stream",
     "text": [
      "\r",
      "Training:  84%|████████▍ | 42/50 [54:41<10:20, 77.55s/Epoch]"
     ]
    },
    {
     "name": "stdout",
     "output_type": "stream",
     "text": [
      "Mean Training Loss: 205988.04745\n",
      "Validation Loss:  218300.06554\n"
     ]
    },
    {
     "name": "stderr",
     "output_type": "stream",
     "text": [
      "\r",
      "Training:  86%|████████▌ | 43/50 [55:59<09:03, 77.59s/Epoch]"
     ]
    },
    {
     "name": "stdout",
     "output_type": "stream",
     "text": [
      "Mean Training Loss: 210904.46415\n",
      "Validation Loss:  213520.72483\n"
     ]
    },
    {
     "name": "stderr",
     "output_type": "stream",
     "text": [
      "\r",
      "Training:  88%|████████▊ | 44/50 [57:16<07:45, 77.55s/Epoch]"
     ]
    },
    {
     "name": "stdout",
     "output_type": "stream",
     "text": [
      "Mean Training Loss: 207082.85984\n",
      "Validation Loss:  208083.36386\n"
     ]
    },
    {
     "name": "stderr",
     "output_type": "stream",
     "text": [
      "\r",
      "Training:  90%|█████████ | 45/50 [58:34<06:27, 77.53s/Epoch]"
     ]
    },
    {
     "name": "stdout",
     "output_type": "stream",
     "text": [
      "Mean Training Loss: 204932.7754\n",
      "Validation Loss:  238917.62211\n"
     ]
    },
    {
     "name": "stderr",
     "output_type": "stream",
     "text": [
      "\r",
      "Training:  92%|█████████▏| 46/50 [59:51<05:10, 77.54s/Epoch]"
     ]
    },
    {
     "name": "stdout",
     "output_type": "stream",
     "text": [
      "Mean Training Loss: 206003.89311\n",
      "Validation Loss:  223292.54311\n"
     ]
    },
    {
     "name": "stderr",
     "output_type": "stream",
     "text": [
      "\r",
      "Training:  94%|█████████▍| 47/50 [1:01:09<03:52, 77.53s/Epoch]"
     ]
    },
    {
     "name": "stdout",
     "output_type": "stream",
     "text": [
      "Mean Training Loss: 206061.20045\n",
      "Validation Loss:  209554.50796\n"
     ]
    },
    {
     "name": "stderr",
     "output_type": "stream",
     "text": [
      "\r",
      "Training:  96%|█████████▌| 48/50 [1:02:26<02:34, 77.47s/Epoch]"
     ]
    },
    {
     "name": "stdout",
     "output_type": "stream",
     "text": [
      "Mean Training Loss: 208877.26815\n",
      "Validation Loss:  225904.96687\n"
     ]
    },
    {
     "name": "stderr",
     "output_type": "stream",
     "text": [
      "\r",
      "Training:  98%|█████████▊| 49/50 [1:03:44<01:17, 77.45s/Epoch]"
     ]
    },
    {
     "name": "stdout",
     "output_type": "stream",
     "text": [
      "Mean Training Loss: 208500.95543\n",
      "Validation Loss:  253665.57378\n"
     ]
    },
    {
     "name": "stderr",
     "output_type": "stream",
     "text": [
      "Training: 100%|██████████| 50/50 [1:05:02<00:00, 78.04s/Epoch]"
     ]
    },
    {
     "name": "stdout",
     "output_type": "stream",
     "text": [
      "Mean Training Loss: 204554.99053\n",
      "Validation Loss:  207962.42549\n"
     ]
    },
    {
     "name": "stderr",
     "output_type": "stream",
     "text": [
      "\n"
     ]
    }
   ],
   "source": [
    "# TODO: create new bool in constructor for dataloader -> windloss is not enough to check for\n",
    "# how many variables are in dataloaders\n",
    "\n",
    "# TODO: also plot last input image to make sure it's not copying\n",
    "\n",
    "net1 = BezConv(device, [0,0,0], hist=4).to(device)\n",
    "optim=torch.optim.Adam(net1.parameters(), lr=1e-4, weight_decay=4e-4)\n",
    "exp_nw = Experiment(name=\"GhanaTemp_noWind_50\", \n",
    "                    trainset=training_loader,\n",
    "                    valset=val_loader, \n",
    "                    testset=None,\n",
    "                    model=net1,\n",
    "                    regloss=False,\n",
    "                    test_loss=nn.MSELoss(reduction=\"mean\"),  \n",
    "                    optimizer=optim,\n",
    "                    outdir=path,\n",
    "                    device=device,\n",
    "                    windloss=False)\n",
    "\n",
    "exp_nw.run(epochs=50)\n",
    "exp_nw.visualize_examples(val_loader, \"validationImage\")  \n",
    "exp_nw.plot_loss(\"Performance in Training\", \"Epoch\", [\"train\", \"val\"], \"lossPlot\")"
   ]
  }
 ],
 "metadata": {
  "kernelspec": {
   "display_name": "Python 3 (ipykernel)",
   "language": "python",
   "name": "python3"
  },
  "language_info": {
   "codemirror_mode": {
    "name": "ipython",
    "version": 3
   },
   "file_extension": ".py",
   "mimetype": "text/x-python",
   "name": "python",
   "nbconvert_exporter": "python",
   "pygments_lexer": "ipython3",
   "version": "3.9.17"
  },
  "toc": {
   "base_numbering": 1,
   "nav_menu": {},
   "number_sections": true,
   "sideBar": true,
   "skip_h1_title": false,
   "title_cell": "Table of Contents",
   "title_sidebar": "Contents",
   "toc_cell": true,
   "toc_position": {
    "height": "calc(100% - 180px)",
    "left": "10px",
    "top": "150px",
    "width": "218.182px"
   },
   "toc_section_display": true,
   "toc_window_display": true
  }
 },
 "nbformat": 4,
 "nbformat_minor": 5
}
