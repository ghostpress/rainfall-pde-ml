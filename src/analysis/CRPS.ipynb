{
 "cells": [
  {
   "cell_type": "code",
   "execution_count": 5,
   "id": "73c61143",
   "metadata": {},
   "outputs": [],
   "source": [
    "import numpy as np\n",
    "import torch\n",
    "from torch.distributions.normal import Normal as N"
   ]
  },
  {
   "cell_type": "markdown",
   "id": "b7ea055d",
   "metadata": {},
   "source": [
    "$CRPS(\\mathcal{N}(\\mu, \\sigma), x) = \\sigma \\bigl[ \\frac{1}{\\sqrt{\\pi}} - 2 \\phi(\\frac{x-\\mu}{\\sigma}) - \\frac{x-\\mu}{\\sigma}\\bigl(2\\Phi(\\frac{x-\\mu}{\\sigma}) -1 \\bigr)\\bigr]$"
   ]
  },
  {
   "cell_type": "code",
   "execution_count": 11,
   "id": "394d1626",
   "metadata": {},
   "outputs": [],
   "source": [
    "def crps_gaussian(mu, sigma, x):\n",
    "    \n",
    "    st = (x-mu) / sigma\n",
    "    Z = N(loc=0, scale=1)\n",
    "    pi = torch.acos(torch.zeros(1)).item() * 2\n",
    "    \n",
    "    crps = sigma * (1/torch.sqrt(torch.tensor(pi)) - 2*torch.exp(Z.log_prob(st)) - st*(2*Z.cdf(st) -1))\n",
    "    return crps "
   ]
  },
  {
   "cell_type": "code",
   "execution_count": 12,
   "id": "f42cdfe4",
   "metadata": {},
   "outputs": [
    {
     "data": {
      "text/plain": [
       "tensor([-0.8944])"
      ]
     },
     "execution_count": 12,
     "metadata": {},
     "output_type": "execute_result"
    }
   ],
   "source": [
    "crps_gaussian(torch.tensor([0.1]), torch.tensor([0.01]), 1)"
   ]
  },
  {
   "cell_type": "code",
   "execution_count": 13,
   "id": "89158d4b",
   "metadata": {},
   "outputs": [
    {
     "data": {
      "text/plain": [
       "tensor([-0.0023])"
      ]
     },
     "execution_count": 13,
     "metadata": {},
     "output_type": "execute_result"
    }
   ],
   "source": [
    "crps_gaussian(torch.tensor([0.1]), torch.tensor([0.01]), 0.1)"
   ]
  }
 ],
 "metadata": {
  "kernelspec": {
   "display_name": "Python 3 (ipykernel)",
   "language": "python",
   "name": "python3"
  },
  "language_info": {
   "codemirror_mode": {
    "name": "ipython",
    "version": 3
   },
   "file_extension": ".py",
   "mimetype": "text/x-python",
   "name": "python",
   "nbconvert_exporter": "python",
   "pygments_lexer": "ipython3",
   "version": "3.9.17"
  }
 },
 "nbformat": 4,
 "nbformat_minor": 5
}
