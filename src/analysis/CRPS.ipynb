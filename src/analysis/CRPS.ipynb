{
 "cells": [
  {
   "cell_type": "code",
   "execution_count": 5,
   "id": "73c61143",
   "metadata": {},
   "outputs": [],
   "source": [
    "import numpy as np\n",
    "import torch\n",
    "from torch.distributions.normal import Normal as N"
   ]
  },
  {
   "cell_type": "markdown",
   "id": "0f712c39",
   "metadata": {},
   "source": [
    "$CRPS(\\mathcal{N}(\\mu, \\sigma), x) = \\sigma \\bigl[ \\frac{1}{\\sqrt{\\pi}} - 2 \\phi(\\frac{x-\\mu}{\\sigma}) - \\frac{x-\\mu}{\\sigma}\\bigl(2\\Phi(\\frac{x-\\mu}{\\sigma}) -1 \\bigr)\\bigr]$"
   ]
  },
  {
   "cell_type": "code",
   "execution_count": 17,
   "id": "ced70ee6",
   "metadata": {},
   "outputs": [],
   "source": [
    "def crps_gaussian(mu, sigma, x):\n",
    "    '''Function to compute the Continuous Ranked Probability Score (CRPS) of an observed value, using a Gaussian\n",
    "    distribution with mean mu and variance sigma^2 as a reference. \n",
    "    \n",
    "    Parameters\n",
    "    ----------\n",
    "    mu : float\n",
    "        The mean of the reference Gaussian distribution\n",
    "    sigma : float\n",
    "        The standard deviation of the reference Gaussian distribution\n",
    "    x : float\n",
    "        The observed value to score\n",
    "    \n",
    "    Returns\n",
    "    -------\n",
    "    crps : torch.tensor\n",
    "        The CRPS of the observed value\n",
    "    '''\n",
    "    \n",
    "    # Convert float values to tensors for use in PyTorch functions\n",
    "    mu, sigma, x = torch.tensor([mu]), torch.tensor([sigma]), torch.tensor([x])\n",
    "    \n",
    "    # Compute shorthands of the normalized observation and pi, and create a standard normal distribution\n",
    "    norm = (x-mu) / sigma\n",
    "    Z = N(loc=0, scale=1)\n",
    "    pi = torch.acos(torch.zeros(1)).item() * 2\n",
    "    \n",
    "    # Compute CRPS\n",
    "    crps = sigma * (1/torch.sqrt(torch.tensor(pi)) - 2*torch.exp(Z.log_prob(norm)) - norm*(2*Z.cdf(norm) -1))\n",
    "    return crps "
   ]
  },
  {
   "cell_type": "code",
   "execution_count": 18,
   "id": "bd434eb5",
   "metadata": {},
   "outputs": [
    {
     "data": {
      "text/plain": [
       "tensor([-0.8944])"
      ]
     },
     "execution_count": 18,
     "metadata": {},
     "output_type": "execute_result"
    }
   ],
   "source": [
    "crps_gaussian(torch.tensor([0.1]), torch.tensor([0.01]), 1)"
   ]
  },
  {
   "cell_type": "code",
   "execution_count": 19,
   "id": "25a0c167",
   "metadata": {},
   "outputs": [
    {
     "data": {
      "text/plain": [
       "tensor([-0.0023])"
      ]
     },
     "execution_count": 19,
     "metadata": {},
     "output_type": "execute_result"
    }
   ],
   "source": [
    "crps_gaussian(torch.tensor([0.1]), torch.tensor([0.01]), 0.1)"
   ]
  },
  {
   "cell_type": "code",
   "execution_count": null,
   "id": "d980fc61",
   "metadata": {},
   "outputs": [],
   "source": []
  }
 ],
 "metadata": {
  "kernelspec": {
   "display_name": "Python 3 (ipykernel)",
   "language": "python",
   "name": "python3"
  },
  "language_info": {
   "codemirror_mode": {
    "name": "ipython",
    "version": 3
   },
   "file_extension": ".py",
   "mimetype": "text/x-python",
   "name": "python",
   "nbconvert_exporter": "python",
   "pygments_lexer": "ipython3",
   "version": "3.9.17"
  }
 },
 "nbformat": 4,
 "nbformat_minor": 5
}
