{
 "cells": [
  {
   "cell_type": "markdown",
   "id": "1dc51da6",
   "metadata": {
    "toc": true
   },
   "source": [
    "<h1>Table of Contents<span class=\"tocSkip\"></span></h1>\n",
    "<div class=\"toc\"><ul class=\"toc-item\"><li><span><a href=\"#Validating-method-output\" data-toc-modified-id=\"Validating-method-output-1\"><span class=\"toc-item-num\">1&nbsp;&nbsp;</span>Validating method output</a></span></li></ul></div>"
   ]
  },
  {
   "cell_type": "code",
   "execution_count": 3,
   "id": "8e5ca7b3",
   "metadata": {},
   "outputs": [],
   "source": [
    "import CRPS.CRPS as score  # pip package for validating output"
   ]
  },
  {
   "cell_type": "code",
   "execution_count": 5,
   "id": "73c61143",
   "metadata": {},
   "outputs": [],
   "source": [
    "import numpy as np\n",
    "import torch\n",
    "from torch.distributions.normal import Normal as N"
   ]
  },
  {
   "cell_type": "markdown",
   "id": "efa3dcc7",
   "metadata": {},
   "source": [
    "$CRPS(\\mathcal{N}(\\mu, \\sigma), x) = \\sigma \\bigl[ \\frac{1}{\\sqrt{\\pi}} - 2 \\phi(\\frac{x-\\mu}{\\sigma}) - \\frac{x-\\mu}{\\sigma}\\bigl(2\\Phi(\\frac{x-\\mu}{\\sigma}) -1 \\bigr)\\bigr]$"
   ]
  },
  {
   "cell_type": "code",
   "execution_count": 36,
   "id": "1bfa62e7",
   "metadata": {},
   "outputs": [],
   "source": [
    "def crps_gaussian(mu, sigma, x):\n",
    "    '''Function to compute the Continuous Ranked Probability Score (CRPS) of an observed value, using a Gaussian\n",
    "    distribution with mean mu and variance sigma^2 as a reference. \n",
    "    \n",
    "    Parameters\n",
    "    ----------\n",
    "    mu : float\n",
    "        The mean of the reference Gaussian distribution\n",
    "    sigma : float\n",
    "        The standard deviation of the reference Gaussian distribution\n",
    "    x : float\n",
    "        The observed value to score\n",
    "    \n",
    "    Returns\n",
    "    -------\n",
    "    crps : torch.tensor\n",
    "        The CRPS of the observed value\n",
    "    '''\n",
    "    \n",
    "    # Convert float values to tensors for use in PyTorch functions\n",
    "    mu, sigma, x = torch.tensor([mu]), torch.tensor([sigma]), torch.tensor([x])\n",
    "    \n",
    "    # Compute shorthands of the normalized observation and pi, and create a standard normal distribution\n",
    "    norm = (x-mu) / sigma\n",
    "    Z = N(loc=0, scale=1)\n",
    "    pi = torch.tensor([torch.acos(torch.zeros(1)).item() * 2])\n",
    "    \n",
    "    # Compute CRPS\n",
    "    crps = sigma * (norm*(2*Z.cdf(norm) - 1) + 2*torch.exp(Z.log_prob(norm)) - 1/torch.sqrt(pi))\n",
    "    return crps "
   ]
  },
  {
   "cell_type": "code",
   "execution_count": 37,
   "id": "5bdc8e12",
   "metadata": {
    "scrolled": true
   },
   "outputs": [
    {
     "data": {
      "text/plain": [
       "tensor([0.8944])"
      ]
     },
     "execution_count": 37,
     "metadata": {},
     "output_type": "execute_result"
    }
   ],
   "source": [
    "crps_gaussian(0.1, 0.01, 1)"
   ]
  },
  {
   "cell_type": "code",
   "execution_count": 38,
   "id": "8513d5df",
   "metadata": {},
   "outputs": [
    {
     "data": {
      "text/plain": [
       "tensor([0.0023])"
      ]
     },
     "execution_count": 38,
     "metadata": {},
     "output_type": "execute_result"
    }
   ],
   "source": [
    "crps_gaussian(0.1, 0.01, 0.1)"
   ]
  },
  {
   "cell_type": "code",
   "execution_count": 39,
   "id": "850ab2f9",
   "metadata": {},
   "outputs": [
    {
     "data": {
      "text/plain": [
       "tensor([0.2369])"
      ]
     },
     "execution_count": 39,
     "metadata": {},
     "output_type": "execute_result"
    }
   ],
   "source": [
    "crps_gaussian(0.01, 1, 0.1)"
   ]
  },
  {
   "cell_type": "markdown",
   "id": "e71782ea",
   "metadata": {},
   "source": [
    "## Validating method output"
   ]
  },
  {
   "cell_type": "code",
   "execution_count": 26,
   "id": "52c83cc4",
   "metadata": {},
   "outputs": [
    {
     "data": {
      "text/plain": [
       "(0.8940276811294227, 0.8939691962819243, 0.8939984387056734)"
      ]
     },
     "execution_count": 26,
     "metadata": {},
     "output_type": "execute_result"
    }
   ],
   "source": [
    "ens1 = np.random.normal(loc=0.1, scale=0.01, size=100)\n",
    "score(ens1, 1).compute()"
   ]
  },
  {
   "cell_type": "code",
   "execution_count": 20,
   "id": "67bbaf87",
   "metadata": {},
   "outputs": [
    {
     "data": {
      "text/plain": [
       "(0.002804501683248175, 0.0027397814499601036, 0.002772141566604139)"
      ]
     },
     "execution_count": 20,
     "metadata": {},
     "output_type": "execute_result"
    }
   ],
   "source": [
    "score(ens1, 0.1).compute()"
   ]
  },
  {
   "cell_type": "code",
   "execution_count": 21,
   "id": "4d3699a6",
   "metadata": {},
   "outputs": [
    {
     "data": {
      "text/plain": [
       "(0.23734815897161496, 0.23170889256698543, 0.2345285257693002)"
      ]
     },
     "execution_count": 21,
     "metadata": {},
     "output_type": "execute_result"
    }
   ],
   "source": [
    "ens2 = np.random.normal(loc=0.01, scale=1, size=100)\n",
    "score(ens2, 0.1).compute()"
   ]
  }
 ],
 "metadata": {
  "kernelspec": {
   "display_name": "Python 3 (ipykernel)",
   "language": "python",
   "name": "python3"
  },
  "language_info": {
   "codemirror_mode": {
    "name": "ipython",
    "version": 3
   },
   "file_extension": ".py",
   "mimetype": "text/x-python",
   "name": "python",
   "nbconvert_exporter": "python",
   "pygments_lexer": "ipython3",
   "version": "3.9.16"
  },
  "toc": {
   "base_numbering": 1,
   "nav_menu": {},
   "number_sections": true,
   "sideBar": true,
   "skip_h1_title": false,
   "title_cell": "Table of Contents",
   "title_sidebar": "Contents",
   "toc_cell": true,
   "toc_position": {},
   "toc_section_display": true,
   "toc_window_display": false
  }
 },
 "nbformat": 4,
 "nbformat_minor": 5
}
