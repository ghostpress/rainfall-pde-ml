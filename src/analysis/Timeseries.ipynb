{
 "cells": [
  {
   "cell_type": "code",
   "execution_count": 110,
   "id": "9192a8f5",
   "metadata": {},
   "outputs": [],
   "source": [
    "import datetime\n",
    "import math\n",
    "import numpy as np\n",
    "import netCDF4 as nc\n",
    "import os\n",
    "import pandas\n",
    "\n",
    "np.random.seed(42)"
   ]
  },
  {
   "cell_type": "code",
   "execution_count": 2,
   "id": "2ed5f9cd",
   "metadata": {},
   "outputs": [],
   "source": [
    "def datadir_era5(x):\n",
    "    return \"/projectnb/labci/Lucia/data/era5_npy/\" + x\n",
    "\n",
    "def datadir_gpm(x):\n",
    "    return \"/projectnb/labci/Indrajit/Rainfall/data/GPM/SatelliteDataFull/\" + x\n",
    "\n",
    "def _load_numpy_arr(file):\n",
    "    return np.load(file)\n",
    "\n",
    "def load_numpy_arrays(files):\n",
    "    final_arr = []\n",
    "    \n",
    "    for i in range(len(files)):\n",
    "        arr = _load_numpy_arr(files[i])\n",
    "        final_arr.append(arr) \n",
    "        \n",
    "    return np.array(final_arr)"
   ]
  },
  {
   "cell_type": "markdown",
   "id": "3a54d638",
   "metadata": {},
   "source": [
    "## Select location(s) in ERA5 and GPM"
   ]
  },
  {
   "cell_type": "code",
   "execution_count": 27,
   "id": "d98dac02",
   "metadata": {},
   "outputs": [],
   "source": [
    "era5_sample_nc = nc.Dataset(\"/projectnb/labci/Lucia/data/era5_nc/cape/convective_available_potential_energy_download_1990-1999.nc\")\n",
    "gpm_sample_nc = nc.Dataset(datadir_gpm(\"\") + \"IMERG_20000601.nc4\", allow_pickle=True)\n",
    "\n",
    "lat_era5 = era5_sample_nc[\"latitude\"][:]\n",
    "lon_era5 = era5_sample_nc[\"longitude\"][:]\n",
    "lat_gpm = gpm_sample_nc[\"lat\"][:]\n",
    "lon_gpm = gpm_sample_nc[\"lon\"][:]"
   ]
  },
  {
   "cell_type": "markdown",
   "id": "0960b819",
   "metadata": {},
   "source": [
    "#### Lake Volta (approximate)"
   ]
  },
  {
   "cell_type": "code",
   "execution_count": 29,
   "id": "d2d1c0aa",
   "metadata": {},
   "outputs": [],
   "source": [
    "lat_volta = 7.55\n",
    "lon_volta = -0.05"
   ]
  },
  {
   "cell_type": "markdown",
   "id": "4258c958",
   "metadata": {},
   "source": [
    "#### Capital City, Accra (approximate)"
   ]
  },
  {
   "cell_type": "code",
   "execution_count": 30,
   "id": "9fddbeff",
   "metadata": {},
   "outputs": [],
   "source": [
    "lat_accra = 5.55\n",
    "lon_accra = -0.3"
   ]
  },
  {
   "cell_type": "markdown",
   "id": "554c88bd",
   "metadata": {},
   "source": [
    "#### Random"
   ]
  },
  {
   "cell_type": "code",
   "execution_count": 70,
   "id": "700e8e01",
   "metadata": {},
   "outputs": [
    {
     "name": "stdout",
     "output_type": "stream",
     "text": [
      "(6.05, -1.3)\n"
     ]
    }
   ],
   "source": [
    "x = np.random.choice(lat_era5)\n",
    "y = np.random.choice(lon_era5)\n",
    "print((x, y))"
   ]
  },
  {
   "cell_type": "code",
   "execution_count": 65,
   "id": "2408c005",
   "metadata": {},
   "outputs": [
    {
     "name": "stdout",
     "output_type": "stream",
     "text": [
      "[ 4.3500032  4.4500017  4.55       4.6499987  4.750005   4.8500032\n",
      "  4.9500017  5.05       5.1499987  5.250005   5.3500032  5.4500017\n",
      "  5.55       5.6499987  5.750005   5.8500032  5.9500017  6.05\n",
      "  6.1499987  6.250005   6.3500032  6.4500017  6.55       6.6499987\n",
      "  6.750005   6.8500032  6.9500017  7.05       7.1499987  7.250005\n",
      "  7.3500032  7.4500017  7.55       7.6499987  7.750005   7.8500032\n",
      "  7.9500017  8.05       8.149999   8.250005   8.350003   8.450002\n",
      "  8.55       8.649999   8.750005   8.850003   8.950002   9.05\n",
      "  9.149999   9.250005   9.350003   9.450002   9.55       9.649999\n",
      "  9.750005   9.850003   9.950002  10.05      10.149999  10.250005\n",
      " 10.350003  10.450002  10.55      10.649999  10.750005  10.850003\n",
      " 10.950002  11.05      11.149999  11.250005  11.350003  11.450002\n",
      " 11.55     ]\n",
      "[-3.750003   -3.649997   -3.549991   -3.45       -3.349994   -3.250003\n",
      " -3.149997   -3.049991   -2.95       -2.849994   -2.750003   -2.649997\n",
      " -2.549991   -2.45       -2.349994   -2.250003   -2.149997   -2.049991\n",
      " -1.95       -1.849994   -1.7500031  -1.649997   -1.5499909  -1.45\n",
      " -1.349994   -1.2500031  -1.149997   -1.0499909  -0.95       -0.8499939\n",
      " -0.75000304 -0.64999694 -0.54999083 -0.45       -0.34999388 -0.25000304\n",
      " -0.14999695 -0.04999084  0.05        0.1500061   0.24999695  0.35000306\n",
      "  0.45000917  0.55        0.6500061   0.74999696  0.85000306  0.95000917\n",
      "  1.05        1.150006    1.2499969   1.350003    1.4500091   1.55      ]\n"
     ]
    }
   ],
   "source": [
    "print(lat_gpm)\n",
    "print(lon_gpm)"
   ]
  },
  {
   "cell_type": "code",
   "execution_count": 69,
   "id": "b8db6435",
   "metadata": {},
   "outputs": [
    {
     "name": "stdout",
     "output_type": "stream",
     "text": [
      "[-3.8  -3.55 -3.3  -3.05 -2.8  -2.55 -2.3  -2.05 -1.8  -1.55 -1.3  -1.05\n",
      " -0.8  -0.55 -0.3  -0.05  0.2   0.45  0.7   0.95  1.2   1.45  1.7 ]\n"
     ]
    }
   ],
   "source": [
    "print(lon_era5)"
   ]
  },
  {
   "cell_type": "code",
   "execution_count": 72,
   "id": "687fec28",
   "metadata": {},
   "outputs": [
    {
     "data": {
      "text/plain": [
       "0.04899400000000087"
      ]
     },
     "execution_count": 72,
     "metadata": {},
     "output_type": "execute_result"
    }
   ],
   "source": [
    "(1.349994 - 1.3) - 0.000999999999999"
   ]
  },
  {
   "cell_type": "markdown",
   "id": "2a9e159b",
   "metadata": {},
   "source": [
    "### Apply Mask"
   ]
  },
  {
   "cell_type": "code",
   "execution_count": 73,
   "id": "1236e271",
   "metadata": {},
   "outputs": [],
   "source": [
    "def mask_lat_lon(lat, lon, x, y, tolerance=0.000999999999999, gpm=False):\n",
    "\n",
    "    mask_lat = np.where(abs(lat - x) <  tolerance, True, False)\n",
    "    \n",
    "    if gpm:\n",
    "        tolerance += 0.04899400000000087  # extra tolerance for longitude grid in GPM\n",
    "        \n",
    "    mask_lon = np.where(abs(lon - y) <  tolerance, True, False)        \n",
    "    \n",
    "    return mask_lat, mask_lon"
   ]
  },
  {
   "cell_type": "code",
   "execution_count": 74,
   "id": "48f68856",
   "metadata": {},
   "outputs": [],
   "source": [
    "volta_mask_gpm = mask_lat_lon(lat_gpm, lon_gpm, lat_volta, lon_volta, gpm=True)\n",
    "accra_mask_gpm = mask_lat_lon(lat_gpm, lon_gpm, lat_accra, lon_accra, gpm=True)\n",
    "rand_mask_gpm  = mask_lat_lon(lat_gpm, lon_gpm, x, y, gpm=True)\n",
    "\n",
    "volta_mask_era = mask_lat_lon(lat_era5, lon_era5, lat_volta, lon_volta)\n",
    "accra_mask_era = mask_lat_lon(lat_era5, lon_era5, lat_accra, lon_accra)\n",
    "rand_mask_era  = mask_lat_lon(lat_era5, lon_era5, x, y)"
   ]
  },
  {
   "cell_type": "markdown",
   "id": "d2cd79a4",
   "metadata": {},
   "source": [
    "## Select dates"
   ]
  },
  {
   "cell_type": "markdown",
   "id": "f65b2f75",
   "metadata": {},
   "source": [
    "GPM data runs daily from June 1, 2000 - September 30, 2021. ERA5 data runs every 6 hours from 00:00 AM on January 1, 1990 - 18:00 PM on December 31, 2022 (all variables except specific_humdity, q, which starts 00:00 AM on January 1, 2000). For the ERA5 variables, we start by selecting just the observation at 12:00 PM the previous day."
   ]
  },
  {
   "cell_type": "code",
   "execution_count": 35,
   "id": "e1edc7e4",
   "metadata": {},
   "outputs": [],
   "source": [
    "era_start = datetime.datetime(1990, 1, 1)  # all variables with the exception of q, specific_humidity\n",
    "q_start = datetime.datetime(2000, 1, 1)\n",
    "\n",
    "gpm_start = datetime.datetime(2000, 6, 1)\n",
    "gpm_end = datetime.datetime(2021, 9, 30)\n",
    "\n",
    "start_ind = ((gpm_start - era_start) - datetime.timedelta(days=1)).days  # get noon observations from previous day\n",
    "start_ind_q = ((gpm_start - q_start) - datetime.timedelta(days=1)).days\n",
    "\n",
    "end_ind = (gpm_end - era_start).days\n",
    "end_ind_q = (gpm_end - q_start).days"
   ]
  },
  {
   "cell_type": "markdown",
   "id": "df456c9d",
   "metadata": {},
   "source": [
    "\n",
    "\n",
    "## Create ERA5 timeseries"
   ]
  },
  {
   "cell_type": "code",
   "execution_count": 123,
   "id": "0ec885c2",
   "metadata": {},
   "outputs": [],
   "source": [
    "def create_time_series(vars_list, loc_mask, start_from=0, end_on=None, hour=2):\n",
    "    series_dict = {}\n",
    "\n",
    "    for var in vars_list:\n",
    "        print(f\"Creating timeseries for {var}\")\n",
    "\n",
    "        var_files = os.listdir(datadir_era5(var))\n",
    "        for i in range(len(var_files)):\n",
    "            var_files[i] = datadir_era5(var + \"/\" + var_files[i])\n",
    "\n",
    "        var_files.sort()\n",
    "\n",
    "        full_arr = load_numpy_arrays(var_files)\n",
    "        \n",
    "        if end_on is not None:\n",
    "            series = full_arr[start_from:end_on, hour, loc_mask[0], loc_mask[1]]\n",
    "            series_dict[var] = series.flatten()\n",
    "        else:\n",
    "            series = full_arr[start_from:, hour, loc_mask[0], loc_mask[1]]\n",
    "            series_dict[var] = series.flatten()\n",
    "    \n",
    "    return series_dict"
   ]
  },
  {
   "cell_type": "code",
   "execution_count": 124,
   "id": "d198d780",
   "metadata": {
    "scrolled": true
   },
   "outputs": [
    {
     "name": "stdout",
     "output_type": "stream",
     "text": [
      "Creating timeseries for u950\n",
      "Creating timeseries for t700\n",
      "Creating timeseries for cin\n",
      "Creating timeseries for tcwv\n",
      "Creating timeseries for sp\n",
      "Creating timeseries for w950\n",
      "Creating timeseries for t950\n",
      "Creating timeseries for w925\n",
      "Creating timeseries for kx\n",
      "Creating timeseries for u600\n",
      "Creating timeseries for vimd\n",
      "Creating timeseries for r700\n",
      "Creating timeseries for w500\n",
      "Creating timeseries for w300\n",
      "Creating timeseries for t300\n",
      "Creating timeseries for t600\n",
      "Creating timeseries for d2m\n",
      "Creating timeseries for r950\n",
      "Creating timeseries for u925\n",
      "Creating timeseries for w850\n",
      "Creating timeseries for tcc\n",
      "Creating timeseries for t925\n",
      "Creating timeseries for u500\n",
      "Creating timeseries for u300\n",
      "Creating timeseries for r300\n",
      "Creating timeseries for r600\n",
      "Creating timeseries for w700\n",
      "Creating timeseries for t500\n",
      "Creating timeseries for t2m\n",
      "Creating timeseries for tclw\n",
      "Creating timeseries for u850\n",
      "Creating timeseries for r850\n",
      "Creating timeseries for cape\n",
      "Creating timeseries for r925\n",
      "Creating timeseries for t850\n",
      "Creating timeseries for u700\n",
      "Creating timeseries for r500\n",
      "Creating timeseries for w600\n",
      "Creating timeseries for q500\n",
      "Creating timeseries for q700\n",
      "Creating timeseries for q950\n",
      "Creating timeseries for q300\n",
      "Creating timeseries for q600\n",
      "Creating timeseries for q850\n",
      "Creating timeseries for q925\n"
     ]
    }
   ],
   "source": [
    "variables = os.listdir(datadir_era5(\"\"))\n",
    "q_list = []\n",
    "\n",
    "for var_name in variables: \n",
    "    if 'q' in var_name:\n",
    "        q_list.append(var_name) \n",
    "        variables.remove(var_name)\n",
    "\n",
    "series = create_time_series(variables, rand_mask_era, start_from=start_ind, end_on=end_ind, hour=2)\n",
    "q_series = create_time_series(q_list, rand_mask_era, start_from=start_ind_q, end_on=end_ind_q, hour=2)\n",
    "\n",
    "for q in q_series.keys():\n",
    "    series[q] = q_series[q]"
   ]
  },
  {
   "cell_type": "markdown",
   "id": "bf49297e",
   "metadata": {},
   "source": [
    "## Add precipitation data"
   ]
  },
  {
   "cell_type": "code",
   "execution_count": 127,
   "id": "97146a5d",
   "metadata": {},
   "outputs": [],
   "source": [
    "def _extract_array_from_nc(file, vname, loc):\n",
    "    nc_obj = nc.Dataset(datadir_gpm(\"\") + file)\n",
    "    var = nc_obj.variables[vname][:].data\n",
    "\n",
    "    return var[:, loc[1], loc[0]]  # GPM data is lon-lat, not lat-lon\n",
    "\n",
    "\n",
    "def extract_var_array(files, vname, loc):\n",
    "    var = _extract_array_from_nc(files[0], vname, loc)\n",
    "\n",
    "    for i in range(len(files)):\n",
    "        if i == 0:\n",
    "            continue\n",
    "        else:\n",
    "            curr_arr = _extract_array_from_nc(files[i], vname, loc)\n",
    "            var = np.vstack((var, curr_arr))\n",
    "\n",
    "    return var.flatten()"
   ]
  },
  {
   "cell_type": "code",
   "execution_count": 87,
   "id": "2150d0ff",
   "metadata": {},
   "outputs": [],
   "source": [
    "gpm_files = os.listdir(datadir_gpm(\"\"))\n",
    "gpm_files.sort()\n",
    "\n",
    "precip = extract_var_array(gpm_files, \"precipitationCal\", rand_mask_gpm)"
   ]
  },
  {
   "cell_type": "code",
   "execution_count": 129,
   "id": "60904fdb",
   "metadata": {},
   "outputs": [],
   "source": [
    "series[\"precip\"] = precip"
   ]
  },
  {
   "cell_type": "markdown",
   "id": "6ca7917d",
   "metadata": {},
   "source": [
    "### Threshold precipitation values"
   ]
  },
  {
   "cell_type": "code",
   "execution_count": 130,
   "id": "f809ead7",
   "metadata": {},
   "outputs": [],
   "source": [
    "thresh = np.where(precip > 0.2, 1, 0)"
   ]
  },
  {
   "cell_type": "code",
   "execution_count": 131,
   "id": "705e402e",
   "metadata": {},
   "outputs": [],
   "source": [
    "series[\"precip_thresh\"] = thresh"
   ]
  },
  {
   "cell_type": "markdown",
   "id": "88776c18",
   "metadata": {},
   "source": [
    "## Compute & add time variables"
   ]
  },
  {
   "cell_type": "code",
   "execution_count": 132,
   "id": "cc5d24bf",
   "metadata": {},
   "outputs": [],
   "source": [
    "t1 = [math.sin( (2*math.pi*d)/365) for d in range(1, 7793)]\n",
    "t2 = [math.cos( (2*math.pi*d)/365) for d in range(1, 7793)]"
   ]
  },
  {
   "cell_type": "code",
   "execution_count": 133,
   "id": "2c8c7ece",
   "metadata": {},
   "outputs": [],
   "source": [
    "series[\"time1\"] = t1\n",
    "series[\"time2\"] = t2"
   ]
  },
  {
   "cell_type": "markdown",
   "id": "8fff783f",
   "metadata": {},
   "source": [
    "## Save timeseries"
   ]
  },
  {
   "cell_type": "code",
   "execution_count": 134,
   "id": "001ab578",
   "metadata": {},
   "outputs": [
    {
     "data": {
      "text/html": [
       "<div>\n",
       "<style scoped>\n",
       "    .dataframe tbody tr th:only-of-type {\n",
       "        vertical-align: middle;\n",
       "    }\n",
       "\n",
       "    .dataframe tbody tr th {\n",
       "        vertical-align: top;\n",
       "    }\n",
       "\n",
       "    .dataframe thead th {\n",
       "        text-align: right;\n",
       "    }\n",
       "</style>\n",
       "<table border=\"1\" class=\"dataframe\">\n",
       "  <thead>\n",
       "    <tr style=\"text-align: right;\">\n",
       "      <th></th>\n",
       "      <th>u950</th>\n",
       "      <th>t700</th>\n",
       "      <th>cin</th>\n",
       "      <th>tcwv</th>\n",
       "      <th>sp</th>\n",
       "      <th>w950</th>\n",
       "      <th>t950</th>\n",
       "      <th>w925</th>\n",
       "      <th>kx</th>\n",
       "      <th>u600</th>\n",
       "      <th>...</th>\n",
       "      <th>q700</th>\n",
       "      <th>q950</th>\n",
       "      <th>q300</th>\n",
       "      <th>q600</th>\n",
       "      <th>q850</th>\n",
       "      <th>q925</th>\n",
       "      <th>precip</th>\n",
       "      <th>precip_thresh</th>\n",
       "      <th>time1</th>\n",
       "      <th>time2</th>\n",
       "    </tr>\n",
       "  </thead>\n",
       "  <tbody>\n",
       "    <tr>\n",
       "      <th>0</th>\n",
       "      <td>0.982141</td>\n",
       "      <td>282.515948</td>\n",
       "      <td>106.570866</td>\n",
       "      <td>50.653315</td>\n",
       "      <td>99310.332614</td>\n",
       "      <td>-0.086843</td>\n",
       "      <td>297.319761</td>\n",
       "      <td>-0.118163</td>\n",
       "      <td>33.587500</td>\n",
       "      <td>-10.112195</td>\n",
       "      <td>...</td>\n",
       "      <td>0.007735</td>\n",
       "      <td>0.015573</td>\n",
       "      <td>0.000259</td>\n",
       "      <td>0.005371</td>\n",
       "      <td>0.012479</td>\n",
       "      <td>0.015486</td>\n",
       "      <td>0.439947</td>\n",
       "      <td>1</td>\n",
       "      <td>0.017213</td>\n",
       "      <td>0.999852</td>\n",
       "    </tr>\n",
       "    <tr>\n",
       "      <th>1</th>\n",
       "      <td>2.256932</td>\n",
       "      <td>281.834625</td>\n",
       "      <td>35.950883</td>\n",
       "      <td>55.837907</td>\n",
       "      <td>99378.690588</td>\n",
       "      <td>0.082913</td>\n",
       "      <td>296.190478</td>\n",
       "      <td>0.153973</td>\n",
       "      <td>37.239126</td>\n",
       "      <td>-13.155744</td>\n",
       "      <td>...</td>\n",
       "      <td>0.009245</td>\n",
       "      <td>0.017023</td>\n",
       "      <td>0.000517</td>\n",
       "      <td>0.005897</td>\n",
       "      <td>0.013292</td>\n",
       "      <td>0.015521</td>\n",
       "      <td>0.030229</td>\n",
       "      <td>0</td>\n",
       "      <td>0.034422</td>\n",
       "      <td>0.999407</td>\n",
       "    </tr>\n",
       "    <tr>\n",
       "      <th>2</th>\n",
       "      <td>2.746470</td>\n",
       "      <td>281.726739</td>\n",
       "      <td>166.417792</td>\n",
       "      <td>51.619123</td>\n",
       "      <td>99490.713348</td>\n",
       "      <td>0.021853</td>\n",
       "      <td>296.125981</td>\n",
       "      <td>0.041329</td>\n",
       "      <td>36.237697</td>\n",
       "      <td>-15.313253</td>\n",
       "      <td>...</td>\n",
       "      <td>0.008078</td>\n",
       "      <td>0.015075</td>\n",
       "      <td>0.000481</td>\n",
       "      <td>0.005444</td>\n",
       "      <td>0.010656</td>\n",
       "      <td>0.014376</td>\n",
       "      <td>0.160053</td>\n",
       "      <td>0</td>\n",
       "      <td>0.051620</td>\n",
       "      <td>0.998667</td>\n",
       "    </tr>\n",
       "    <tr>\n",
       "      <th>3</th>\n",
       "      <td>2.878268</td>\n",
       "      <td>282.716475</td>\n",
       "      <td>276.681403</td>\n",
       "      <td>48.833767</td>\n",
       "      <td>99307.020113</td>\n",
       "      <td>0.087650</td>\n",
       "      <td>297.372531</td>\n",
       "      <td>0.142656</td>\n",
       "      <td>29.408643</td>\n",
       "      <td>-11.578592</td>\n",
       "      <td>...</td>\n",
       "      <td>0.006635</td>\n",
       "      <td>0.015014</td>\n",
       "      <td>0.000623</td>\n",
       "      <td>0.005471</td>\n",
       "      <td>0.010872</td>\n",
       "      <td>0.014318</td>\n",
       "      <td>0.900230</td>\n",
       "      <td>1</td>\n",
       "      <td>0.068802</td>\n",
       "      <td>0.997630</td>\n",
       "    </tr>\n",
       "    <tr>\n",
       "      <th>4</th>\n",
       "      <td>2.429710</td>\n",
       "      <td>282.232161</td>\n",
       "      <td>14.008028</td>\n",
       "      <td>52.871208</td>\n",
       "      <td>99370.459525</td>\n",
       "      <td>-0.096318</td>\n",
       "      <td>297.048874</td>\n",
       "      <td>-0.159220</td>\n",
       "      <td>34.768312</td>\n",
       "      <td>-13.901126</td>\n",
       "      <td>...</td>\n",
       "      <td>0.007795</td>\n",
       "      <td>0.016255</td>\n",
       "      <td>0.000299</td>\n",
       "      <td>0.005528</td>\n",
       "      <td>0.012845</td>\n",
       "      <td>0.016017</td>\n",
       "      <td>7.516011</td>\n",
       "      <td>1</td>\n",
       "      <td>0.085965</td>\n",
       "      <td>0.996298</td>\n",
       "    </tr>\n",
       "  </tbody>\n",
       "</table>\n",
       "<p>5 rows × 49 columns</p>\n",
       "</div>"
      ],
      "text/plain": [
       "       u950        t700         cin       tcwv            sp      w950  \\\n",
       "0  0.982141  282.515948  106.570866  50.653315  99310.332614 -0.086843   \n",
       "1  2.256932  281.834625   35.950883  55.837907  99378.690588  0.082913   \n",
       "2  2.746470  281.726739  166.417792  51.619123  99490.713348  0.021853   \n",
       "3  2.878268  282.716475  276.681403  48.833767  99307.020113  0.087650   \n",
       "4  2.429710  282.232161   14.008028  52.871208  99370.459525 -0.096318   \n",
       "\n",
       "         t950      w925         kx       u600  ...      q700      q950  \\\n",
       "0  297.319761 -0.118163  33.587500 -10.112195  ...  0.007735  0.015573   \n",
       "1  296.190478  0.153973  37.239126 -13.155744  ...  0.009245  0.017023   \n",
       "2  296.125981  0.041329  36.237697 -15.313253  ...  0.008078  0.015075   \n",
       "3  297.372531  0.142656  29.408643 -11.578592  ...  0.006635  0.015014   \n",
       "4  297.048874 -0.159220  34.768312 -13.901126  ...  0.007795  0.016255   \n",
       "\n",
       "       q300      q600      q850      q925    precip  precip_thresh     time1  \\\n",
       "0  0.000259  0.005371  0.012479  0.015486  0.439947              1  0.017213   \n",
       "1  0.000517  0.005897  0.013292  0.015521  0.030229              0  0.034422   \n",
       "2  0.000481  0.005444  0.010656  0.014376  0.160053              0  0.051620   \n",
       "3  0.000623  0.005471  0.010872  0.014318  0.900230              1  0.068802   \n",
       "4  0.000299  0.005528  0.012845  0.016017  7.516011              1  0.085965   \n",
       "\n",
       "      time2  \n",
       "0  0.999852  \n",
       "1  0.999407  \n",
       "2  0.998667  \n",
       "3  0.997630  \n",
       "4  0.996298  \n",
       "\n",
       "[5 rows x 49 columns]"
      ]
     },
     "execution_count": 134,
     "metadata": {},
     "output_type": "execute_result"
    }
   ],
   "source": [
    "series_df = pandas.DataFrame.from_dict(series)\n",
    "series_df.head()"
   ]
  },
  {
   "cell_type": "code",
   "execution_count": 135,
   "id": "8a5240fb",
   "metadata": {},
   "outputs": [],
   "source": [
    "series_df.to_csv(\"/projectnb/labci/Lucia/data/timeseries/timeseriesGPM+ERA5.csv\", header=True, index=False)"
   ]
  }
 ],
 "metadata": {
  "kernelspec": {
   "display_name": "Python 3 (ipykernel)",
   "language": "python",
   "name": "python3"
  },
  "language_info": {
   "codemirror_mode": {
    "name": "ipython",
    "version": 3
   },
   "file_extension": ".py",
   "mimetype": "text/x-python",
   "name": "python",
   "nbconvert_exporter": "python",
   "pygments_lexer": "ipython3",
   "version": "3.9.17"
  }
 },
 "nbformat": 4,
 "nbformat_minor": 5
}
