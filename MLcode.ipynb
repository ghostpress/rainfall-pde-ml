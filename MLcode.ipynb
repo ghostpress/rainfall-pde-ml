{
 "cells": [
  {
   "cell_type": "markdown",
   "id": "b7db83f8",
   "metadata": {
    "toc": true
   },
   "source": [
    "<h1>Table of Contents<span class=\"tocSkip\"></span></h1>\n",
    "<div class=\"toc\"><ul class=\"toc-item\"><li><span><a href=\"#Imports-and-setup-functions\" data-toc-modified-id=\"Imports-and-setup-functions-1\"><span class=\"toc-item-num\">1&nbsp;&nbsp;</span>Imports and setup functions</a></span></li><li><span><a href=\"#Read-netCDF-files\" data-toc-modified-id=\"Read-netCDF-files-2\"><span class=\"toc-item-num\">2&nbsp;&nbsp;</span>Read netCDF files</a></span><ul class=\"toc-item\"><li><span><a href=\"#Create-image-IDs\" data-toc-modified-id=\"Create-image-IDs-2.1\"><span class=\"toc-item-num\">2.1&nbsp;&nbsp;</span>Create image IDs</a></span></li></ul></li></ul></div>"
   ]
  },
  {
   "cell_type": "markdown",
   "id": "c829fa2c",
   "metadata": {},
   "source": [
    "# Imports and setup functions"
   ]
  },
  {
   "cell_type": "code",
   "execution_count": 1,
   "id": "aa579b32",
   "metadata": {},
   "outputs": [],
   "source": [
    "import os\n",
    "from matplotlib import pyplot as plt\n",
    "import numpy as np\n",
    "import netCDF4 as nc\n",
    "import xarray"
   ]
  },
  {
   "cell_type": "code",
   "execution_count": 2,
   "id": "24912406",
   "metadata": {},
   "outputs": [],
   "source": [
    "def dataDir(x):\n",
    "    cwd = os.getcwd()\n",
    "    \n",
    "    return cwd + \"/data/\" + x"
   ]
  },
  {
   "cell_type": "markdown",
   "id": "0c23d437",
   "metadata": {},
   "source": [
    "# Read netCDF files"
   ]
  },
  {
   "cell_type": "markdown",
   "id": "3d459fd3",
   "metadata": {},
   "source": [
    "## Create image IDs"
   ]
  },
  {
   "cell_type": "code",
   "execution_count": null,
   "id": "a89b8c57",
   "metadata": {},
   "outputs": [],
   "source": [
    "# Hierarchy:\n",
    "\n",
    "# |data/\n",
    "# |--- |SST_ATL_PHY.../\n",
    "# |----|-------------- |2021/\n",
    "# |----|---------------|--- |01/\n",
    "# |----|---------------|----|- 20210101_image.nc  # (day 1)\n",
    "# |----|---------------|----|- 20210102_image.nc  # (day 2)\n",
    "# |----|---------------|----|- 20210103_image.nc  # (day 3) ...\n",
    "\n",
    "# Image ID: \"yyyy-mm-dd\" from file paths\n",
    "\n",
    "top_path = dataDir(\"SST_ATL_PHY_L3S_NRT_010_037/\")\n",
    "\n",
    "y_paths = [top_path + y + \"/\" for y in os.listdir(top_path)]\n",
    "m_paths = [y + m for y in y_paths for m in os.listdir(y)]\n",
    "\n",
    "data_dict = {}\n",
    "\n",
    "for m in m_paths:\n",
    "    day_files = os.listdir(m)\n",
    "    \n",
    "    for d in day_files:\n",
    "        fid = \"sst_\" + d[:8] # yyyymmdd\n",
    "        \n",
    "        full_path = m + \"/\" + d \n",
    "        d_nc = nc.Dataset(full_path)\n",
    "        data = d_nc[\"sea_surface_temperature\"][:]\n",
    "        \n",
    "        data_dict[fid] = data"
   ]
  },
  {
   "cell_type": "code",
   "execution_count": null,
   "id": "60a568c0",
   "metadata": {},
   "outputs": [],
   "source": [
    "# TODOs:\n",
    "# 1. Look at masked_array class and see if just numeric values can be extracted\n",
    "#    Link: https://numpy.org/doc/stable/reference/maskedarray.html\n",
    "# 2. Load extracted numeric values into PyTorch Dataset\n",
    "#    Link: https://pytorch.org/docs/stable/data.html#torch.utils.data.Dataset\n",
    "# 3. Clean up imports"
   ]
  },
  {
   "cell_type": "code",
   "execution_count": null,
   "id": "40917858",
   "metadata": {},
   "outputs": [],
   "source": [
    "os.listdir(m_paths[0])[0][:8]"
   ]
  },
  {
   "cell_type": "code",
   "execution_count": null,
   "id": "d52985de",
   "metadata": {},
   "outputs": [],
   "source": [
    "data_dict"
   ]
  },
  {
   "cell_type": "code",
   "execution_count": null,
   "id": "665e5650",
   "metadata": {},
   "outputs": [],
   "source": [
    "test_fp = dataDir(\"SST_ATL_PHY_L3S_NRT_010_037/2021/01/20210101000000-IFR-L3S_GHRSST-SSTfnd-ODYSSEA-ATL_002-v02.1-fv01.0.nc\")\n",
    "test_nc = nc.Dataset(test_fp)\n",
    "\n",
    "print(test_nc.data_model)\n",
    "print(test_nc.groups)\n",
    "print(test_nc)"
   ]
  },
  {
   "cell_type": "code",
   "execution_count": null,
   "id": "6adea893",
   "metadata": {},
   "outputs": [],
   "source": [
    "test_nc[\"sea_surface_temperature\"]"
   ]
  },
  {
   "cell_type": "code",
   "execution_count": null,
   "id": "b994b398",
   "metadata": {},
   "outputs": [],
   "source": [
    "sst = test_nc[\"sea_surface_temperature\"]\n",
    "print(sst[:])"
   ]
  },
  {
   "cell_type": "code",
   "execution_count": null,
   "id": "e70142c9",
   "metadata": {
    "scrolled": true
   },
   "outputs": [],
   "source": [
    "sst[0,]"
   ]
  },
  {
   "cell_type": "code",
   "execution_count": null,
   "id": "6dfe8d03",
   "metadata": {
    "scrolled": true
   },
   "outputs": [],
   "source": [
    "plt.imshow(sst[0,])  # flipped coordinates: ny, nx"
   ]
  },
  {
   "cell_type": "markdown",
   "id": "928bbe1d",
   "metadata": {},
   "source": [
    "https://www.youtube.com/@climateunboxed/videos\n",
    "\n",
    "https://www.earthinversion.com/utilities/reading-NetCDF4-data-in-python/\n",
    "\n",
    "https://stackoverflow.com/questions/36360469/read-nc-netcdf-files-using-python\n",
    "\n",
    "https://unidata.github.io/netcdf4-python/#creatingopeningclosing-a-netcdf-file\n",
    "\n",
    "https://marine.copernicus.eu/user-corner/user-notification-service/gh-416-technical-issue-impacting-new\n",
    "\n",
    "https://www.earthdatascience.org/courses/use-data-open-source-python/hierarchical-data-formats-hdf/use-netcdf-in-python-xarray/\n",
    "\n",
    "https://docs.xarray.dev/en/stable/generated/xarray.open_mfdataset.html\n",
    "\n",
    "https://stackoverflow.com/questions/35422862/speeding-up-reading-of-very-large-netcdf-file-in-python\n",
    "\n",
    "https://numpy.org/doc/stable/reference/maskedarray.html"
   ]
  }
 ],
 "metadata": {
  "kernelspec": {
   "display_name": "Python 3 (ipykernel)",
   "language": "python",
   "name": "python3"
  },
  "language_info": {
   "codemirror_mode": {
    "name": "ipython",
    "version": 3
   },
   "file_extension": ".py",
   "mimetype": "text/x-python",
   "name": "python",
   "nbconvert_exporter": "python",
   "pygments_lexer": "ipython3",
   "version": "3.9.16"
  },
  "toc": {
   "base_numbering": 1,
   "nav_menu": {},
   "number_sections": true,
   "sideBar": true,
   "skip_h1_title": false,
   "title_cell": "Table of Contents",
   "title_sidebar": "Contents",
   "toc_cell": true,
   "toc_position": {},
   "toc_section_display": true,
   "toc_window_display": false
  }
 },
 "nbformat": 4,
 "nbformat_minor": 5
}
