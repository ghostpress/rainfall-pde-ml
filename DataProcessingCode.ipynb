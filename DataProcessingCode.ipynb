{
 "cells": [
  {
   "cell_type": "markdown",
   "id": "b7db83f8",
   "metadata": {
    "toc": true
   },
   "source": [
    "<h1>Table of Contents<span class=\"tocSkip\"></span></h1>\n",
    "<div class=\"toc\"><ul class=\"toc-item\"><li><span><a href=\"#Imports-and-setup-functions\" data-toc-modified-id=\"Imports-and-setup-functions-1\"><span class=\"toc-item-num\">1&nbsp;&nbsp;</span>Imports and setup functions</a></span></li><li><span><a href=\"#Get-data-from-server\" data-toc-modified-id=\"Get-data-from-server-2\"><span class=\"toc-item-num\">2&nbsp;&nbsp;</span>Get data from server</a></span></li><li><span><a href=\"#Process-files-through-command-line\" data-toc-modified-id=\"Process-files-through-command-line-3\"><span class=\"toc-item-num\">3&nbsp;&nbsp;</span>Process files through command line</a></span></li><li><span><a href=\"#Load-processed-data\" data-toc-modified-id=\"Load-processed-data-4\"><span class=\"toc-item-num\">4&nbsp;&nbsp;</span>Load processed data</a></span><ul class=\"toc-item\"><li><span><a href=\"#Methods\" data-toc-modified-id=\"Methods-4.1\"><span class=\"toc-item-num\">4.1&nbsp;&nbsp;</span>Methods</a></span></li></ul></li><li><span><a href=\"#Construct-time-series\" data-toc-modified-id=\"Construct-time-series-5\"><span class=\"toc-item-num\">5&nbsp;&nbsp;</span>Construct time series</a></span><ul class=\"toc-item\"><li><span><a href=\"#Load-all-data\" data-toc-modified-id=\"Load-all-data-5.1\"><span class=\"toc-item-num\">5.1&nbsp;&nbsp;</span>Load all data</a></span></li><li><span><a href=\"#Transform\" data-toc-modified-id=\"Transform-5.2\"><span class=\"toc-item-num\">5.2&nbsp;&nbsp;</span>Transform</a></span></li><li><span><a href=\"#Save\" data-toc-modified-id=\"Save-5.3\"><span class=\"toc-item-num\">5.3&nbsp;&nbsp;</span>Save</a></span></li><li><span><a href=\"#Sample-a-point\" data-toc-modified-id=\"Sample-a-point-5.4\"><span class=\"toc-item-num\">5.4&nbsp;&nbsp;</span>Sample a point</a></span></li><li><span><a href=\"#Slice-images-to-size\" data-toc-modified-id=\"Slice-images-to-size-5.5\"><span class=\"toc-item-num\">5.5&nbsp;&nbsp;</span>Slice images to size</a></span></li></ul></li><li><span><a href=\"#Exploratory-Analysis\" data-toc-modified-id=\"Exploratory-Analysis-6\"><span class=\"toc-item-num\">6&nbsp;&nbsp;</span>Exploratory Analysis</a></span><ul class=\"toc-item\"><li><span><a href=\"#Time-series\" data-toc-modified-id=\"Time-series-6.1\"><span class=\"toc-item-num\">6.1&nbsp;&nbsp;</span>Time series</a></span></li></ul></li></ul></div>"
   ]
  },
  {
   "cell_type": "markdown",
   "id": "c829fa2c",
   "metadata": {},
   "source": [
    "# Imports and setup functions"
   ]
  },
  {
   "cell_type": "code",
   "execution_count": 2,
   "id": "aa579b32",
   "metadata": {},
   "outputs": [],
   "source": [
    "import os\n",
    "from matplotlib import pyplot as plt\n",
    "import numpy as np\n",
    "import netCDF4 as nc\n",
    "import ftplib\n",
    "import math\n",
    "import pandas as pd\n",
    "import xarray as xr\n",
    "import random"
   ]
  },
  {
   "cell_type": "code",
   "execution_count": 3,
   "id": "24912406",
   "metadata": {},
   "outputs": [],
   "source": [
    "def dataDir(x):\n",
    "    cwd = os.getcwd()\n",
    "    \n",
    "    return cwd + \"/data/\" + x"
   ]
  },
  {
   "cell_type": "markdown",
   "id": "dbaafd0f",
   "metadata": {},
   "source": [
    "# Get data from server"
   ]
  },
  {
   "cell_type": "code",
   "execution_count": 3,
   "id": "73976e42",
   "metadata": {},
   "outputs": [],
   "source": [
    "## Create connection to FTP\n",
    "\n",
    "def access_to_server(USERNAME,PASSWORD, PRODUCT_ID, DATASET_ID):\n",
    "    # Access to ftp server\n",
    "    HOSTNAME = ['nrt.cmems-du.eu', 'my.cmems-du.eu']\n",
    "    try: \n",
    "        # NRT server \n",
    "        ftp = ftplib.FTP(HOSTNAME[0], USERNAME, PASSWORD)\n",
    "        ftp.encoding = \"utf-8\"\n",
    "        # Move to dataset directory\n",
    "        ftp.cwd(f'Core/{PRODUCT_ID}/{DATASET_ID}')\n",
    "    except:\n",
    "        # MY server\n",
    "        ftp = ftplib.FTP(HOSTNAME[1], USERNAME, PASSWORD)\n",
    "        ftp.encoding = \"utf-8\"\n",
    "        # Move to dataset directory\n",
    "        ftp.cwd(f'Core/{PRODUCT_ID}/{DATASET_ID}')\n",
    "    return ftp \n",
    "\n",
    "\n",
    "## Browse and download\n",
    "\n",
    "def download_ftp_tree(ftp,OUTDIR):\n",
    "    # Create directory if doesn't exist\n",
    "    if not os.path.exists(OUTDIR):\n",
    "        os.makedirs(OUTDIR)\n",
    "    # Save the initial directory\n",
    "    original_cwd = ftp.pwd()\n",
    "    # Show the content of the FTP_address directory\n",
    "    ftp_content = ftp.nlst()\n",
    "    for fc in ftp_content:\n",
    "        try: \n",
    "        # check if fc is a directory and create a local subfolder with the same name\n",
    "            ftp.cwd(f'{fc}')\n",
    "            print(f'{fc}')\n",
    "            if not os.path.exists(f'{OUTDIR}/{fc}'):\n",
    "                os.makedirs(f'{OUTDIR}/{fc}')\n",
    "                print(f'{OUTDIR}/{fc} is now created')\n",
    "            download_ftp_tree(ftp,f'{OUTDIR}/{fc}')\n",
    "            ftp.cwd(original_cwd)\n",
    "        except: \n",
    "        # fc is not a directory but a file, so it's downloaded in its local subfolder\n",
    "            local_filename = os.path.join(f'{OUTDIR}', fc)\n",
    "            file = open(local_filename, 'wb')\n",
    "            ftp.retrbinary('RETR '+ fc, file.write)\n",
    "            file.close()"
   ]
  },
  {
   "cell_type": "code",
   "execution_count": 4,
   "id": "aeedff25",
   "metadata": {},
   "outputs": [],
   "source": [
    "HOST = \"my.cmems-du.eu\"\n",
    "\n",
    "USERNAME = \"lvilallonga\"\n",
    "PASSWORD = \"dumbPW0123\"\n",
    "\n",
    "PRODUCT_ID = \"IBI_ANALYSISFORECAST_PHY_005_001\" \n",
    "DATASET_ID = \"cmems_mod_ibi_phy_anfc_0.027deg-3D_P1D-m\" \n",
    "OUT_DIR = dataDir(\"IBI_ANALYSISFORECAST_PHY_005_001\")"
   ]
  },
  {
   "cell_type": "code",
   "execution_count": 5,
   "id": "f0931c34",
   "metadata": {},
   "outputs": [
    {
     "name": "stdout",
     "output_type": "stream",
     "text": [
      "2020\n",
      "/home/lucia/projects/FORMES/rainfall-pde-ml/data/IBI_ANALYSISFORECAST_PHY_005_001/2020 is now created\n",
      "11\n",
      "/home/lucia/projects/FORMES/rainfall-pde-ml/data/IBI_ANALYSISFORECAST_PHY_005_001/2020/11 is now created\n",
      "12\n",
      "/home/lucia/projects/FORMES/rainfall-pde-ml/data/IBI_ANALYSISFORECAST_PHY_005_001/2020/12 is now created\n",
      "2021\n",
      "/home/lucia/projects/FORMES/rainfall-pde-ml/data/IBI_ANALYSISFORECAST_PHY_005_001/2021 is now created\n",
      "01\n",
      "/home/lucia/projects/FORMES/rainfall-pde-ml/data/IBI_ANALYSISFORECAST_PHY_005_001/2021/01 is now created\n",
      "02\n",
      "/home/lucia/projects/FORMES/rainfall-pde-ml/data/IBI_ANALYSISFORECAST_PHY_005_001/2021/02 is now created\n",
      "03\n",
      "/home/lucia/projects/FORMES/rainfall-pde-ml/data/IBI_ANALYSISFORECAST_PHY_005_001/2021/03 is now created\n",
      "04\n",
      "/home/lucia/projects/FORMES/rainfall-pde-ml/data/IBI_ANALYSISFORECAST_PHY_005_001/2021/04 is now created\n",
      "05\n",
      "/home/lucia/projects/FORMES/rainfall-pde-ml/data/IBI_ANALYSISFORECAST_PHY_005_001/2021/05 is now created\n",
      "06\n",
      "/home/lucia/projects/FORMES/rainfall-pde-ml/data/IBI_ANALYSISFORECAST_PHY_005_001/2021/06 is now created\n",
      "07\n",
      "/home/lucia/projects/FORMES/rainfall-pde-ml/data/IBI_ANALYSISFORECAST_PHY_005_001/2021/07 is now created\n",
      "08\n",
      "/home/lucia/projects/FORMES/rainfall-pde-ml/data/IBI_ANALYSISFORECAST_PHY_005_001/2021/08 is now created\n",
      "09\n",
      "/home/lucia/projects/FORMES/rainfall-pde-ml/data/IBI_ANALYSISFORECAST_PHY_005_001/2021/09 is now created\n",
      "10\n",
      "/home/lucia/projects/FORMES/rainfall-pde-ml/data/IBI_ANALYSISFORECAST_PHY_005_001/2021/10 is now created\n",
      "11\n",
      "/home/lucia/projects/FORMES/rainfall-pde-ml/data/IBI_ANALYSISFORECAST_PHY_005_001/2021/11 is now created\n",
      "12\n",
      "/home/lucia/projects/FORMES/rainfall-pde-ml/data/IBI_ANALYSISFORECAST_PHY_005_001/2021/12 is now created\n",
      "2022\n",
      "/home/lucia/projects/FORMES/rainfall-pde-ml/data/IBI_ANALYSISFORECAST_PHY_005_001/2022 is now created\n",
      "01\n",
      "/home/lucia/projects/FORMES/rainfall-pde-ml/data/IBI_ANALYSISFORECAST_PHY_005_001/2022/01 is now created\n",
      "02\n",
      "/home/lucia/projects/FORMES/rainfall-pde-ml/data/IBI_ANALYSISFORECAST_PHY_005_001/2022/02 is now created\n",
      "03\n",
      "/home/lucia/projects/FORMES/rainfall-pde-ml/data/IBI_ANALYSISFORECAST_PHY_005_001/2022/03 is now created\n",
      "04\n",
      "/home/lucia/projects/FORMES/rainfall-pde-ml/data/IBI_ANALYSISFORECAST_PHY_005_001/2022/04 is now created\n",
      "05\n",
      "/home/lucia/projects/FORMES/rainfall-pde-ml/data/IBI_ANALYSISFORECAST_PHY_005_001/2022/05 is now created\n",
      "06\n",
      "/home/lucia/projects/FORMES/rainfall-pde-ml/data/IBI_ANALYSISFORECAST_PHY_005_001/2022/06 is now created\n",
      "07\n",
      "/home/lucia/projects/FORMES/rainfall-pde-ml/data/IBI_ANALYSISFORECAST_PHY_005_001/2022/07 is now created\n",
      "08\n",
      "/home/lucia/projects/FORMES/rainfall-pde-ml/data/IBI_ANALYSISFORECAST_PHY_005_001/2022/08 is now created\n",
      "09\n",
      "/home/lucia/projects/FORMES/rainfall-pde-ml/data/IBI_ANALYSISFORECAST_PHY_005_001/2022/09 is now created\n",
      "10\n",
      "/home/lucia/projects/FORMES/rainfall-pde-ml/data/IBI_ANALYSISFORECAST_PHY_005_001/2022/10 is now created\n",
      "11\n",
      "/home/lucia/projects/FORMES/rainfall-pde-ml/data/IBI_ANALYSISFORECAST_PHY_005_001/2022/11 is now created\n",
      "12\n",
      "/home/lucia/projects/FORMES/rainfall-pde-ml/data/IBI_ANALYSISFORECAST_PHY_005_001/2022/12 is now created\n",
      "2023\n",
      "/home/lucia/projects/FORMES/rainfall-pde-ml/data/IBI_ANALYSISFORECAST_PHY_005_001/2023 is now created\n",
      "01\n",
      "/home/lucia/projects/FORMES/rainfall-pde-ml/data/IBI_ANALYSISFORECAST_PHY_005_001/2023/01 is now created\n",
      "02\n",
      "/home/lucia/projects/FORMES/rainfall-pde-ml/data/IBI_ANALYSISFORECAST_PHY_005_001/2023/02 is now created\n",
      "03\n",
      "/home/lucia/projects/FORMES/rainfall-pde-ml/data/IBI_ANALYSISFORECAST_PHY_005_001/2023/03 is now created\n",
      "04\n",
      "/home/lucia/projects/FORMES/rainfall-pde-ml/data/IBI_ANALYSISFORECAST_PHY_005_001/2023/04 is now created\n",
      "05\n",
      "/home/lucia/projects/FORMES/rainfall-pde-ml/data/IBI_ANALYSISFORECAST_PHY_005_001/2023/05 is now created\n",
      "06\n",
      "/home/lucia/projects/FORMES/rainfall-pde-ml/data/IBI_ANALYSISFORECAST_PHY_005_001/2023/06 is now created\n",
      "Download complete!\n"
     ]
    }
   ],
   "source": [
    "FTP = access_to_server(USERNAME, PASSWORD, PRODUCT_ID, DATASET_ID)\n",
    "    \n",
    "# Download the content of the dataset\n",
    "download_ftp_tree(FTP, OUT_DIR)\n",
    "print('Download complete!')\n",
    "    \n",
    "# Closure \n",
    "FTP.close()"
   ]
  },
  {
   "cell_type": "markdown",
   "id": "4434ea4a",
   "metadata": {},
   "source": [
    "# Process files through command line"
   ]
  },
  {
   "cell_type": "markdown",
   "id": "687f1fe7",
   "metadata": {},
   "source": [
    "Using the program [cdo](https://code.mpimet.mpg.de/projects/cdo/wiki/Cdo%7Brbpy%7D), or Climate Data Operators software, by the Max-Planck Institute for Meteorology, greatly speeds up processing steps. The software can be run from the command line and can chain multiple commands together (eg. select variable -> select lat/lon area). See the script file processCDO.py for more details on how this was done for our case.  "
   ]
  },
  {
   "cell_type": "markdown",
   "id": "0c23d437",
   "metadata": {},
   "source": [
    "# Load processed data"
   ]
  },
  {
   "cell_type": "markdown",
   "id": "a963ec7c",
   "metadata": {},
   "source": [
    "## Methods"
   ]
  },
  {
   "cell_type": "code",
   "execution_count": 3,
   "id": "8fbbbbd7",
   "metadata": {},
   "outputs": [],
   "source": [
    "def create_dataset(year, month_path):\n",
    "    \n",
    "    dataset = {}\n",
    "    \n",
    "    d_paths = [month_path + \"/\" + d for d in os.listdir(month_path)]\n",
    "    d_paths.sort()\n",
    "    \n",
    "    print(\"Creating dataset from month: \" + month_path[-2:] + \"...\")\n",
    "    \n",
    "    for d in d_paths:\n",
    "        \n",
    "        # Create ID\n",
    "        d_id = \"sst_\" + str(year) + \"-\" + month_path[-2:] + \"-\" + d[-20:-18]\n",
    "        \n",
    "        # Read data into Dataset\n",
    "        #print(\"...Day: \" + d[-20:-18] + \"...\")\n",
    "        \n",
    "        d_nc = nc.Dataset(d)\n",
    "       \n",
    "        # Save to dictionary with datasets\n",
    "        dataset[d_id] = d_nc\n",
    "        \n",
    "    return dataset"
   ]
  },
  {
   "cell_type": "code",
   "execution_count": 8,
   "id": "66b04338",
   "metadata": {},
   "outputs": [],
   "source": [
    "def slice_img(img, end_shape):\n",
    "    \"\"\"\n",
    "       Parameters\n",
    "       ----------\n",
    "       img : numpy.ndarray or numpy.ma.core.MaskedArray\n",
    "       end_shape : tuple\n",
    "    \"\"\"\n",
    "    \n",
    "    slice_dataset = {}\n",
    "    M, N = end_shape[0], end_shape[1]\n",
    "    m, n = img.shape[0], img.shape[1]\n",
    "    \n",
    "    assert (m > M) & (n > N), \"Image too small for desired slice.\"\n",
    "        \n",
    "    \n",
    "    n_regions = math.floor(m / M) * math.floor(n / N)\n",
    "    \n",
    "    starti = 0\n",
    "    endi = M\n",
    "    startj = 0\n",
    "    endj = N\n",
    "    \n",
    "    print(\"Slicing image into \" + str(n_regions) + \" regions...\")\n",
    "    \n",
    "    for i in range(math.floor(m / M)):\n",
    "        for j in range(math.floor(n / N)):\n",
    "            \n",
    "            #print(\"Region: \" + str(i) + str(j))\n",
    "            slice_key = \"region_\" + str(i) + str(j)\n",
    "                        \n",
    "            slice_dataset[slice_key] = img[starti:endi, startj:endj]\n",
    "            \n",
    "            startj = endj\n",
    "            endj += N\n",
    "        \n",
    "        starti = endi\n",
    "        endi += M\n",
    "            \n",
    "    return slice_dataset"
   ]
  },
  {
   "cell_type": "markdown",
   "id": "040e7089",
   "metadata": {},
   "source": [
    "# Exploratory Analysis"
   ]
  },
  {
   "cell_type": "code",
   "execution_count": null,
   "id": "87ce49f3",
   "metadata": {},
   "outputs": [],
   "source": [
    "# TODO next (6/30): \n",
    "\n",
    "#  1. Modify cdo script to output daily files\n",
    "#  2. Modify cdo script to accept command-line arguments:\n",
    "#      + lat/lon, variables, output type (time series vs daily files), paths\n",
    "#      + print options so user can see what to ask for\n",
    "#  3. Test 1 & 2 on existing SST data, then\n",
    "#  4. Adapt for ERA-5 data for Ghana\n",
    "#  5. Delete time series code & files\n",
    "#  6. Create image showing regions used"
   ]
  },
  {
   "cell_type": "markdown",
   "id": "928bbe1d",
   "metadata": {},
   "source": [
    "https://www.earthinversion.com/utilities/reading-NetCDF4-data-in-python/\n",
    "\n",
    "https://towardsdatascience.com/fast-and-robust-sliding-window-vectorization-with-numpy-3ad950ed62f5\n",
    "\n",
    "https://github.com/emited/flow/blob/master/flow/modules/estimators.py#L64\n",
    "\n",
    "https://github.com/emited/flow/blob/master/flow/datasets/nc.py"
   ]
  },
  {
   "cell_type": "markdown",
   "id": "a5648aeb",
   "metadata": {},
   "source": [
    "Data sources:\n",
    "1. https://data.marine.copernicus.eu/product/IBI_ANALYSISFORECAST_PHY_005_001/description\n",
    "2. https://help.marine.copernicus.eu/en/articles/6444313-how-to-fetch-marine-data-from-copernicus-marine-ftp-server-in-python"
   ]
  }
 ],
 "metadata": {
  "kernelspec": {
   "display_name": "Python 3 (ipykernel)",
   "language": "python",
   "name": "python3"
  },
  "language_info": {
   "codemirror_mode": {
    "name": "ipython",
    "version": 3
   },
   "file_extension": ".py",
   "mimetype": "text/x-python",
   "name": "python",
   "nbconvert_exporter": "python",
   "pygments_lexer": "ipython3",
   "version": "3.9.16"
  },
  "toc": {
   "base_numbering": 1,
   "nav_menu": {},
   "number_sections": true,
   "sideBar": true,
   "skip_h1_title": false,
   "title_cell": "Table of Contents",
   "title_sidebar": "Contents",
   "toc_cell": true,
   "toc_position": {},
   "toc_section_display": true,
   "toc_window_display": true
  }
 },
 "nbformat": 4,
 "nbformat_minor": 5
}
