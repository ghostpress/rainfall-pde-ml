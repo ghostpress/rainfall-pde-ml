{
 "cells": [
  {
   "cell_type": "markdown",
   "id": "239951bd",
   "metadata": {
    "toc": true
   },
   "source": [
    "<h1>Table of Contents<span class=\"tocSkip\"></span></h1>\n",
    "<div class=\"toc\"><ul class=\"toc-item\"><li><span><a href=\"#Imports-and-set-up-functions\" data-toc-modified-id=\"Imports-and-set-up-functions-1\"><span class=\"toc-item-num\">1&nbsp;&nbsp;</span>Imports and set-up functions</a></span></li><li><span><a href=\"#Define-the-PDE-for-Sub-Surface-Temperature-(SST)\" data-toc-modified-id=\"Define-the-PDE-for-Sub-Surface-Temperature-(SST)-2\"><span class=\"toc-item-num\">2&nbsp;&nbsp;</span>Define the PDE for Sub-Surface Temperature (SST)</a></span></li><li><span><a href=\"#Simulate-SST-data\" data-toc-modified-id=\"Simulate-SST-data-3\"><span class=\"toc-item-num\">3&nbsp;&nbsp;</span>Simulate SST data</a></span><ul class=\"toc-item\"><li><span><a href=\"#Method-1:-Harmonic-approximation-of-motion-vector-w\" data-toc-modified-id=\"Method-1:-Harmonic-approximation-of-motion-vector-w-3.1\"><span class=\"toc-item-num\">3.1&nbsp;&nbsp;</span>Method 1: Harmonic approximation of motion vector w</a></span></li><li><span><a href=\"#Generate-simulated-SST-data\" data-toc-modified-id=\"Generate-simulated-SST-data-3.2\"><span class=\"toc-item-num\">3.2&nbsp;&nbsp;</span>Generate simulated SST data</a></span></li></ul></li><li><span><a href=\"#Predict-future-SST-states\" data-toc-modified-id=\"Predict-future-SST-states-4\"><span class=\"toc-item-num\">4&nbsp;&nbsp;</span>Predict future SST states</a></span><ul class=\"toc-item\"><li><span><a href=\"#CDNN\" data-toc-modified-id=\"CDNN-4.1\"><span class=\"toc-item-num\">4.1&nbsp;&nbsp;</span>CDNN</a></span></li></ul></li></ul></div>"
   ]
  },
  {
   "cell_type": "markdown",
   "id": "9e2a9822",
   "metadata": {},
   "source": [
    "# Imports and set-up functions"
   ]
  },
  {
   "cell_type": "code",
   "execution_count": 26,
   "id": "77619662",
   "metadata": {},
   "outputs": [],
   "source": [
    "import os\n",
    "import math\n",
    "import numpy as np"
   ]
  },
  {
   "cell_type": "code",
   "execution_count": 4,
   "id": "4b067532",
   "metadata": {},
   "outputs": [],
   "source": [
    "def dataDir(x):\n",
    "    cwd = os.getcwd()\n",
    "    \n",
    "    return cwd + x "
   ]
  },
  {
   "cell_type": "markdown",
   "id": "7240641c",
   "metadata": {},
   "source": [
    "# Define the PDE for Sub-Surface Temperature (SST)"
   ]
  },
  {
   "cell_type": "markdown",
   "id": "2d6b3b5d",
   "metadata": {},
   "source": [
    "From (Bézenac, Pajot, and Gallinari, 2019), Equation 3 (p. 2) gives the linear, elliptic PDE for advection-diffusion: \n",
    "\n",
    "$\\begin{equation}\n",
    "\\frac{\\partial I}{\\partial t} + (\\omega . \\nabla)I = D\\nabla^2 I\n",
    "\\tag{1}\n",
    "\\label{eq1}\n",
    "\\end{equation}$\n",
    "\n",
    "where $\\omega \\in \\mathbb{R^2}$ is the motion vector $\\frac{\\Delta x}{\\Delta t}$, $D$ is the diffusion coefficient, $\\nabla$ denotes the gradient operator, and $\\nabla^2$ denotes the Laplacian operator.\n"
   ]
  },
  {
   "cell_type": "markdown",
   "id": "a183619e",
   "metadata": {},
   "source": [
    "**Theorem 1** states that, for any initial condition $I_0 \\in L^1(\\mathbb{R}^2)$ with $I_0(\\pm \\infty) = 0$, there exists a unique global solution $I(x, t)$ to $\\eqref{eq1}$:\n",
    "\n",
    "$\\begin{equation}\n",
    "I(x, t) = \\int_{\\mathbb{R}^2} k(x - w, y) I_0(y)dy\n",
    "\\tag{2}\n",
    "\\label{eq2}\n",
    "\\end{equation}$"
   ]
  },
  {
   "cell_type": "markdown",
   "id": "908533c0",
   "metadata": {},
   "source": [
    "Where $k(u, v) = \\frac{1}{4\\pi Dt}e^{-\\frac{1}{4Dt}||u-v||^2}$ is a radial basis function kernel, or alternatively, a 2-dimensional Gaussian probability density with mean $u$ and variance $2Dt$."
   ]
  },
  {
   "cell_type": "markdown",
   "id": "dc0f3f92",
   "metadata": {},
   "source": [
    "All this means that if the initial condition $I_0$, the diffusion coefficient $D$, and the motion vector $\\omega$ were known, future temperatures could be predicted from past ones. Unfortunately in practice, none of these quantities are known; they must be estimated from the data. Below, we simulate test data and use it to estimate the motion vector $\\omega$ using a Convolution-Deconvolution Neural Network (CDNN). "
   ]
  },
  {
   "cell_type": "markdown",
   "id": "edb91ae6",
   "metadata": {},
   "source": [
    "# Simulate SST data "
   ]
  },
  {
   "cell_type": "markdown",
   "id": "4c8e0ea4",
   "metadata": {},
   "source": [
    "## Method 1: Harmonic approximation of motion vector w"
   ]
  },
  {
   "cell_type": "markdown",
   "id": "110466ee",
   "metadata": {},
   "source": [
    "Let us define an approximation function for the motion vector $\\omega(x, t)$, for $x \\in \\mathbb{R^2}$: \n",
    "\n",
    "$\\begin{equation}\n",
    "\\hat{\\omega}(t, x) = \\beta_0(x) + \\beta_1(x)\\sin(\\frac{2\\pi t}{24}) + \\beta_2(x)\\sin(\\frac{2\\pi t}{12}) + \\epsilon\n",
    "\\tag{3}\n",
    "\\label{eq3}\n",
    "\\end{equation}$"
   ]
  },
  {
   "cell_type": "markdown",
   "id": "ba574f43",
   "metadata": {},
   "source": [
    "where $\\epsilon$ is some multivariate Gaussian noise with mean $\\mu \\in \\mathbb{R^2}$ and covariance matrix $\\Sigma \\in \\mathbb{R^{2x2}}$. The scalar values $24$ and $12$ represent the period of the harmonic, for example if $t$ is expressed in hours. "
   ]
  },
  {
   "cell_type": "markdown",
   "id": "9f71b208",
   "metadata": {},
   "source": [
    "## Generate simulated SST data"
   ]
  },
  {
   "cell_type": "code",
   "execution_count": 32,
   "id": "c58dce35",
   "metadata": {},
   "outputs": [],
   "source": [
    "# Implement a function for the beta(x) terms\n",
    "\n",
    "def betas(x, const=3):\n",
    "    \"\"\"A simple function to evaluate the beta(x) terms in equation 3.\n",
    "    \n",
    "       :param x: a 2x1 vector of positions on a grid\n",
    "       :type x: numpy.ndarray\n",
    "       \n",
    "       :return betas: a 3x1 vector of wind parameters\n",
    "       :type betas: numpy.ndarray\n",
    "    \"\"\"\n",
    "    \n",
    "    # Verify dimensions\n",
    "    assert(x.shape == (2, 1))\n",
    "    \n",
    "    betas = np.array([[const], [const*x[0]], [(const**2)*x[1]]])\n",
    "    \n",
    "    return betas"
   ]
  },
  {
   "cell_type": "code",
   "execution_count": 33,
   "id": "479309b3",
   "metadata": {},
   "outputs": [],
   "source": [
    "# Implement the function that approximates the motion/wind vector (equation 3)\n",
    "\n",
    "def wind(x, t):\n",
    "    \"\"\"A harmonic function with two different periods that approximates the \n",
    "       wind vector, as given by equation 3. The function depends on \n",
    "       position x, time t, and beta parameters. \n",
    "       \n",
    "       :param x: a 2x1 position vector (i, j) \n",
    "       :type x: numpy.ndarray\n",
    "       \n",
    "       :param t: a scalar time\n",
    "       :type t: float\n",
    "       \n",
    "       :return omega: a 2x1 vector of wind intensities\n",
    "       :type omega: numpy.ndarray\n",
    "    \"\"\"\n",
    "    \n",
    "    # Verify dimensions\n",
    "    assert(x.shape == (2, 1))\n",
    "    \n",
    "    harm1 = math.sin((2*math.pi*t)/24)\n",
    "    harm2 = math.sin((2*math.pi*t)/12)\n",
    "    \n",
    "    # Get beta parameters\n",
    "    Bs = betas(x)\n",
    "    assert(Bs.shape == (3, 1))\n",
    "    \n",
    "    # Compute wind\n",
    "    w = Bs[0] + Bs[1]*harm1 + Bs[2]*harm2\n",
    "    \n",
    "    return w"
   ]
  },
  {
   "cell_type": "code",
   "execution_count": null,
   "id": "343285ab",
   "metadata": {},
   "outputs": [],
   "source": []
  },
  {
   "cell_type": "markdown",
   "id": "aeab6cce",
   "metadata": {
    "toc": true
   },
   "source": [
    "# Predict future SST states"
   ]
  },
  {
   "cell_type": "markdown",
   "id": "4e0e0ce5",
   "metadata": {},
   "source": [
    "## CDNN"
   ]
  }
 ],
 "metadata": {
  "kernelspec": {
   "display_name": "Python 3 (ipykernel)",
   "language": "python",
   "name": "python3"
  },
  "language_info": {
   "codemirror_mode": {
    "name": "ipython",
    "version": 3
   },
   "file_extension": ".py",
   "mimetype": "text/x-python",
   "name": "python",
   "nbconvert_exporter": "python",
   "pygments_lexer": "ipython3",
   "version": "3.9.16"
  },
  "toc": {
   "base_numbering": 1,
   "nav_menu": {},
   "number_sections": true,
   "sideBar": true,
   "skip_h1_title": false,
   "title_cell": "Table of Contents",
   "title_sidebar": "Contents",
   "toc_cell": true,
   "toc_position": {},
   "toc_section_display": true,
   "toc_window_display": false
  }
 },
 "nbformat": 4,
 "nbformat_minor": 5
}
