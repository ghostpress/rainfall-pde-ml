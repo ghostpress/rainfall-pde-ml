{
 "cells": [
  {
   "cell_type": "markdown",
   "id": "3078a6df",
   "metadata": {
    "toc": true
   },
   "source": [
    "<h1>Table of Contents<span class=\"tocSkip\"></span></h1>\n",
    "<div class=\"toc\"><ul class=\"toc-item\"><li><span><a href=\"#README:-How-to-use-this-notebook\" data-toc-modified-id=\"README:-How-to-use-this-notebook-1\"><span class=\"toc-item-num\">1&nbsp;&nbsp;</span>README: How to use this notebook</a></span></li><li><span><a href=\"#Imports-and-setup\" data-toc-modified-id=\"Imports-and-setup-2\"><span class=\"toc-item-num\">2&nbsp;&nbsp;</span>Imports and setup</a></span></li><li><span><a href=\"#Image-Regions\" data-toc-modified-id=\"Image-Regions-3\"><span class=\"toc-item-num\">3&nbsp;&nbsp;</span>Image Regions</a></span></li><li><span><a href=\"#Train,-val,-test-split\" data-toc-modified-id=\"Train,-val,-test-split-4\"><span class=\"toc-item-num\">4&nbsp;&nbsp;</span>Train, val, test split</a></span></li><li><span><a href=\"#Inputs-and-ends\" data-toc-modified-id=\"Inputs-and-ends-5\"><span class=\"toc-item-num\">5&nbsp;&nbsp;</span>Inputs and ends</a></span></li><li><span><a href=\"#DataLoader\" data-toc-modified-id=\"DataLoader-6\"><span class=\"toc-item-num\">6&nbsp;&nbsp;</span>DataLoader</a></span></li><li><span><a href=\"#Test-run\" data-toc-modified-id=\"Test-run-7\"><span class=\"toc-item-num\">7&nbsp;&nbsp;</span>Test run</a></span><ul class=\"toc-item\"><li><span><a href=\"#Slice-.nc-file-images-into-desired-regions-and-save-to-.npy-files\" data-toc-modified-id=\"Slice-.nc-file-images-into-desired-regions-and-save-to-.npy-files-7.1\"><span class=\"toc-item-num\">7.1&nbsp;&nbsp;</span>Slice .nc file images into desired regions and save to .npy files</a></span></li><li><span><a href=\"#Get-train,-val,-test-split\" data-toc-modified-id=\"Get-train,-val,-test-split-7.2\"><span class=\"toc-item-num\">7.2&nbsp;&nbsp;</span>Get train, val, test split</a></span></li><li><span><a href=\"#Create-DataLoader-for-training-data\" data-toc-modified-id=\"Create-DataLoader-for-training-data-7.3\"><span class=\"toc-item-num\">7.3&nbsp;&nbsp;</span>Create DataLoader for training data</a></span></li></ul></li></ul></div>"
   ]
  },
  {
   "cell_type": "markdown",
   "id": "6ceb5908",
   "metadata": {},
   "source": [
    "# README: How to use this notebook"
   ]
  },
  {
   "cell_type": "markdown",
   "id": "0fa20412",
   "metadata": {},
   "source": [
    "First, install the libraries needed below. This can be done with either of the following shell commands:\n",
    "\n",
    "`pip install package-name` or `conda install package-name`\n",
    "\n",
    "This notebook assumes only that you have a directory with netCDF (.nc) files with SST data to load and an empty directory for numpy (.npy) files, which will be populated in the process of running the notebook. Be sure to update the paths to both of these directories in [Section 2](#2-Imports-and-setup) below. For help installing the data used in this project, see the DataProc notebook (WIP).\n",
    "\n",
    "Then run each of the cells in Sections [2](#2-Imports-and-setup) through [6](#6-DataLoader) - these will provide all the methods you need to create a DataLoader for the netCDF files. Finally, run the cells in [Section 7](#7-Test-run) to test that everything worked correctly. \n",
    "\n",
    "This file was last updated on August 2nd, 2023. "
   ]
  },
  {
   "cell_type": "markdown",
   "id": "01935062",
   "metadata": {},
   "source": [
    "# Imports and setup"
   ]
  },
  {
   "cell_type": "code",
   "execution_count": 25,
   "id": "c8129ada",
   "metadata": {},
   "outputs": [],
   "source": [
    "import datetime\n",
    "import math\n",
    "import os\n",
    "import torch\n",
    "\n",
    "import matplotlib.pyplot as plt\n",
    "import netCDF4 as nc\n",
    "import numpy as np"
   ]
  },
  {
   "cell_type": "code",
   "execution_count": 20,
   "id": "41cd5051",
   "metadata": {},
   "outputs": [],
   "source": [
    "# Update these with the correct paths for your device\n",
    "# Don't forget the '/' at the end!\n",
    "\n",
    "# Path to directory holding netCDF (.nc) files\n",
    "NC_FILES_DIR = \"\"\n",
    "\n",
    "# Path to directory for numpy (.npy) files\n",
    "NPY_FILES_DIR = \"\""
   ]
  },
  {
   "cell_type": "markdown",
   "id": "b3a3d404",
   "metadata": {},
   "source": [
    "# Image Regions"
   ]
  },
  {
   "cell_type": "code",
   "execution_count": 3,
   "id": "f7271300",
   "metadata": {},
   "outputs": [],
   "source": [
    "def slice_img(img, end_shape):\n",
    "    \"\"\"Method to slice large satellite images into MxN regions, where the \n",
    "       given dimensions M and N are smaller than the original image dimensions.\n",
    "       \n",
    "       Parameters\n",
    "       ----------\n",
    "       img : numpy.ndarray : the image to slice\n",
    "       end_shape : tuple : the desired end shape for the sliced regions\n",
    "       \n",
    "       Returns\n",
    "       -------\n",
    "       slice_dataset : dictionary : contains the region slices (np.ndarray's),\n",
    "       identified by a string \"region_XX\"\n",
    "    \"\"\"\n",
    "    \n",
    "    slice_dataset = {}\n",
    "    M, N = end_shape[0], end_shape[1]\n",
    "    m, n = img.shape[0], img.shape[1]\n",
    "    \n",
    "    # TODO: update to call TorchVision for Nils' data\n",
    "    assert (m > M) & (n > N), \"Image too small for desired slice.\"\n",
    "    \n",
    "    n_regions = math.floor(m / M) * math.floor(n / N)\n",
    "    delta = M\n",
    "    \n",
    "    starti = 0\n",
    "    endi = M\n",
    "    startj = 0\n",
    "    endj = N\n",
    "    \n",
    "    region = 0\n",
    "    \n",
    "    #print(\"Slicing image into \" + str(n_regions) + \" regions...\")\n",
    "    \n",
    "    for i in range(math.floor(m / M)):\n",
    "        for j in range(math.floor(n / N)):\n",
    "            \n",
    "            #print(\"Region: \" + str(region))\n",
    "            slice_key = \"region_\" + str(region)\n",
    "            \n",
    "            #print(\"(\" + str(starti) + \", \" + str(endi) + \")\")\n",
    "            #print(\"(\" + str(startj) + \", \" + str(endj) + \")\")\n",
    "            \n",
    "            slice_dataset[slice_key] = img[starti:endi, startj:endj]\n",
    "            \n",
    "            startj = endj\n",
    "            endj += delta\n",
    "            \n",
    "            region += 1\n",
    "        \n",
    "        starti = endi\n",
    "        endi += delta\n",
    "        \n",
    "        startj = 0\n",
    "        endj = delta\n",
    "            \n",
    "    return slice_dataset"
   ]
  },
  {
   "cell_type": "markdown",
   "id": "4d1b9d95",
   "metadata": {},
   "source": [
    "# Train, val, test split"
   ]
  },
  {
   "cell_type": "code",
   "execution_count": 4,
   "id": "087c2eca",
   "metadata": {},
   "outputs": [],
   "source": [
    "def all_days(files):\n",
    "    \"\"\"Helper method to take a list of filenames and return the total number \n",
    "    of days represented by the files in the list. \n",
    "    \n",
    "    This method assumes a particular file naming convention that has been used \n",
    "    for this project. \n",
    "    \n",
    "    File naming convention: sst_geo_yyyymmdd.nc_region_XX.npy\n",
    "    \n",
    "    Parameters\n",
    "    ----------\n",
    "    files : list : data file names\n",
    "    \n",
    "    Returns\n",
    "    -------\n",
    "    delta : int : the number of days represented by the inputted files\n",
    "    \"\"\"\n",
    "    \n",
    "    files.sort()\n",
    "    \n",
    "    first = datetime.datetime.strptime(files[0][8:16], \"%Y%m%d\").date()\n",
    "    last = datetime.datetime.strptime(files[len(files)-1][8:16], \"%Y%m%d\").date()\n",
    "    \n",
    "    delta = int((last - first) / datetime.timedelta(days=1))\n",
    "    \n",
    "    return delta\n",
    "\n",
    "def train_val_test_cutoffs(topdir, split):\n",
    "    \"\"\"Helper method to create lists of filenames for the train, val, and test\n",
    "    data splits. Uses the dates in the filenames to determine file order and \n",
    "    split cutoffs. \n",
    "    \n",
    "    This method assumes a particular file naming convention that has been used \n",
    "    for this project. \n",
    "    \n",
    "    File naming convention: sst_geo_yyyymmdd.nc_region_XX.npy\n",
    "       \n",
    "    Parameters\n",
    "    ----------\n",
    "    topdir : string : the path to the directory holding the data\n",
    "    ndays : int : the total number of days in the dataset\n",
    "    split : list : the fractions for each split, eg. [0.8, 0.1, 0.1]\n",
    "    \n",
    "    Returns\n",
    "    -------\n",
    "    cutoffs : list : date cutoffs for each split\n",
    "    \"\"\"\n",
    "    \n",
    "    all_files = os.listdir(topdir)\n",
    "    all_files.sort()\n",
    "    nfiles = len(all_files)\n",
    "    ndays = all_days(all_files)\n",
    "    \n",
    "    start_date = datetime.datetime.strptime(all_files[0][8:16], \"%Y%m%d\").date()\n",
    "    end_date = datetime.datetime.strptime(all_files[nfiles-1][8:16], \"%Y%m%d\").date()\n",
    "    \n",
    "    cutoffs = []\n",
    "    \n",
    "    for i in range(3):\n",
    "        delta = math.floor(ndays*split[i])\n",
    "        end = start_date + datetime.timedelta(days=delta)\n",
    "        cutoffs.append(end)\n",
    "        \n",
    "        start_date = end\n",
    "        \n",
    "    # Because of rounding, some files may have been missed\n",
    "    # Add these to the test split\n",
    "    if cutoffs[2] < end_date:\n",
    "        cutoffs[2] = end_date\n",
    "    \n",
    "    return cutoffs\n",
    "\n",
    "def train_val_test_split_files(topdir, split):\n",
    "    \"\"\"Method to split the data in a directory into training, validation, and\n",
    "    test sets. Uses the helper method train_val_test_cutoffs(). \n",
    "    \n",
    "    This method assumes a particular file naming convention that has been used \n",
    "    for this project. \n",
    "    \n",
    "    File naming convention: sst_geo_yyyymmdd.nc_region_XX.npy\n",
    "    \n",
    "    Parameters\n",
    "    ----------\n",
    "    topdir : string : the path to the directory holding the data\n",
    "    split : list : the fractions for each split, eg. [0.8, 0.1, 0.1]\n",
    "    \n",
    "    Returns\n",
    "    -------\n",
    "    train : list : list of filenames for the train set\n",
    "    val : list : list of filenames for the validation set\n",
    "    test : list : list of filenames for the test set\n",
    "    \"\"\"\n",
    "    \n",
    "    assert len(split) == 3, \"Please include a % split for train, validation, and test sets.\"\n",
    "    \n",
    "    cutoffs = train_val_test_cutoffs(topdir, split)\n",
    "    \n",
    "    all_files = os.listdir(topdir)\n",
    "    all_files.sort()\n",
    "    \n",
    "    train, val, test = [], [], []\n",
    "    \n",
    "    for f in all_files:\n",
    "        file_date = datetime.datetime.strptime(f[8:16], \"%Y%m%d\").date()\n",
    "        \n",
    "        if file_date <= cutoffs[0]:\n",
    "            train.append(f)\n",
    "        elif (file_date > cutoffs[0]) & (file_date <= cutoffs[1]):\n",
    "            val.append(f)\n",
    "        else:\n",
    "            test.append(f)\n",
    "            \n",
    "    return train, val, test"
   ]
  },
  {
   "cell_type": "code",
   "execution_count": 5,
   "id": "f09e9470",
   "metadata": {},
   "outputs": [],
   "source": [
    "def load_data_from_file(filename):\n",
    "    \"\"\"Helper method to load a single .npy file.\"\"\"\n",
    "    \n",
    "    return np.load(NPY_FILES_DIR + filename)\n",
    "\n",
    "def load_data_from_files(files):\n",
    "    \"\"\"Method to load data from a list of .npy files.\"\"\"\n",
    "    data = []\n",
    "    for f in files:\n",
    "        data.append(load_data_from_file(f))\n",
    "        \n",
    "    return np.array(data)"
   ]
  },
  {
   "cell_type": "markdown",
   "id": "9eb8bb65",
   "metadata": {},
   "source": [
    "# Inputs and ends"
   ]
  },
  {
   "cell_type": "code",
   "execution_count": 6,
   "id": "aed90836",
   "metadata": {},
   "outputs": [],
   "source": [
    "def all_regions(files):\n",
    "    \"\"\"Helper method to take a list of filenames and return a list of the \n",
    "    unique region numbers. \n",
    "    \n",
    "    This method assumes a particular file naming convention that has been used \n",
    "    for this project. \n",
    "    \n",
    "    File naming convention: sst_geo_yyyymmdd.nc_region_XX.npy\n",
    "    \n",
    "    Parameters\n",
    "    ----------\n",
    "    files : list : data file names\n",
    "    \n",
    "    Returns\n",
    "    -------\n",
    "    regions : list : list of unique region numbers in the directory\n",
    "    \"\"\"\n",
    "    \n",
    "    files.sort()\n",
    "    regions = []\n",
    "    \n",
    "    for f in files:\n",
    "        if \"region_\" in f:\n",
    "            \n",
    "            start_ind = f.find(\"region_\") + len(\"region_\")\n",
    "            end_ind = f.find(\".npy\")\n",
    "            \n",
    "            reg = f[start_ind:end_ind]\n",
    "            \n",
    "            if int(reg) not in regions:\n",
    "                regions.append(int(reg))\n",
    "            \n",
    "        else:\n",
    "            print(\"Files in this directory do not match the naming convention.\")\n",
    "    \n",
    "    regions.sort()\n",
    "    \n",
    "    return regions\n",
    "\n",
    "def search_by_region(files, region):\n",
    "    \"\"\"Helper method to search a list of files for only those corresponding to\n",
    "    a desired region. \n",
    "    \n",
    "    This method assumes a particular file naming convention that has been used \n",
    "    for this project. \n",
    "    \n",
    "    File naming convention: sst_geo_yyyymmdd.nc_region_XX.npy\n",
    "    \n",
    "    Parameters\n",
    "    ----------\n",
    "    files : list : list of filenames in which to search\n",
    "    region : int : desired region\n",
    "    \n",
    "    Returns\n",
    "    -------\n",
    "    region_files : list : sorted list of matching files\n",
    "    \"\"\"\n",
    "    \n",
    "    region_files = []\n",
    "    for fname in files:\n",
    "        if \"region_\" + str(region) + \".npy\" in fname:\n",
    "            region_files.append(fname)\n",
    "            \n",
    "    region_files.sort()\n",
    "    \n",
    "    return region_files\n",
    "\n",
    "def get_pairs_by_region(files, region, ndays=1):\n",
    "    \"\"\"Method to separate data into inputs (X) and ends (y), for example to\n",
    "    use 4 previous days (ndays=4) to predict the next day. The \"pairs\" are \n",
    "    pairs of (X,y) inputs and ends. This method works on one region at a time.\n",
    "    \n",
    "    Parameters\n",
    "    ----------\n",
    "    files : list : list of files from which to get pairs\n",
    "    region : int : desired region\n",
    "    ndays : int : number of days to use as inputs\n",
    "    \n",
    "    Returns\n",
    "    -------\n",
    "    inps : np.ndarray : filenames for inputs\n",
    "    ends : list : filenames for ends\n",
    "    \"\"\"\n",
    "    \n",
    "    region_files = search_by_region(files, region)\n",
    "    \n",
    "    n = len(region_files)\n",
    "    \n",
    "    inps = []\n",
    "    ends = region_files[ndays:]\n",
    "    \n",
    "    for i in range(n - ndays):\n",
    "        inps.append(region_files[i:i+ndays])\n",
    "    \n",
    "    return np.array(inps), np.array(ends)"
   ]
  },
  {
   "cell_type": "markdown",
   "id": "ae499e54",
   "metadata": {},
   "source": [
    "# DataLoader"
   ]
  },
  {
   "cell_type": "code",
   "execution_count": 7,
   "id": "2f287d86",
   "metadata": {},
   "outputs": [],
   "source": [
    "def create_training_dataloader(dtype, batchsize, files, ndays):\n",
    "    \"\"\"Method to create a PyTorch DataLoader object from a list of files and\n",
    "    additional parameters.\n",
    "    \n",
    "    Parameters\n",
    "    ----------\n",
    "    dtype : torch.dtype : the data type for the DataLoader\n",
    "    batchsize : int : the desired batchsize for loading data\n",
    "    files : str : a list of files holding data to put into the DataLoader\n",
    "    ndays : int : the number of days to use as inputs to predict the next day\n",
    "    \n",
    "    Returns\n",
    "    -------\n",
    "    training : torch.utils.data.DataLoader : the DataLoader object\n",
    "    \"\"\"\n",
    "    \n",
    "    regions = all_regions(files)\n",
    "\n",
    "    train_data = []\n",
    "    train_ends = []\n",
    "\n",
    "    for reg in regions:\n",
    "        train_reg_pairs = get_pairs_by_region(files, reg, ndays)\n",
    "        \n",
    "        for i in range(len(train_reg_pairs[0])):\n",
    "            dat = load_data_from_files(train_reg_pairs[0][i])\n",
    "            end = load_data_from_file(train_reg_pairs[1][i])\n",
    "        \n",
    "            train_data.append(dat)\n",
    "            train_ends.append(end)\n",
    "        \n",
    "    train_data = torch.from_numpy(np.array(train_data)).type(dtype)\n",
    "    train_ends = torch.from_numpy(np.array(train_ends)).type(dtype)\n",
    "    \n",
    "    training = torch.utils.data.DataLoader(torch.utils.data.TensorDataset(train_data, train_ends),\n",
    "                                           batch_size=batchsize, shuffle=False)\n",
    "    \n",
    "    return training"
   ]
  },
  {
   "cell_type": "markdown",
   "id": "4b1d12ea",
   "metadata": {},
   "source": [
    "# Test run"
   ]
  },
  {
   "cell_type": "code",
   "execution_count": 19,
   "id": "05e7b459",
   "metadata": {},
   "outputs": [
    {
     "name": "stdout",
     "output_type": "stream",
     "text": [
      "/home/lucia/projects/FORMES/rainfall-pde-ml/data/cdo_out/\n"
     ]
    }
   ],
   "source": [
    "if NC_FILES_DIR == \"\" or NPY_FILES_DIR == \"\":\n",
    "    print(\"Don't forget to update the paths!\")\n",
    "    \n",
    "if NC_FILES_DIR[-1] != '/':\n",
    "    NC_FILES_DIR += \"/\"\n",
    "    print(NC_FILES_DIR)\n",
    "    \n",
    "if NPY_FILES_DIR[-1] != '/':\n",
    "    NPY_FILES_DIR += \"/\"\n",
    "    print(NPY_FILES_DIR)"
   ]
  },
  {
   "cell_type": "markdown",
   "id": "0f578de5",
   "metadata": {},
   "source": [
    "## Slice .nc file images into desired regions and save to .npy files"
   ]
  },
  {
   "cell_type": "code",
   "execution_count": 21,
   "id": "1ef8b8eb",
   "metadata": {},
   "outputs": [
    {
     "name": "stdout",
     "output_type": "stream",
     "text": [
      "Done.\n"
     ]
    }
   ],
   "source": [
    "# Note: creates > 35,000 .npy files, ~590 MB \n",
    "# Compared to 749 .nc files, ~410 MB\n",
    "\n",
    "for f in os.listdir(NC_FILES_DIR):\n",
    "    ncd = nc.Dataset(NC_FILES_DIR + f)\n",
    "    \n",
    "    # First, flip the image from (lon, lat) to (lat, lon)\n",
    "    # Then take the array with the variable of interest: SST (thetao)\n",
    "    # Optionally, slice into a \"nice\" image: 768x256 is easily divisible by 64x64\n",
    "    arr = np.flip(ncd[\"thetao\"][:][0, 0, :768, :256].data) \n",
    "    \n",
    "    regions = slice_img(arr, (64,64))  # Now slice the images\n",
    "    \n",
    "    for reg, img in regions.items():\n",
    "        \n",
    "        # Important: do not change this file naming convention without \n",
    "        # updating the methods above\n",
    "        filename = f + \"_\" + str(reg) + \".npy\" \n",
    "        np.save(NPY_FILES_DIR + filename, img)\n",
    "        \n",
    "print(\"Done.\")"
   ]
  },
  {
   "cell_type": "markdown",
   "id": "3e0ce568",
   "metadata": {},
   "source": [
    "## Get train, val, test split"
   ]
  },
  {
   "cell_type": "code",
   "execution_count": 22,
   "id": "a63a735e",
   "metadata": {},
   "outputs": [
    {
     "name": "stdout",
     "output_type": "stream",
     "text": [
      "28752\n",
      "3552\n",
      "3648\n"
     ]
    }
   ],
   "source": [
    "split = train_val_test_split_files(NPY_FILES_DIR, [0.8, 0.1, 0.1])\n",
    "\n",
    "train_split = split[0]\n",
    "val_split   = split[1]\n",
    "test_split  = split[2]\n",
    "\n",
    "print(len(train_split))\n",
    "print(len(val_split))\n",
    "print(len(test_split))"
   ]
  },
  {
   "cell_type": "markdown",
   "id": "8abb694f",
   "metadata": {},
   "source": [
    "## Create DataLoader for training data"
   ]
  },
  {
   "cell_type": "code",
   "execution_count": 23,
   "id": "3200a05d",
   "metadata": {},
   "outputs": [],
   "source": [
    "test_loader = create_training_dataloader(dtype=torch.FloatTensor, \n",
    "                                         batchsize=16, files=train_split, \n",
    "                                         ndays=4)"
   ]
  },
  {
   "cell_type": "code",
   "execution_count": 26,
   "id": "73e71c57",
   "metadata": {},
   "outputs": [
    {
     "name": "stdout",
     "output_type": "stream",
     "text": [
      "torch.Size([16, 4, 64, 64])\n",
      "torch.Size([16, 64, 64])\n"
     ]
    },
    {
     "data": {
      "image/png": "[encoded data removed]",
      "text/plain": [
       "<Figure size 640x480 with 1 Axes>"
      ]
     },
     "metadata": {},
     "output_type": "display_data"
    }
   ],
   "source": [
    "# Display a test image\n",
    "\n",
    "train_first, train_next = next(iter(test_loader)) \n",
    "\n",
    "print(train_first.shape)\n",
    "print(train_next.shape)\n",
    "\n",
    "plt.imshow(train_first[0][0]) # The first input image in the first batch\n",
    "plt.show()"
   ]
  }
 ],
 "metadata": {
  "kernelspec": {
   "display_name": "Python 3 (ipykernel)",
   "language": "python",
   "name": "python3"
  },
  "language_info": {
   "codemirror_mode": {
    "name": "ipython",
    "version": 3
   },
   "file_extension": ".py",
   "mimetype": "text/x-python",
   "name": "python",
   "nbconvert_exporter": "python",
   "pygments_lexer": "ipython3",
   "version": "3.9.16"
  },
  "toc": {
   "base_numbering": 1,
   "nav_menu": {},
   "number_sections": true,
   "sideBar": true,
   "skip_h1_title": false,
   "title_cell": "Table of Contents",
   "title_sidebar": "Contents",
   "toc_cell": true,
   "toc_position": {
    "height": "calc(100% - 180px)",
    "left": "10px",
    "top": "150px",
    "width": "255.17px"
   },
   "toc_section_display": true,
   "toc_window_display": true
  }
 },
 "nbformat": 4,
 "nbformat_minor": 5
}
