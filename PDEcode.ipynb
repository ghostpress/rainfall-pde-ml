{
 "cells": [
  {
   "cell_type": "markdown",
   "id": "1fbd00d6",
   "metadata": {
    "toc": true
   },
   "source": [
    "<h1>Table of Contents<span class=\"tocSkip\"></span></h1>\n",
    "<div class=\"toc\"><ul class=\"toc-item\"><li><span><a href=\"#Imports-and-set-up-functions\" data-toc-modified-id=\"Imports-and-set-up-functions-1\"><span class=\"toc-item-num\">1&nbsp;&nbsp;</span>Imports and set-up functions</a></span></li><li><span><a href=\"#Define-the-PDE-for-Sub-Surface-Temperature-(SST)\" data-toc-modified-id=\"Define-the-PDE-for-Sub-Surface-Temperature-(SST)-2\"><span class=\"toc-item-num\">2&nbsp;&nbsp;</span>Define the PDE for Sub-Surface Temperature (SST)</a></span><ul class=\"toc-item\"><li><span><a href=\"#Implement-SST-PDE\" data-toc-modified-id=\"Implement-SST-PDE-2.1\"><span class=\"toc-item-num\">2.1&nbsp;&nbsp;</span>Implement SST PDE</a></span></li></ul></li><li><span><a href=\"#Simulate-Data-Using-PDE-Solver\" data-toc-modified-id=\"Simulate-Data-Using-PDE-Solver-3\"><span class=\"toc-item-num\">3&nbsp;&nbsp;</span>Simulate Data Using PDE Solver</a></span></li></ul></div>"
   ]
  },
  {
   "cell_type": "markdown",
   "id": "cb46245a",
   "metadata": {},
   "source": [
    "# Imports and set-up functions"
   ]
  },
  {
   "cell_type": "code",
   "execution_count": 7,
   "id": "d364de9a",
   "metadata": {},
   "outputs": [],
   "source": [
    "import os\n",
    "import pde\n",
    "import numpy"
   ]
  },
  {
   "cell_type": "code",
   "execution_count": 4,
   "id": "d7080986",
   "metadata": {},
   "outputs": [],
   "source": [
    "def dataDir(x):\n",
    "    cwd = os.getcwd()\n",
    "    \n",
    "    return cwd + x "
   ]
  },
  {
   "cell_type": "markdown",
   "id": "dd6c1952",
   "metadata": {},
   "source": [
    "# Define the PDE for Sub-Surface Temperature (SST)"
   ]
  },
  {
   "cell_type": "markdown",
   "id": "f1b16214",
   "metadata": {},
   "source": [
    "From (Bézenac, Pajot, and Gallinari, 2019), **Theorem 1** (p. 3) describes the unique global solution to the advection-diffusion equation modeling SST, given an initial condition $I_0 \\in L^1(\\Bbb{R}^2)$ st $I_0(\\pm\\infty) = 0$:\n",
    "\n",
    "$\\begin{equation}\n",
    "I(x, t) = \\int_{\\Bbb{R}^2} k(x-\\omega, y)I_0(y)dy\n",
    "\\tag{1}\n",
    "\\label{eq1}\n",
    "\\end{equation}$\n",
    "\n",
    "where $k(x-\\omega, y) = \\frac{1}{4\\pi*D*\\Deltat}e^{-\\frac{1}{4D*\\Deltat}||x-\\omega-y||^2}$.\n"
   ]
  },
  {
   "cell_type": "markdown",
   "id": "ba767273",
   "metadata": {},
   "source": [
    "To implement this PDE in Python we use the library `py-pde` (docs [here](https://py-pde.readthedocs.io/en/latest/)). Although there are given methods for solving diffusion equations, we will need to implement a custom PDE for the advection-diffusion equation defined in $\\eqref{eq1}$."
   ]
  },
  {
   "cell_type": "markdown",
   "id": "53ecb82c",
   "metadata": {},
   "source": [
    "## Implement SST PDE"
   ]
  },
  {
   "cell_type": "code",
   "execution_count": 39,
   "id": "44c93b34",
   "metadata": {},
   "outputs": [],
   "source": [
    "from pde import PDEBase\n",
    "\n",
    "class affectionDiffusionPDE(PDEBase):\n",
    "    \n",
    "    # TODO: diffusion, D, is a matrix?\n",
    "    # TODO: motion (omega)?\n",
    "    # TODO: use eq. 2 or eq. 3 in paper?\n",
    "    # TODO: check boundary conditions\n",
    "    \n",
    "    def __init__(self, motion, D=1):\n",
    "        self.motion=motion\n",
    "        self.D = D\n",
    "        self.bc = \"auto_periodic_neumann\"\n",
    "    \n",
    "    def evolution_rate(self, state, t=0):\n",
    "        \"\"\"implement the python version of the evolution equation\"\"\"\n",
    "        \n",
    "        state_grad = state.gradient(bc=\"auto_periodic_neumann\")\n",
    "        state_lap = state.laplace(bc=\"auto_periodic_neumann\")\n",
    "        state_lap2 = state_lap.laplace(bc=\"auto_periodic_neumann\")\n",
    "\n",
    "        return ((self.D * state_lap2) - (self.motion @ state_grad)) "
   ]
  },
  {
   "cell_type": "code",
   "execution_count": 43,
   "id": "57b3686b",
   "metadata": {},
   "outputs": [
    {
     "data": {
      "application/vnd.jupyter.widget-view+json": {
       "model_id": "75987df5d62546098dd9e2d306bfb737",
       "version_major": 2,
       "version_minor": 0
      },
      "text/plain": [
       "  0%|          | 0/10.0 [00:00<?, ?it/s]"
      ]
     },
     "metadata": {},
     "output_type": "display_data"
    },
    {
     "data": {
      "image/png": "[encoded data removed]",
      "text/plain": [
       "<Figure size 640x480 with 2 Axes>"
      ]
     },
     "metadata": {},
     "output_type": "display_data"
    },
    {
     "data": {
      "text/plain": [
       "<pde.tools.plotting.PlotReference at 0x7f9c52c54c80>"
      ]
     },
     "execution_count": 43,
     "metadata": {},
     "output_type": "execute_result"
    }
   ],
   "source": [
    "# test\n",
    "\n",
    "from pde import VectorField, ScalarField, UnitGrid\n",
    "import random\n",
    "\n",
    "random.seed(42)\n",
    "\n",
    "grid = UnitGrid([32, 32])  # generate grid\n",
    "state = ScalarField.random_uniform(grid)  # generate initial condition\n",
    "motion = VectorField.random_uniform(grid)\n",
    "\n",
    "eq = affectionDiffusionPDE(motion=motion)  # define the pde\n",
    "result = eq.solve(state, t_range=10, dt=0.01)\n",
    "result.plot()"
   ]
  },
  {
   "cell_type": "markdown",
   "id": "bab66846",
   "metadata": {},
   "source": [
    "https://py-pde.readthedocs.io/en/latest/manual/advanced_usage.html#custom-pde-classes"
   ]
  },
  {
   "cell_type": "markdown",
   "id": "f75b83fb",
   "metadata": {},
   "source": [
    "# Simulate Data Using PDE Solver"
   ]
  },
  {
   "cell_type": "markdown",
   "id": "f820f0f8",
   "metadata": {},
   "source": [
    "For this step, we use the PDE solver `py-pde` and the instructions from [here](https://pypi.org/project/py-pde/)."
   ]
  },
  {
   "cell_type": "code",
   "execution_count": null,
   "id": "59756a8d",
   "metadata": {},
   "outputs": [],
   "source": [
    "grid = pde.UnitGrid(64, 64)                 # generate a grid\n",
    "init = pde.ScalarField.random_uniform(grid) # generate initial conditions on the grid\n",
    "\n"
   ]
  }
 ],
 "metadata": {
  "kernelspec": {
   "display_name": "Python 3 (ipykernel)",
   "language": "python",
   "name": "python3"
  },
  "language_info": {
   "codemirror_mode": {
    "name": "ipython",
    "version": 3
   },
   "file_extension": ".py",
   "mimetype": "text/x-python",
   "name": "python",
   "nbconvert_exporter": "python",
   "pygments_lexer": "ipython3",
   "version": "3.9.16"
  },
  "toc": {
   "base_numbering": 1,
   "nav_menu": {},
   "number_sections": true,
   "sideBar": true,
   "skip_h1_title": false,
   "title_cell": "Table of Contents",
   "title_sidebar": "Contents",
   "toc_cell": true,
   "toc_position": {},
   "toc_section_display": true,
   "toc_window_display": false
  }
 },
 "nbformat": 4,
 "nbformat_minor": 5
}
