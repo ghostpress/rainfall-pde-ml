{
 "cells": [
  {
   "cell_type": "markdown",
   "id": "3d08a392",
   "metadata": {
    "toc": true
   },
   "source": [
    "<h1>Table of Contents<span class=\"tocSkip\"></span></h1>\n",
    "<div class=\"toc\"><ul class=\"toc-item\"><li><span><a href=\"#Imports-and-set-up-functions\" data-toc-modified-id=\"Imports-and-set-up-functions-1\"><span class=\"toc-item-num\">1&nbsp;&nbsp;</span>Imports and set-up functions</a></span></li><li><span><a href=\"#Define-the-PDE-for-Sub-Surface-Temperature-(SST)\" data-toc-modified-id=\"Define-the-PDE-for-Sub-Surface-Temperature-(SST)-2\"><span class=\"toc-item-num\">2&nbsp;&nbsp;</span>Define the PDE for Sub-Surface Temperature (SST)</a></span></li><li><span><a href=\"#Simulate-SST-data\" data-toc-modified-id=\"Simulate-SST-data-3\"><span class=\"toc-item-num\">3&nbsp;&nbsp;</span>Simulate SST data</a></span><ul class=\"toc-item\"><li><span><a href=\"#Method-1:-Harmonic-approximation-of-motion-vector-w\" data-toc-modified-id=\"Method-1:-Harmonic-approximation-of-motion-vector-w-3.1\"><span class=\"toc-item-num\">3.1&nbsp;&nbsp;</span>Method 1: Harmonic approximation of motion vector w</a></span></li><li><span><a href=\"#Method-2:-Navier-Stokes-PDE-approximation-for-motion-vector-w\" data-toc-modified-id=\"Method-2:-Navier-Stokes-PDE-approximation-for-motion-vector-w-3.2\"><span class=\"toc-item-num\">3.2&nbsp;&nbsp;</span>Method 2: Navier-Stokes PDE approximation for motion vector w</a></span></li><li><span><a href=\"#Generate-simulated-SST-data\" data-toc-modified-id=\"Generate-simulated-SST-data-3.3\"><span class=\"toc-item-num\">3.3&nbsp;&nbsp;</span>Generate simulated SST data</a></span></li></ul></li><li><span><a href=\"#Predict-future-SST-states\" data-toc-modified-id=\"Predict-future-SST-states-4\"><span class=\"toc-item-num\">4&nbsp;&nbsp;</span>Predict future SST states</a></span><ul class=\"toc-item\"><li><span><a href=\"#CDNN\" data-toc-modified-id=\"CDNN-4.1\"><span class=\"toc-item-num\">4.1&nbsp;&nbsp;</span>CDNN</a></span></li></ul></li></ul></div>"
   ]
  },
  {
   "cell_type": "markdown",
   "id": "9e2a9822",
   "metadata": {},
   "source": [
    "# Imports and set-up functions"
   ]
  },
  {
   "cell_type": "code",
   "execution_count": 3,
   "id": "77619662",
   "metadata": {},
   "outputs": [],
   "source": [
    "import os"
   ]
  },
  {
   "cell_type": "code",
   "execution_count": 4,
   "id": "4b067532",
   "metadata": {},
   "outputs": [],
   "source": [
    "def dataDir(x):\n",
    "    cwd = os.getcwd()\n",
    "    \n",
    "    return cwd + x "
   ]
  },
  {
   "cell_type": "markdown",
   "id": "7240641c",
   "metadata": {},
   "source": [
    "# Define the PDE for Sub-Surface Temperature (SST)"
   ]
  },
  {
   "cell_type": "markdown",
   "id": "2d6b3b5d",
   "metadata": {},
   "source": [
    "From (Bézenac, Pajot, and Gallinari, 2019), Equation 3 (p. 2) gives the linear, elliptic PDE for advection-diffusion: \n",
    "\n",
    "$\\begin{equation}\n",
    "\\frac{\\partial I}{\\partial t} + (\\omega . \\nabla)I = D\\nabla^2 I\n",
    "\\tag{1}\n",
    "\\label{eq1}\n",
    "\\end{equation}$\n",
    "\n",
    "where $\\omega \\in \\mathbb{R^2}$ is the motion vector $\\frac{\\Delta x}{\\Delta t}$, $D$ is the diffusion coefficient, $\\nabla$ denotes the gradient operator, and $\\nabla^2$ denotes the Laplacian operator.\n"
   ]
  },
  {
   "cell_type": "markdown",
   "id": "8202cc9c",
   "metadata": {},
   "source": [
    "**Theorem 1** states that, for any initial condition $I_0 \\in L^1(\\mathbb{R}^2)$ with $I_0(\\pm \\infty) = 0$, there exists a unique global solution $I(x, t)$ to $\\eqref{eq1}$:\n",
    "\n",
    "$\\begin{equation}\n",
    "I(x, t) = \\int_{\\mathbb{R}^2} k(x - w, y) I_0(y)dy\n",
    "\\tag{2}\n",
    "\\label{eq2}\n",
    "\\end{equation}$"
   ]
  },
  {
   "cell_type": "markdown",
   "id": "61a697e7",
   "metadata": {},
   "source": [
    "Where $k(u, v) = \\frac{1}{4\\pi Dt}e^{-\\frac{1}{4Dt}||u-v||^2}$ is a radial basis function kernel, or alternatively, a 2-dimensional Gaussian probability density with mean $u$ and variance $2Dt$."
   ]
  },
  {
   "cell_type": "markdown",
   "id": "30c688f8",
   "metadata": {},
   "source": [
    "All this means that if the initial condition $I_0$, the diffusion coefficient $D$, and the motion vector $\\vec\\omega$ were known, future temperatures could be predicted from past ones. Unfortunately in practice, none of these quantities are known; they must be estimated from the data. Below, we simulate test data and use it to estimate the motion vector $\\vec\\omega$ using a Convolution-Deconvolution Neural Network (CDNN). "
   ]
  },
  {
   "cell_type": "markdown",
   "id": "edb91ae6",
   "metadata": {},
   "source": [
    "# Simulate SST data "
   ]
  },
  {
   "cell_type": "markdown",
   "id": "bfd17168",
   "metadata": {},
   "source": [
    "## Method 1: Harmonic approximation of motion vector w"
   ]
  },
  {
   "cell_type": "markdown",
   "id": "95943cc0",
   "metadata": {},
   "source": [
    "Let us define an approximation function for the motion vector $\\omega(x, t)$, for $x \\in \\mathbb{R^2}$: \n",
    "\n",
    "$\\begin{equation}\n",
    "\\hat{\\omega}(t, x) = \\beta_0(x) + \\beta_1(x)\\sin(\\frac{2\\pi t}{24}) + \\beta_2(x)\\sin(\\frac{2\\pi t}{12}) + \\epsilon\n",
    "\\tag{3}\n",
    "\\label{eq3}\n",
    "\\end{equation}$"
   ]
  },
  {
   "cell_type": "markdown",
   "id": "3fd4c536",
   "metadata": {},
   "source": [
    "where $\\epsilon$ is some multivariate Gaussian noise with mean $\\mu \\in \\mathbb{R^2}$ and covariance matrix $\\Sigma \\in \\mathbb{R^{2x2}}$. The scalar values $24$ and $12$ represent the period of the harmonic, for example if $t$ is expressed in hours. "
   ]
  },
  {
   "cell_type": "markdown",
   "id": "5eacff75",
   "metadata": {},
   "source": [
    "## Method 2: Navier-Stokes PDE approximation for motion vector w"
   ]
  },
  {
   "cell_type": "markdown",
   "id": "40e3d39e",
   "metadata": {},
   "source": [
    "The motion vector $\\vec\\omega$ can be estimated using a Navier-Stokes PDE solver. The Navier-Stokes equations  mathematically express momentum balance and conservation of mass for Newtonian fluids, for example ocean water. The solution of the equations is a flow velocity, equivalent to the motion vector $\\vec\\omega$. It is a vector field—to every point in a fluid, at any moment in a time interval, it gives a vector whose direction and magnitude are those of the velocity of the fluid at that point in space and at that moment in time.\n",
    "\n",
    "The conservation form of the Navier-Stokes equations is as follows:"
   ]
  },
  {
   "cell_type": "markdown",
   "id": "18f01415",
   "metadata": {},
   "source": [
    "https://en.wikipedia.org/wiki/Navier%E2%80%93Stokes_equations\n",
    "\n",
    "https://github.com/NEMO-ocean/NEMO-examples\n",
    "\n",
    "https://github.com/emited/flow\n",
    "\n",
    "https://pypde.readthedocs.io/en/latest/pages/example_code.html#navier-stokes-2d-parabolic"
   ]
  },
  {
   "cell_type": "markdown",
   "id": "9f71b208",
   "metadata": {},
   "source": [
    "## Generate simulated SST data"
   ]
  },
  {
   "cell_type": "markdown",
   "id": "aeab6cce",
   "metadata": {
    "toc": true
   },
   "source": [
    "# Predict future SST states"
   ]
  },
  {
   "cell_type": "markdown",
   "id": "bd4ec5c0",
   "metadata": {},
   "source": [
    "## CDNN"
   ]
  }
 ],
 "metadata": {
  "kernelspec": {
   "display_name": "Python 3 (ipykernel)",
   "language": "python",
   "name": "python3"
  },
  "language_info": {
   "codemirror_mode": {
    "name": "ipython",
    "version": 3
   },
   "file_extension": ".py",
   "mimetype": "text/x-python",
   "name": "python",
   "nbconvert_exporter": "python",
   "pygments_lexer": "ipython3",
   "version": "3.9.16"
  },
  "toc": {
   "base_numbering": 1,
   "nav_menu": {},
   "number_sections": true,
   "sideBar": true,
   "skip_h1_title": false,
   "title_cell": "Table of Contents",
   "title_sidebar": "Contents",
   "toc_cell": true,
   "toc_position": {},
   "toc_section_display": true,
   "toc_window_display": false
  }
 },
 "nbformat": 4,
 "nbformat_minor": 5
}
