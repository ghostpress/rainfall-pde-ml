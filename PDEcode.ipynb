{
 "cells": [
  {
   "cell_type": "markdown",
   "id": "37c8005c",
   "metadata": {
    "toc": true
   },
   "source": [
    "<h1>Table of Contents<span class=\"tocSkip\"></span></h1>\n",
    "<div class=\"toc\"><ul class=\"toc-item\"><li><span><a href=\"#Imports-and-set-up-functions\" data-toc-modified-id=\"Imports-and-set-up-functions-1\"><span class=\"toc-item-num\">1&nbsp;&nbsp;</span>Imports and set-up functions</a></span></li><li><span><a href=\"#Define-the-PDE-for-Sub-Surface-Temperature-(SST)\" data-toc-modified-id=\"Define-the-PDE-for-Sub-Surface-Temperature-(SST)-2\"><span class=\"toc-item-num\">2&nbsp;&nbsp;</span>Define the PDE for Sub-Surface Temperature (SST)</a></span></li><li><span><a href=\"#Simulate-SST-data\" data-toc-modified-id=\"Simulate-SST-data-3\"><span class=\"toc-item-num\">3&nbsp;&nbsp;</span>Simulate SST data</a></span><ul class=\"toc-item\"><li><span><a href=\"#Use-2D-Navier-Stokes-solver-to-simulation-motion-vector\" data-toc-modified-id=\"Use-2D-Navier-Stokes-solver-to-simulation-motion-vector-3.1\"><span class=\"toc-item-num\">3.1&nbsp;&nbsp;</span>Use 2D Navier-Stokes solver to simulation motion vector</a></span></li><li><span><a href=\"#Generate-simulated-SST-data\" data-toc-modified-id=\"Generate-simulated-SST-data-3.2\"><span class=\"toc-item-num\">3.2&nbsp;&nbsp;</span>Generate simulated SST data</a></span></li></ul></li><li><span><a href=\"#Predict-future-SST-states\" data-toc-modified-id=\"Predict-future-SST-states-4\"><span class=\"toc-item-num\">4&nbsp;&nbsp;</span>Predict future SST states</a></span><ul class=\"toc-item\"><li><span><a href=\"#CDNN\" data-toc-modified-id=\"CDNN-4.1\"><span class=\"toc-item-num\">4.1&nbsp;&nbsp;</span>CDNN</a></span></li></ul></li></ul></div>"
   ]
  },
  {
   "cell_type": "markdown",
   "id": "9e2a9822",
   "metadata": {},
   "source": [
    "# Imports and set-up functions"
   ]
  },
  {
   "cell_type": "code",
   "execution_count": 3,
   "id": "77619662",
   "metadata": {},
   "outputs": [],
   "source": [
    "import os"
   ]
  },
  {
   "cell_type": "code",
   "execution_count": 4,
   "id": "4b067532",
   "metadata": {},
   "outputs": [],
   "source": [
    "def dataDir(x):\n",
    "    cwd = os.getcwd()\n",
    "    \n",
    "    return cwd + x "
   ]
  },
  {
   "cell_type": "markdown",
   "id": "7240641c",
   "metadata": {},
   "source": [
    "# Define the PDE for Sub-Surface Temperature (SST)"
   ]
  },
  {
   "cell_type": "markdown",
   "id": "2d6b3b5d",
   "metadata": {},
   "source": [
    "From (Bézenac, Pajot, and Gallinari, 2019), Equation 3 (p. 2) gives the linear, elliptic PDE for advection-diffusion: \n",
    "\n",
    "$\\begin{equation}\n",
    "\\frac{\\partial I}{\\partial t} + (\\vec\\omega . \\nabla)I = D\\nabla^2 I\n",
    "\\tag{1}\n",
    "\\label{eq1}\n",
    "\\end{equation}$\n",
    "\n",
    "where $\\vec\\omega$ is the motion vector $\\frac{\\Delta x}{\\Delta t}$, $D$ is the diffusion coefficient, $\\nabla$ denotes the gradient operator, and $\\nabla^2$ denotes the Laplacian operator.\n"
   ]
  },
  {
   "cell_type": "markdown",
   "id": "0efa8960",
   "metadata": {},
   "source": [
    "**Theorem 1** states that, for any initial condition $I_0 \\in L^1(\\mathbb{R}^2)$ with $I_0(\\pm \\infty) = 0$, there exists a unique global solution $I(x, t)$ to $\\eqref{eq1}$:\n",
    "\n",
    "$\\begin{equation}\n",
    "I(x, t) = \\int_{\\mathbb{R}^2} k(x - w, y) I_0(y)dy\n",
    "\\tag{2}\n",
    "\\label{eq2}\n",
    "\\end{equation}$"
   ]
  },
  {
   "cell_type": "markdown",
   "id": "26d00c22",
   "metadata": {},
   "source": [
    "Where $k(u, v) = \\frac{1}{4\\pi Dt}e^{-\\frac{1}{4Dt}||u-v||^2}$ is a radial basis function kernel, or alternatively, a 2-dimensional Gaussian probability density with mean $u$ and variance $2Dt$."
   ]
  },
  {
   "cell_type": "markdown",
   "id": "f3848a61",
   "metadata": {},
   "source": [
    "All this means that if the initial condition $I_0$, the diffusion coefficient $D$, and the motion vector $\\vec\\omega$ were known, future temperatures could be predicted from past ones. Unfortunately in practice, none of these quantities are known; they must be estimated from the data. Below, we simulate test data and use it to estimate the motion vector $\\vec\\omega$ using a Convolution-Deconvolution Neural Network (CDNN). "
   ]
  },
  {
   "cell_type": "markdown",
   "id": "edb91ae6",
   "metadata": {},
   "source": [
    "# Simulate SST data "
   ]
  },
  {
   "cell_type": "markdown",
   "id": "628a0912",
   "metadata": {},
   "source": [
    "The motion vector $\\vec\\omega$ can be estimated using a Navier-Stokes PDE solver. The Navier-Stokes equations  mathematically express momentum balance and conservation of mass for Newtonian fluids, for example ocean water. The solution of the equations is a flow velocity, equivalent to the motion vector $\\vec\\omega$. It is a vector field—to every point in a fluid, at any moment in a time interval, it gives a vector whose direction and magnitude are those of the velocity of the fluid at that point in space and at that moment in time."
   ]
  },
  {
   "cell_type": "markdown",
   "id": "0e5ac1f9",
   "metadata": {},
   "source": [
    "## Use 2D Navier-Stokes solver to simulation motion vector"
   ]
  },
  {
   "cell_type": "markdown",
   "id": "9f71b208",
   "metadata": {},
   "source": [
    "## Generate simulated SST data"
   ]
  },
  {
   "cell_type": "markdown",
   "id": "aeab6cce",
   "metadata": {
    "toc": true
   },
   "source": [
    "# Predict future SST states"
   ]
  },
  {
   "cell_type": "markdown",
   "id": "ecfb104d",
   "metadata": {},
   "source": [
    "## CDNN"
   ]
  }
 ],
 "metadata": {
  "kernelspec": {
   "display_name": "Python 3 (ipykernel)",
   "language": "python",
   "name": "python3"
  },
  "language_info": {
   "codemirror_mode": {
    "name": "ipython",
    "version": 3
   },
   "file_extension": ".py",
   "mimetype": "text/x-python",
   "name": "python",
   "nbconvert_exporter": "python",
   "pygments_lexer": "ipython3",
   "version": "3.9.16"
  },
  "toc": {
   "base_numbering": 1,
   "nav_menu": {},
   "number_sections": true,
   "sideBar": true,
   "skip_h1_title": false,
   "title_cell": "Table of Contents",
   "title_sidebar": "Contents",
   "toc_cell": true,
   "toc_position": {},
   "toc_section_display": true,
   "toc_window_display": false
  }
 },
 "nbformat": 4,
 "nbformat_minor": 5
}
