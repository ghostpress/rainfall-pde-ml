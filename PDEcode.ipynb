{
 "cells": [
  {
   "cell_type": "markdown",
   "id": "aeab6cce",
   "metadata": {
    "toc": true
   },
   "source": [
    "<h1>Table of Contents<span class=\"tocSkip\"></span></h1>\n",
    "<div class=\"toc\"><ul class=\"toc-item\"><li><span><a href=\"#Imports-and-set-up-functions\" data-toc-modified-id=\"Imports-and-set-up-functions-1\"><span class=\"toc-item-num\">1&nbsp;&nbsp;</span>Imports and set-up functions</a></span></li><li><span><a href=\"#Define-the-PDE-for-Sub-Surface-Temperature-(SST)\" data-toc-modified-id=\"Define-the-PDE-for-Sub-Surface-Temperature-(SST)-2\"><span class=\"toc-item-num\">2&nbsp;&nbsp;</span>Define the PDE for Sub-Surface Temperature (SST)</a></span><ul class=\"toc-item\"><li><span><a href=\"#Implement-SST-PDE\" data-toc-modified-id=\"Implement-SST-PDE-2.1\"><span class=\"toc-item-num\">2.1&nbsp;&nbsp;</span>Implement SST PDE</a></span></li></ul></li><li><span><a href=\"#Simulate-Data-Using-PDE-Solver\" data-toc-modified-id=\"Simulate-Data-Using-PDE-Solver-3\"><span class=\"toc-item-num\">3&nbsp;&nbsp;</span>Simulate Data Using PDE Solver</a></span></li></ul></div>"
   ]
  },
  {
   "cell_type": "markdown",
   "id": "9e2a9822",
   "metadata": {},
   "source": [
    "# Imports and set-up functions"
   ]
  },
  {
   "cell_type": "code",
   "execution_count": 7,
   "id": "77619662",
   "metadata": {},
   "outputs": [],
   "source": [
    "import os\n",
    "import pde\n",
    "import numpy"
   ]
  },
  {
   "cell_type": "code",
   "execution_count": 4,
   "id": "4b067532",
   "metadata": {},
   "outputs": [],
   "source": [
    "def dataDir(x):\n",
    "    cwd = os.getcwd()\n",
    "    \n",
    "    return cwd + x "
   ]
  },
  {
   "cell_type": "markdown",
   "id": "7240641c",
   "metadata": {},
   "source": [
    "# Define the PDE for Sub-Surface Temperature (SST)"
   ]
  },
  {
   "cell_type": "markdown",
   "id": "2d6b3b5d",
   "metadata": {},
   "source": [
    "From (Bézenac, Pajot, and Gallinari, 2019), Equation 3 (p. 2) gives the PDE for advection-diffusion: \n",
    "\n",
    "$\\begin{equation}\n",
    "\\frac{\\partial I}{\\partial t} + (\\vec\\omega . \\nabla)I = D\\nabla^2 I\n",
    "\\tag{1}\n",
    "\\label{eq1}\n",
    "\\end{equation}$\n",
    "\n",
    "where $\\vec\\omega$ is the motion vector $\\frac{\\Delta x}{\\Delta t}$, $D$ is the diffusion coefficient, $\\nabla$ denotes the gradient operator, and $\\nabla^2$ denotes the Laplacian operator.\n"
   ]
  },
  {
   "cell_type": "markdown",
   "id": "6c224fdd",
   "metadata": {},
   "source": [
    "To implement this PDE in Python we use the library `py-pde` (docs [here](https://py-pde.readthedocs.io/en/latest/)). Although there are given methods for solving diffusion equations, we will need to implement a custom PDE for the advection-diffusion equation defined in $\\eqref{eq1}$, especially because $\\vec\\omega$ changes over time."
   ]
  },
  {
   "cell_type": "markdown",
   "id": "edb91ae6",
   "metadata": {},
   "source": [
    "## Implement SST PDE"
   ]
  },
  {
   "cell_type": "code",
   "execution_count": 82,
   "id": "e79e2151",
   "metadata": {},
   "outputs": [],
   "source": [
    "from pde import PDEBase\n",
    "\n",
    "class AdvectionDiffusionPDE(PDEBase):\n",
    "    \n",
    "    # TODO: diffusion, D, is a matrix?\n",
    "    # TODO: motion (omega) changing over time\n",
    "    # TODO: check boundary conditions\n",
    "    \n",
    "    def __init__(self, motion, D=1):\n",
    "        self.motion=motion\n",
    "        self.D = D\n",
    "        self.bc = {\"value\": 0}  # test\n",
    "    \n",
    "    def evolution_rate(self, state, t=0):\n",
    "        \"\"\"implement the python version of the evolution equation\"\"\"\n",
    "        \n",
    "        state_grad = state.gradient(bc={\"value\": 1.5})\n",
    "        state_lap = state.laplace(bc={\"value\": 1.5})\n",
    "        state_lap2 = state_lap.laplace(bc={\"value\": 1.5})\n",
    "\n",
    "        return ((self.D * state_lap2) - (self.motion @ state_grad)) "
   ]
  },
  {
   "cell_type": "code",
   "execution_count": 84,
   "id": "bc901f9b",
   "metadata": {},
   "outputs": [
    {
     "data": {
      "application/vnd.jupyter.widget-view+json": {
       "model_id": "50dba96c6b9b4a25ad4877bbe26f80c3",
       "version_major": 2,
       "version_minor": 0
      },
      "text/plain": [
       "  0%|          | 0/10.0 [00:00<?, ?it/s]"
      ]
     },
     "metadata": {},
     "output_type": "display_data"
    },
    {
     "data": {
      "application/vnd.jupyter.widget-view+json": {
       "model_id": "1d5fd21ee7e940409285def67e9b8584",
       "version_major": 2,
       "version_minor": 0
      },
      "text/plain": [
       "Output()"
      ]
     },
     "metadata": {},
     "output_type": "display_data"
    },
    {
     "name": "stdout",
     "output_type": "stream",
     "text": [
      "t=0, c=0.00785±0.0622\n",
      "t=0.05, c=-1.48±36.9\n",
      "t=0.16, c=-1.07e+07±1.42e+09\n",
      "t=1.77, c=-1.39e+121±6.37e+123\n"
     ]
    },
    {
     "name": "stderr",
     "output_type": "stream",
     "text": [
      "/home/lucia/anaconda3/envs/ml-pde/lib/python3.9/site-packages/pde/fields/base.py:499: RuntimeWarning: invalid value encountered in subtract\n",
      "  op(self.data, other.data, out=result.data)\n"
     ]
    },
    {
     "ename": "ValueError",
     "evalue": "zero-size array to reduction operation maximum which has no identity",
     "output_type": "error",
     "traceback": [
      "\u001b[0;31m---------------------------------------------------------------------------\u001b[0m",
      "\u001b[0;31mValueError\u001b[0m                                Traceback (most recent call last)",
      "Cell \u001b[0;32mIn[84], line 28\u001b[0m\n\u001b[1;32m     17\u001b[0m storage \u001b[38;5;241m=\u001b[39m pde\u001b[38;5;241m.\u001b[39mMemoryStorage()\n\u001b[1;32m     19\u001b[0m trackers \u001b[38;5;241m=\u001b[39m [\n\u001b[1;32m     20\u001b[0m     \u001b[38;5;124m\"\u001b[39m\u001b[38;5;124mprogress\u001b[39m\u001b[38;5;124m\"\u001b[39m,  \u001b[38;5;66;03m# show progress bar during simulation\u001b[39;00m\n\u001b[1;32m     21\u001b[0m     \u001b[38;5;124m\"\u001b[39m\u001b[38;5;124msteady_state\u001b[39m\u001b[38;5;124m\"\u001b[39m,  \u001b[38;5;66;03m# abort when steady state is reached\u001b[39;00m\n\u001b[0;32m   (...)\u001b[0m\n\u001b[1;32m     25\u001b[0m     pde\u001b[38;5;241m.\u001b[39mPrintTracker(interval\u001b[38;5;241m=\u001b[39mpde\u001b[38;5;241m.\u001b[39mRealtimeInterrupts(duration\u001b[38;5;241m=\u001b[39m\u001b[38;5;241m5\u001b[39m)),\n\u001b[1;32m     26\u001b[0m ]\n\u001b[0;32m---> 28\u001b[0m result \u001b[38;5;241m=\u001b[39m \u001b[43meq\u001b[49m\u001b[38;5;241;43m.\u001b[39;49m\u001b[43msolve\u001b[49m\u001b[43m(\u001b[49m\u001b[43mstate\u001b[49m\u001b[43m,\u001b[49m\u001b[43m \u001b[49m\u001b[43mt_range\u001b[49m\u001b[38;5;241;43m=\u001b[39;49m\u001b[38;5;241;43m10\u001b[39;49m\u001b[43m,\u001b[49m\u001b[43m \u001b[49m\u001b[43mdt\u001b[49m\u001b[38;5;241;43m=\u001b[39;49m\u001b[38;5;241;43m0.01\u001b[39;49m\u001b[43m,\u001b[49m\u001b[43m \u001b[49m\u001b[43mtracker\u001b[49m\u001b[38;5;241;43m=\u001b[39;49m\u001b[43mtrackers\u001b[49m\u001b[43m)\u001b[49m\n\u001b[1;32m     30\u001b[0m \u001b[38;5;28;01mfor\u001b[39;00m field \u001b[38;5;129;01min\u001b[39;00m storage:\n\u001b[1;32m     31\u001b[0m     \u001b[38;5;28mprint\u001b[39m(field\u001b[38;5;241m.\u001b[39mintegral)\n",
      "File \u001b[0;32m~/anaconda3/envs/ml-pde/lib/python3.9/site-packages/pde/pdes/base.py:597\u001b[0m, in \u001b[0;36mPDEBase.solve\u001b[0;34m(self, state, t_range, dt, tracker, method, ret_info, **kwargs)\u001b[0m\n\u001b[1;32m    594\u001b[0m controller \u001b[38;5;241m=\u001b[39m Controller(solver, t_range\u001b[38;5;241m=\u001b[39mt_range, tracker\u001b[38;5;241m=\u001b[39mtracker)\n\u001b[1;32m    596\u001b[0m \u001b[38;5;66;03m# run the simulation\u001b[39;00m\n\u001b[0;32m--> 597\u001b[0m final_state \u001b[38;5;241m=\u001b[39m \u001b[43mcontroller\u001b[49m\u001b[38;5;241;43m.\u001b[39;49m\u001b[43mrun\u001b[49m\u001b[43m(\u001b[49m\u001b[43mstate\u001b[49m\u001b[43m,\u001b[49m\u001b[43m \u001b[49m\u001b[43mdt\u001b[49m\u001b[43m)\u001b[49m\n\u001b[1;32m    599\u001b[0m \u001b[38;5;66;03m# copy diagnostic information to the PDE instance\u001b[39;00m\n\u001b[1;32m    600\u001b[0m \u001b[38;5;28;01mif\u001b[39;00m \u001b[38;5;28mhasattr\u001b[39m(\u001b[38;5;28mself\u001b[39m, \u001b[38;5;124m\"\u001b[39m\u001b[38;5;124mdiagnostics\u001b[39m\u001b[38;5;124m\"\u001b[39m):\n",
      "File \u001b[0;32m~/anaconda3/envs/ml-pde/lib/python3.9/site-packages/pde/solvers/controller.py:322\u001b[0m, in \u001b[0;36mController.run\u001b[0;34m(self, initial_state, dt)\u001b[0m\n\u001b[1;32m    319\u001b[0m \u001b[38;5;66;03m# decide whether to call the main routine or whether this is an MPI client\u001b[39;00m\n\u001b[1;32m    320\u001b[0m \u001b[38;5;28;01mif\u001b[39;00m mpi\u001b[38;5;241m.\u001b[39mis_main:\n\u001b[1;32m    321\u001b[0m     \u001b[38;5;66;03m# this node is the primary one\u001b[39;00m\n\u001b[0;32m--> 322\u001b[0m     \u001b[38;5;28;43mself\u001b[39;49m\u001b[38;5;241;43m.\u001b[39;49m\u001b[43m_run_single\u001b[49m\u001b[43m(\u001b[49m\u001b[43mstate\u001b[49m\u001b[43m,\u001b[49m\u001b[43m \u001b[49m\u001b[43mdt\u001b[49m\u001b[43m)\u001b[49m\n\u001b[1;32m    323\u001b[0m     \u001b[38;5;28mself\u001b[39m\u001b[38;5;241m.\u001b[39minfo[\u001b[38;5;124m\"\u001b[39m\u001b[38;5;124mprocess_count\u001b[39m\u001b[38;5;124m\"\u001b[39m] \u001b[38;5;241m=\u001b[39m mpi\u001b[38;5;241m.\u001b[39msize\n\u001b[1;32m    324\u001b[0m \u001b[38;5;28;01melse\u001b[39;00m:\n\u001b[1;32m    325\u001b[0m     \u001b[38;5;66;03m# multiple processes are used and this is one of the secondaries\u001b[39;00m\n",
      "File \u001b[0;32m~/anaconda3/envs/ml-pde/lib/python3.9/site-packages/pde/solvers/controller.py:194\u001b[0m, in \u001b[0;36mController._run_single\u001b[0;34m(self, state, dt)\u001b[0m\n\u001b[1;32m    191\u001b[0m \u001b[38;5;28;01mtry\u001b[39;00m:\n\u001b[1;32m    192\u001b[0m     \u001b[38;5;28;01mwhile\u001b[39;00m t \u001b[38;5;241m<\u001b[39m t_end:\n\u001b[1;32m    193\u001b[0m         \u001b[38;5;66;03m# determine next time point with an action\u001b[39;00m\n\u001b[0;32m--> 194\u001b[0m         t_next_action \u001b[38;5;241m=\u001b[39m \u001b[38;5;28;43mself\u001b[39;49m\u001b[38;5;241;43m.\u001b[39;49m\u001b[43mtrackers\u001b[49m\u001b[38;5;241;43m.\u001b[39;49m\u001b[43mhandle\u001b[49m\u001b[43m(\u001b[49m\u001b[43mstate\u001b[49m\u001b[43m,\u001b[49m\u001b[43m \u001b[49m\u001b[43mt\u001b[49m\u001b[43m,\u001b[49m\u001b[43m \u001b[49m\u001b[43matol\u001b[49m\u001b[38;5;241;43m=\u001b[39;49m\u001b[43matol\u001b[49m\u001b[43m)\u001b[49m\n\u001b[1;32m    195\u001b[0m         t_next_action \u001b[38;5;241m=\u001b[39m \u001b[38;5;28mmax\u001b[39m(t_next_action, t \u001b[38;5;241m+\u001b[39m atol)\n\u001b[1;32m    196\u001b[0m         t_break \u001b[38;5;241m=\u001b[39m \u001b[38;5;28mmin\u001b[39m(t_next_action, t_end)\n",
      "File \u001b[0;32m~/anaconda3/envs/ml-pde/lib/python3.9/site-packages/pde/trackers/base.py:241\u001b[0m, in \u001b[0;36mTrackerCollection.handle\u001b[0;34m(self, state, t, atol)\u001b[0m\n\u001b[1;32m    239\u001b[0m \u001b[38;5;28;01mif\u001b[39;00m t \u001b[38;5;241m>\u001b[39m t_next \u001b[38;5;129;01mor\u001b[39;00m np\u001b[38;5;241m.\u001b[39misclose(t, t_next, atol\u001b[38;5;241m=\u001b[39matol, rtol\u001b[38;5;241m=\u001b[39m\u001b[38;5;241m0\u001b[39m):\n\u001b[1;32m    240\u001b[0m     \u001b[38;5;28;01mtry\u001b[39;00m:\n\u001b[0;32m--> 241\u001b[0m         \u001b[38;5;28;43mself\u001b[39;49m\u001b[38;5;241;43m.\u001b[39;49m\u001b[43mtrackers\u001b[49m\u001b[43m[\u001b[49m\u001b[43mi\u001b[49m\u001b[43m]\u001b[49m\u001b[38;5;241;43m.\u001b[39;49m\u001b[43mhandle\u001b[49m\u001b[43m(\u001b[49m\u001b[43mstate\u001b[49m\u001b[43m,\u001b[49m\u001b[43m \u001b[49m\u001b[43mt\u001b[49m\u001b[43m)\u001b[49m\n\u001b[1;32m    242\u001b[0m     \u001b[38;5;28;01mexcept\u001b[39;00m \u001b[38;5;167;01mStopIteration\u001b[39;00m \u001b[38;5;28;01mas\u001b[39;00m err:\n\u001b[1;32m    243\u001b[0m         \u001b[38;5;66;03m# stop iteration after all trackers have been handled\u001b[39;00m\n\u001b[1;32m    244\u001b[0m         stop_iteration_err \u001b[38;5;241m=\u001b[39m err\n",
      "File \u001b[0;32m~/anaconda3/envs/ml-pde/lib/python3.9/site-packages/pde/trackers/trackers.py:736\u001b[0m, in \u001b[0;36mSteadyStateTracker.handle\u001b[0;34m(self, field, t)\u001b[0m\n\u001b[1;32m    734\u001b[0m     diff \u001b[38;5;241m=\u001b[39m np\u001b[38;5;241m.\u001b[39mabs(\u001b[38;5;28mself\u001b[39m\u001b[38;5;241m.\u001b[39m_last_data[finite] \u001b[38;5;241m-\u001b[39m field\u001b[38;5;241m.\u001b[39mdata[finite])\n\u001b[1;32m    735\u001b[0m     diff_abs \u001b[38;5;241m=\u001b[39m diff \u001b[38;5;241m-\u001b[39m \u001b[38;5;28mself\u001b[39m\u001b[38;5;241m.\u001b[39mrtol \u001b[38;5;241m*\u001b[39m \u001b[38;5;28mself\u001b[39m\u001b[38;5;241m.\u001b[39minterrupt\u001b[38;5;241m.\u001b[39mdt \u001b[38;5;241m*\u001b[39m np\u001b[38;5;241m.\u001b[39mabs(field\u001b[38;5;241m.\u001b[39mdata[finite])\n\u001b[0;32m--> 736\u001b[0m     diff_abs_max \u001b[38;5;241m=\u001b[39m \u001b[43mnp\u001b[49m\u001b[38;5;241;43m.\u001b[39;49m\u001b[43mmax\u001b[49m\u001b[43m(\u001b[49m\u001b[43mdiff_abs\u001b[49m\u001b[43m)\u001b[49m \u001b[38;5;241m/\u001b[39m \u001b[38;5;28mself\u001b[39m\u001b[38;5;241m.\u001b[39minterrupt\u001b[38;5;241m.\u001b[39mdt\n\u001b[1;32m    738\u001b[0m     \u001b[38;5;28mself\u001b[39m\u001b[38;5;241m.\u001b[39m_last_data[:] \u001b[38;5;241m=\u001b[39m field\u001b[38;5;241m.\u001b[39mdata  \u001b[38;5;66;03m# save current data for next comparison\u001b[39;00m\n\u001b[1;32m    740\u001b[0m \u001b[38;5;28;01melse\u001b[39;00m:\n\u001b[1;32m    741\u001b[0m     \u001b[38;5;66;03m# create storage for the data\u001b[39;00m\n",
      "File \u001b[0;32m<__array_function__ internals>:180\u001b[0m, in \u001b[0;36mamax\u001b[0;34m(*args, **kwargs)\u001b[0m\n",
      "File \u001b[0;32m~/anaconda3/envs/ml-pde/lib/python3.9/site-packages/numpy/core/fromnumeric.py:2793\u001b[0m, in \u001b[0;36mamax\u001b[0;34m(a, axis, out, keepdims, initial, where)\u001b[0m\n\u001b[1;32m   2677\u001b[0m \u001b[38;5;129m@array_function_dispatch\u001b[39m(_amax_dispatcher)\n\u001b[1;32m   2678\u001b[0m \u001b[38;5;28;01mdef\u001b[39;00m \u001b[38;5;21mamax\u001b[39m(a, axis\u001b[38;5;241m=\u001b[39m\u001b[38;5;28;01mNone\u001b[39;00m, out\u001b[38;5;241m=\u001b[39m\u001b[38;5;28;01mNone\u001b[39;00m, keepdims\u001b[38;5;241m=\u001b[39mnp\u001b[38;5;241m.\u001b[39m_NoValue, initial\u001b[38;5;241m=\u001b[39mnp\u001b[38;5;241m.\u001b[39m_NoValue,\n\u001b[1;32m   2679\u001b[0m          where\u001b[38;5;241m=\u001b[39mnp\u001b[38;5;241m.\u001b[39m_NoValue):\n\u001b[1;32m   2680\u001b[0m \u001b[38;5;250m    \u001b[39m\u001b[38;5;124;03m\"\"\"\u001b[39;00m\n\u001b[1;32m   2681\u001b[0m \u001b[38;5;124;03m    Return the maximum of an array or maximum along an axis.\u001b[39;00m\n\u001b[1;32m   2682\u001b[0m \n\u001b[0;32m   (...)\u001b[0m\n\u001b[1;32m   2791\u001b[0m \u001b[38;5;124;03m    5\u001b[39;00m\n\u001b[1;32m   2792\u001b[0m \u001b[38;5;124;03m    \"\"\"\u001b[39;00m\n\u001b[0;32m-> 2793\u001b[0m     \u001b[38;5;28;01mreturn\u001b[39;00m \u001b[43m_wrapreduction\u001b[49m\u001b[43m(\u001b[49m\u001b[43ma\u001b[49m\u001b[43m,\u001b[49m\u001b[43m \u001b[49m\u001b[43mnp\u001b[49m\u001b[38;5;241;43m.\u001b[39;49m\u001b[43mmaximum\u001b[49m\u001b[43m,\u001b[49m\u001b[43m \u001b[49m\u001b[38;5;124;43m'\u001b[39;49m\u001b[38;5;124;43mmax\u001b[39;49m\u001b[38;5;124;43m'\u001b[39;49m\u001b[43m,\u001b[49m\u001b[43m \u001b[49m\u001b[43maxis\u001b[49m\u001b[43m,\u001b[49m\u001b[43m \u001b[49m\u001b[38;5;28;43;01mNone\u001b[39;49;00m\u001b[43m,\u001b[49m\u001b[43m \u001b[49m\u001b[43mout\u001b[49m\u001b[43m,\u001b[49m\n\u001b[1;32m   2794\u001b[0m \u001b[43m                          \u001b[49m\u001b[43mkeepdims\u001b[49m\u001b[38;5;241;43m=\u001b[39;49m\u001b[43mkeepdims\u001b[49m\u001b[43m,\u001b[49m\u001b[43m \u001b[49m\u001b[43minitial\u001b[49m\u001b[38;5;241;43m=\u001b[39;49m\u001b[43minitial\u001b[49m\u001b[43m,\u001b[49m\u001b[43m \u001b[49m\u001b[43mwhere\u001b[49m\u001b[38;5;241;43m=\u001b[39;49m\u001b[43mwhere\u001b[49m\u001b[43m)\u001b[49m\n",
      "File \u001b[0;32m~/anaconda3/envs/ml-pde/lib/python3.9/site-packages/numpy/core/fromnumeric.py:86\u001b[0m, in \u001b[0;36m_wrapreduction\u001b[0;34m(obj, ufunc, method, axis, dtype, out, **kwargs)\u001b[0m\n\u001b[1;32m     83\u001b[0m         \u001b[38;5;28;01melse\u001b[39;00m:\n\u001b[1;32m     84\u001b[0m             \u001b[38;5;28;01mreturn\u001b[39;00m reduction(axis\u001b[38;5;241m=\u001b[39maxis, out\u001b[38;5;241m=\u001b[39mout, \u001b[38;5;241m*\u001b[39m\u001b[38;5;241m*\u001b[39mpasskwargs)\n\u001b[0;32m---> 86\u001b[0m \u001b[38;5;28;01mreturn\u001b[39;00m \u001b[43mufunc\u001b[49m\u001b[38;5;241;43m.\u001b[39;49m\u001b[43mreduce\u001b[49m\u001b[43m(\u001b[49m\u001b[43mobj\u001b[49m\u001b[43m,\u001b[49m\u001b[43m \u001b[49m\u001b[43maxis\u001b[49m\u001b[43m,\u001b[49m\u001b[43m \u001b[49m\u001b[43mdtype\u001b[49m\u001b[43m,\u001b[49m\u001b[43m \u001b[49m\u001b[43mout\u001b[49m\u001b[43m,\u001b[49m\u001b[43m \u001b[49m\u001b[38;5;241;43m*\u001b[39;49m\u001b[38;5;241;43m*\u001b[39;49m\u001b[43mpasskwargs\u001b[49m\u001b[43m)\u001b[49m\n",
      "\u001b[0;31mValueError\u001b[0m: zero-size array to reduction operation maximum which has no identity"
     ]
    }
   ],
   "source": [
    "# test\n",
    "\n",
    "from pde import VectorField, ScalarField, UnitGrid, PlotTracker\n",
    "import random\n",
    "\n",
    "random.seed(42)\n",
    "\n",
    "grid = pde.CartesianGrid([[-10, 10], [-10, 10]], 32)\n",
    "state = pde.ScalarField.from_expression(grid, 'exp(-x**2-y**2)')\n",
    "motion = pde.VectorField.from_expression(grid, ['1', '1']) # omega\n",
    "\n",
    "#eq = pde.PDE({'c': 'laplace(c) - dot(motion, gradient(c))'}, \n",
    "#             consts={'motion': motion})\n",
    "\n",
    "eq = AdvectionDiffusionPDE(motion=motion)\n",
    "\n",
    "storage = pde.MemoryStorage()\n",
    "\n",
    "trackers = [\n",
    "    \"progress\",  # show progress bar during simulation\n",
    "    \"steady_state\",  # abort when steady state is reached\n",
    "    storage.tracker(interval=1),  # store data every simulation time unit\n",
    "    pde.PlotTracker(show=True),  # show images during simulation\n",
    "    # print some output every 5 real seconds:\n",
    "    pde.PrintTracker(interval=pde.RealtimeInterrupts(duration=5)),\n",
    "]\n",
    "\n",
    "result = eq.solve(state, t_range=10, dt=0.01, tracker=trackers)\n",
    "\n",
    "for field in storage:\n",
    "    print(field.integral)"
   ]
  },
  {
   "cell_type": "markdown",
   "id": "11008f77",
   "metadata": {},
   "source": [
    "https://py-pde.readthedocs.io/en/latest/manual/advanced_usage.html#custom-pde-classes\n",
    "https://github.com/zwicker-group/py-pde/discussions/206\n",
    "https://github.com/zwicker-group/py-pde/discussions?discussions_q=diffusion"
   ]
  },
  {
   "cell_type": "markdown",
   "id": "9f71b208",
   "metadata": {},
   "source": [
    "# Simulate Data Using PDE Solver"
   ]
  },
  {
   "cell_type": "markdown",
   "id": "bc4c1914",
   "metadata": {},
   "source": [
    "For this step, we use the PDE solver `py-pde` and the instructions from [here](https://pypi.org/project/py-pde/)."
   ]
  },
  {
   "cell_type": "code",
   "execution_count": null,
   "id": "16d8d85a",
   "metadata": {},
   "outputs": [],
   "source": [
    "grid = pde.UnitGrid(64, 64)                 # generate a grid\n",
    "init = pde.ScalarField.random_uniform(grid) # generate initial conditions on the grid\n",
    "\n"
   ]
  }
 ],
 "metadata": {
  "kernelspec": {
   "display_name": "Python 3 (ipykernel)",
   "language": "python",
   "name": "python3"
  },
  "language_info": {
   "codemirror_mode": {
    "name": "ipython",
    "version": 3
   },
   "file_extension": ".py",
   "mimetype": "text/x-python",
   "name": "python",
   "nbconvert_exporter": "python",
   "pygments_lexer": "ipython3",
   "version": "3.9.16"
  },
  "toc": {
   "base_numbering": 1,
   "nav_menu": {},
   "number_sections": true,
   "sideBar": true,
   "skip_h1_title": false,
   "title_cell": "Table of Contents",
   "title_sidebar": "Contents",
   "toc_cell": true,
   "toc_position": {},
   "toc_section_display": true,
   "toc_window_display": false
  }
 },
 "nbformat": 4,
 "nbformat_minor": 5
}
